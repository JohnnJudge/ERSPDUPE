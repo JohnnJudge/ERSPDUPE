{
 "cells": [
  {
   "cell_type": "code",
   "execution_count": 1,
   "metadata": {},
   "outputs": [
    {
     "name": "stderr",
     "output_type": "stream",
     "text": [
      "2020-11-24 17:59:57,444 : INFO : Lock 140626638333712 acquired on /Users/alex/.cache/torch/transformers/45c3f7a79a80e1cf0a489e5c62b43f173c15db47864303a55d623bb3c96f72a5.d789d64ebfe299b0e416afc4a169632f903f693095b4629a7ea271d5a0cf2c99.lock\n"
     ]
    },
    {
     "data": {
      "application/vnd.jupyter.widget-view+json": {
       "model_id": "f6331777fd034ad891b2b7ac403f4079",
       "version_major": 2,
       "version_minor": 0
      },
      "text/plain": [
       "HBox(children=(HTML(value='Downloading'), FloatProgress(value=0.0, max=231508.0), HTML(value='')))"
      ]
     },
     "metadata": {},
     "output_type": "display_data"
    },
    {
     "name": "stderr",
     "output_type": "stream",
     "text": [
      "2020-11-24 17:59:58,229 : INFO : Lock 140626638333712 released on /Users/alex/.cache/torch/transformers/45c3f7a79a80e1cf0a489e5c62b43f173c15db47864303a55d623bb3c96f72a5.d789d64ebfe299b0e416afc4a169632f903f693095b4629a7ea271d5a0cf2c99.lock\n"
     ]
    },
    {
     "name": "stdout",
     "output_type": "stream",
     "text": [
      "\n"
     ]
    }
   ],
   "source": [
    "import pandas as pd\n",
    "import json\n",
    "import pickle\n",
    "import numpy as np\n",
    "from sklearn.model_selection import train_test_split\n",
    "from sklearn.ensemble import RandomForestRegressor\n",
    "from sklearn.metrics import mean_squared_error, mean_absolute_error, pairwise\n",
    "import nltk\n",
    "from nltk.tokenize import word_tokenize\n",
    "import os\n",
    "import spacy\n",
    "import gensim\n",
    "import logging\n",
    "logging.basicConfig(format='%(asctime)s : %(levelname)s : %(message)s', level=logging.INFO)\n",
    "from itertools import permutations\n",
    "from sklearn.metrics import confusion_matrix\n",
    "from sklearn.ensemble import RandomForestClassifier\n",
    "from scipy import spatial\n",
    "import random\n",
    "import torch\n",
    "from transformers import BertTokenizer, BertModel\n",
    "import logging\n",
    "import matplotlib.pyplot as plt\n",
    "\n",
    "# Load pre-trained model tokenizer (vocabulary)\n",
    "tokenizer = BertTokenizer.from_pretrained('bert-base-uncased')\n",
    "nlp = spacy.load('en_core_web_sm')"
   ]
  },
  {
   "cell_type": "code",
   "execution_count": 2,
   "metadata": {},
   "outputs": [
    {
     "data": {
      "text/html": [
       "<div>\n",
       "<style scoped>\n",
       "    .dataframe tbody tr th:only-of-type {\n",
       "        vertical-align: middle;\n",
       "    }\n",
       "\n",
       "    .dataframe tbody tr th {\n",
       "        vertical-align: top;\n",
       "    }\n",
       "\n",
       "    .dataframe thead th {\n",
       "        text-align: right;\n",
       "    }\n",
       "</style>\n",
       "<table border=\"1\" class=\"dataframe\">\n",
       "  <thead>\n",
       "    <tr style=\"text-align: right;\">\n",
       "      <th></th>\n",
       "      <th>overview</th>\n",
       "      <th>headline</th>\n",
       "      <th>text</th>\n",
       "      <th>sectionLabel</th>\n",
       "      <th>title</th>\n",
       "    </tr>\n",
       "  </thead>\n",
       "  <tbody>\n",
       "    <tr>\n",
       "      <td>0</td>\n",
       "      <td>So you're a new or aspiring artist and your c...</td>\n",
       "      <td>\\nSell yourself first.</td>\n",
       "      <td>Before doing anything else, stop and sum up y...</td>\n",
       "      <td>Steps</td>\n",
       "      <td>How to Sell Fine Art Online</td>\n",
       "    </tr>\n",
       "    <tr>\n",
       "      <td>1</td>\n",
       "      <td>If you want to be well-read, then, in the wor...</td>\n",
       "      <td>\\nRead the classics before 1600.</td>\n",
       "      <td>Reading the classics is the very first thing ...</td>\n",
       "      <td>Reading the Classics</td>\n",
       "      <td>How to Be Well Read</td>\n",
       "    </tr>\n",
       "    <tr>\n",
       "      <td>2</td>\n",
       "      <td>So you're a new or aspiring artist and your c...</td>\n",
       "      <td>\\nJoin online artist communities.</td>\n",
       "      <td>Depending on what scale you intend to sell yo...</td>\n",
       "      <td>Steps</td>\n",
       "      <td>How to Sell Fine Art Online</td>\n",
       "    </tr>\n",
       "    <tr>\n",
       "      <td>3</td>\n",
       "      <td>So you're a new or aspiring artist and your c...</td>\n",
       "      <td>\\nMake yourself public.</td>\n",
       "      <td>Get yourself out there as best as you can by ...</td>\n",
       "      <td>Steps</td>\n",
       "      <td>How to Sell Fine Art Online</td>\n",
       "    </tr>\n",
       "    <tr>\n",
       "      <td>4</td>\n",
       "      <td>So you're a new or aspiring artist and your c...</td>\n",
       "      <td>\\nBlog about your artwork.</td>\n",
       "      <td>Given the hundreds of free blogging websites,...</td>\n",
       "      <td>Steps</td>\n",
       "      <td>How to Sell Fine Art Online</td>\n",
       "    </tr>\n",
       "  </tbody>\n",
       "</table>\n",
       "</div>"
      ],
      "text/plain": [
       "                                            overview  \\\n",
       "0   So you're a new or aspiring artist and your c...   \n",
       "1   If you want to be well-read, then, in the wor...   \n",
       "2   So you're a new or aspiring artist and your c...   \n",
       "3   So you're a new or aspiring artist and your c...   \n",
       "4   So you're a new or aspiring artist and your c...   \n",
       "\n",
       "                            headline  \\\n",
       "0             \\nSell yourself first.   \n",
       "1   \\nRead the classics before 1600.   \n",
       "2  \\nJoin online artist communities.   \n",
       "3            \\nMake yourself public.   \n",
       "4         \\nBlog about your artwork.   \n",
       "\n",
       "                                                text          sectionLabel  \\\n",
       "0   Before doing anything else, stop and sum up y...                 Steps   \n",
       "1   Reading the classics is the very first thing ...  Reading the Classics   \n",
       "2   Depending on what scale you intend to sell yo...                 Steps   \n",
       "3   Get yourself out there as best as you can by ...                 Steps   \n",
       "4   Given the hundreds of free blogging websites,...                 Steps   \n",
       "\n",
       "                         title  \n",
       "0  How to Sell Fine Art Online  \n",
       "1          How to Be Well Read  \n",
       "2  How to Sell Fine Art Online  \n",
       "3  How to Sell Fine Art Online  \n",
       "4  How to Sell Fine Art Online  "
      ]
     },
     "execution_count": 2,
     "metadata": {},
     "output_type": "execute_result"
    }
   ],
   "source": [
    "original = pd.read_csv('~/Downloads/wikihowSep.csv')\n",
    "original.head()"
   ]
  },
  {
   "cell_type": "code",
   "execution_count": 3,
   "metadata": {},
   "outputs": [],
   "source": [
    "# drop rows where at least 1 element is missing\n",
    "df = original.dropna()\n",
    "#use only subset of data\n",
    "df = df[:1000]\n",
    "test_df = df[1000:1200]"
   ]
  },
  {
   "cell_type": "code",
   "execution_count": 4,
   "metadata": {},
   "outputs": [],
   "source": [
    "#remove singleton titles\n",
    "for title in df['title']:\n",
    "    if (df.title == title).sum() <= 1:\n",
    "        df = df[df.title != title]\n",
    "#print(df['title'].value_counts())"
   ]
  },
  {
   "cell_type": "code",
   "execution_count": 5,
   "metadata": {},
   "outputs": [],
   "source": [
    "#remove extra spaces, newlines, and incorrect ending punctuation\n",
    "def cleanText(string) -> str:\n",
    "    lyst = string.split()\n",
    "    return \" \".join(lyst).strip(\";\")"
   ]
  },
  {
   "cell_type": "code",
   "execution_count": 6,
   "metadata": {},
   "outputs": [],
   "source": [
    "def process_instructions(dataframe) -> dict:\n",
    "    # dictionary of title (article) to text (list of steps)\n",
    "    wikihow = dict()\n",
    "\n",
    "    for idx, row in df.iterrows():\n",
    "        title = row['title']\n",
    "        text = cleanText(row['headline']) + \" \" + cleanText(row['text'])\n",
    "        if title and text:\n",
    "            if title in wikihow:\n",
    "                wikihow[title].append(text)\n",
    "            else:\n",
    "                wikihow[title] = [text]\n",
    "    \n",
    "    return wikihow"
   ]
  },
  {
   "cell_type": "code",
   "execution_count": 7,
   "metadata": {},
   "outputs": [],
   "source": [
    "# pairs of (instruction, rank)\n",
    "def get_instruction_rank(database: dict) -> list:\n",
    "    instruction_rank = list()\n",
    "    \n",
    "    for article, instructions in database.items():\n",
    "        for idx, step in enumerate(instructions, start=1):\n",
    "            instruction_rank.append((step, idx / len(instructions)))\n",
    "    \n",
    "    return instruction_rank"
   ]
  },
  {
   "cell_type": "code",
   "execution_count": 8,
   "metadata": {},
   "outputs": [],
   "source": [
    "# convert text instructions to a vector with spacy\n",
    "def convert_vector(instruction_rank: list, num_examples: int) -> list:\n",
    "    vector_rank = list()\n",
    "    \n",
    "    for step in instruction_rank[:num_examples]:\n",
    "        instruction1, rank1,instruction2,rank2,tf = step[0][0], step[0][1],step[1][0],step[1][1],step[2]\n",
    "        doc1 = model.infer_vector(gensim.utils.simple_preprocess(instruction1))\n",
    "        doc2 = model.infer_vector(gensim.utils.simple_preprocess(instruction2))\n",
    "        vector_rank.append((doc1,doc2,tf))\n",
    "    \n",
    "    return vector_rank"
   ]
  },
  {
   "cell_type": "code",
   "execution_count": 9,
   "metadata": {},
   "outputs": [],
   "source": [
    "wikihow = process_instructions(dataframe=df)\n",
    "processed_test = process_instructions(dataframe=df)\n",
    "# number of articles\n",
    "len(df)\n",
    "sample = wikihow['How to Sell Fine Art Online']"
   ]
  },
  {
   "cell_type": "code",
   "execution_count": 10,
   "metadata": {},
   "outputs": [],
   "source": [
    "def addRank(lyst):\n",
    "    ranked = list()\n",
    "    for index, element in enumerate(lyst):\n",
    "        ranked.append((element, index))\n",
    "    return ranked"
   ]
  },
  {
   "cell_type": "code",
   "execution_count": 11,
   "metadata": {},
   "outputs": [],
   "source": [
    "def inOrder(lyst):\n",
    "    ordered = list()\n",
    "    for element in lyst:\n",
    "        element = list(element)\n",
    "        element.append(element[0][1] < element[1][1])\n",
    "        ordered.append(tuple(element))\n",
    "    return ordered"
   ]
  },
  {
   "cell_type": "code",
   "execution_count": 12,
   "metadata": {},
   "outputs": [],
   "source": [
    "def makePairs(lyst):\n",
    "    perms = list(permutations(addRank(lyst), 2))\n",
    "    return inOrder(perms)"
   ]
  },
  {
   "cell_type": "code",
   "execution_count": 13,
   "metadata": {},
   "outputs": [],
   "source": [
    "def makePairsList(wiki):\n",
    "    pairslist = list()\n",
    "    for k in wiki.keys():\n",
    "        pairslist += makePairs(wikihow[k])\n",
    "    return pairslist\n",
    "pairs = makePairsList(wikihow)\n",
    "test_pairs = makePairsList(processed_test)"
   ]
  },
  {
   "cell_type": "code",
   "execution_count": 14,
   "metadata": {},
   "outputs": [
    {
     "data": {
      "text/plain": [
       "[((\"Sell yourself first. Before doing anything else, stop and sum up yourself as an artist. Now, think about how to translate that to an online profile. Be it the few words, Twitter allows you or an entire page of indulgence that your own website would allow you. Bring out the most salient features of your creativity, your experience, your passion, and your reasons for painting. Make it clear to readers why you are an artist who loves art, produces high quality art, and is a true champion of art. If you're not great with words, find a friend who can help you with this really important aspect of selling online – the establishment of your credibility and reliability.\",\n",
       "   0),\n",
       "  ('Join online artist communities. Depending on what scale you intend to sell your art pieces, you may want to get an account on an online art community or store, like Deviant Art. With 15% -20 % brokerage, you can also find many online art galleries like Art Brokerage, Diva Art Group, or Saatchi Art that will show your artwork online and sell them to the buyer in completely secured transaction. There are also many other possible sites, such as Etsy (heavier on the crafts but still arty), eBay (auction site), an Amazon store (an online store platform), CafePress (for printing your artwork onto stuff like mugs), Craigslist (general classifieds), and quite a lot of other artwork based sales sites (do a general search). Read the terms and conditions of every site very carefully. Know what commission or percentage the site takes, know what protections (or lack of them) that the site offers, know what clientele generally peruse the site, know the general sales brought in by the site, know everything you can that is relevant to your sales. If your goal is to turn your art into an investment property, then selling online is likely to be a much longer path to this end. This is largely because it is generally more difficult for unknown artists to secure higher priced sales with serious collectors online than it is through a traditional gallery where such concrete decisions can be made safely. It is best to see selling art online as an adjunct to your usual methods of selling art, not your only means.',\n",
       "   1),\n",
       "  True),\n",
       " ((\"Sell yourself first. Before doing anything else, stop and sum up yourself as an artist. Now, think about how to translate that to an online profile. Be it the few words, Twitter allows you or an entire page of indulgence that your own website would allow you. Bring out the most salient features of your creativity, your experience, your passion, and your reasons for painting. Make it clear to readers why you are an artist who loves art, produces high quality art, and is a true champion of art. If you're not great with words, find a friend who can help you with this really important aspect of selling online – the establishment of your credibility and reliability.\",\n",
       "   0),\n",
       "  ('Make yourself public. Get yourself out there as best as you can by advertising yourself. Publish some \"example\" pieces around the web to show what you can do and to demonstrate your style. Be sure to add a watermark to your digital version to protect your artwork from art thieves. Spend a little time researching online the ways in which other artists are promoting themselves. What works for them and what doesn\\'t? What do you like about their promotional strategies and what do you want to avoid? This type of research can give you a lot of ideas and also alert you to potential pitfalls for the ways in which you will promote your own artwork. Bookmark the sites of artists selling online that really inspire you, so that you can come back to them regularly to see how they\\'re evolving and succeeding. Seize the power of Twitter and Facebook to increase people\\'s knowledge of you. Tweet updates about your new paintings, your thoughts about art, and news items about art in general. On Facebook, place photos of your artwork, (digitally watermarked), photos of you receiving awards, and information about your art, artwork in general, and perhaps even some critiques of artwork.',\n",
       "   2),\n",
       "  True),\n",
       " ((\"Sell yourself first. Before doing anything else, stop and sum up yourself as an artist. Now, think about how to translate that to an online profile. Be it the few words, Twitter allows you or an entire page of indulgence that your own website would allow you. Bring out the most salient features of your creativity, your experience, your passion, and your reasons for painting. Make it clear to readers why you are an artist who loves art, produces high quality art, and is a true champion of art. If you're not great with words, find a friend who can help you with this really important aspect of selling online – the establishment of your credibility and reliability.\",\n",
       "   0),\n",
       "  ('Blog about your artwork. Given the hundreds of free blogging websites, you have a lot of choice in keeping a blog. Most importantly, it\\'s extremely useful to keep it updated regularly - this gives people something \"pretty to look at\", and a story to follow as your reputation increases and your sales story grows. A blog can pick up a lot of hits from search engines if you utilize the keywords feature accurately; use it to your advantage. Be sure to name your blog something simple but memorable – you\\'ll want people to be able to find you with ease. Read How to start a blog and How to increase website traffic for free for assistance. A good way to test keywords for very little cost is through using an auction site. Play around with the words you use to title your art sales, as well as the words used within the body of the text. Keep changing the words until you find the sweet spot – words that really do seem to attract the most views.',\n",
       "   3),\n",
       "  True),\n",
       " ((\"Sell yourself first. Before doing anything else, stop and sum up yourself as an artist. Now, think about how to translate that to an online profile. Be it the few words, Twitter allows you or an entire page of indulgence that your own website would allow you. Bring out the most salient features of your creativity, your experience, your passion, and your reasons for painting. Make it clear to readers why you are an artist who loves art, produces high quality art, and is a true champion of art. If you're not great with words, find a friend who can help you with this really important aspect of selling online – the establishment of your credibility and reliability.\",\n",
       "   0),\n",
       "  (\"Create a mailing list. This could be your most effective tool if managed well. For every sale you make, every person who sends you an email that might be interested, get all of their email addresses in digital database ready for mass emailing. At designated intervals (once a month, every other week, whenever you start a new series) send them all nice, grammatically correct, friendly emails, complete with a neatly set-out portfolio of the pictures of your recent work (a PDF can work well for this purpose). This keeps you on the radar of past customers, which is important. And if it's a really wonderful newsletter, you might get lucky and they might send it to all of their friends as well – then even more eyes are seeing your work! Every thoughtful mailing list includes an opt-out option. Don't be threatened by this; see it as good housekeeping and as retaining the clients who really do want to see your items. You're not online to hassle people who aren't interested!\",\n",
       "   4),\n",
       "  True),\n",
       " ((\"Sell yourself first. Before doing anything else, stop and sum up yourself as an artist. Now, think about how to translate that to an online profile. Be it the few words, Twitter allows you or an entire page of indulgence that your own website would allow you. Bring out the most salient features of your creativity, your experience, your passion, and your reasons for painting. Make it clear to readers why you are an artist who loves art, produces high quality art, and is a true champion of art. If you're not great with words, find a friend who can help you with this really important aspect of selling online – the establishment of your credibility and reliability.\",\n",
       "   0),\n",
       "  ('Take good pictures. Like they say, \"a picture\\'s worth a thousand words\" and you\\'ll want your impression on potential customers to be good. Show detail, right down to paint strokes and paint type. Be willing to show potential buyers multiple shots of your work under different light, hung on a wall, etc. This may be the only way to alleviate the justifiable fear many people have of buying a work of art that they have never seen in person. Bear in mind that not everyone has a good internet connection. Balance great photos with ease of downloading time. Talk to a web specialist if you\\'re not sure what to do. For more photography tips of relevance, read How to take better product photographs for free and How to take catalog photos.',\n",
       "   5),\n",
       "  True),\n",
       " ((\"Sell yourself first. Before doing anything else, stop and sum up yourself as an artist. Now, think about how to translate that to an online profile. Be it the few words, Twitter allows you or an entire page of indulgence that your own website would allow you. Bring out the most salient features of your creativity, your experience, your passion, and your reasons for painting. Make it clear to readers why you are an artist who loves art, produces high quality art, and is a true champion of art. If you're not great with words, find a friend who can help you with this really important aspect of selling online – the establishment of your credibility and reliability.\",\n",
       "   0),\n",
       "  ('Be sure to properly license your art. Licensing art is a way of proving what belongs to whom. It is a necessary bookkeeping in the arts department and will help you if there is a dispute about originality, ownership, or moral rights.',\n",
       "   6),\n",
       "  True),\n",
       " ((\"Sell yourself first. Before doing anything else, stop and sum up yourself as an artist. Now, think about how to translate that to an online profile. Be it the few words, Twitter allows you or an entire page of indulgence that your own website would allow you. Bring out the most salient features of your creativity, your experience, your passion, and your reasons for painting. Make it clear to readers why you are an artist who loves art, produces high quality art, and is a true champion of art. If you're not great with words, find a friend who can help you with this really important aspect of selling online – the establishment of your credibility and reliability.\",\n",
       "   0),\n",
       "  (\"Consider the option of creating your own site. Having your own site means that you can optimize every page for search engines and it sets you apart from the many artists who only use general art sales sites. Having your own website means that the viewer is not distracted by other artists and their work whilst browsing your art and your own name is likely to gain in reputation faster. You can sell directly from your site via email correspondence with potential buyers (ask them to contact you for prices, to make a purchase etc.). If you're serious about selling your art online with your own site, then it's essential with a domain name that is either your own name or the name that you want people to associate you with your art. For example, you could use a domain made up of your first and last name such as firstnamelastname.com or if you work under a pseudonym then you could use a domain name using that i.e. pseudonym.com. Give serious consideration to making your website as much like a virtual art gallery as possible. Encourage potential clients to wander through and see your paintings in a leisurely, gallery-like manner to increase their viewing enjoyment. Add prices and contact details. People want to see the price, so don't hide it or expect the customer to come up with one for you. And be available to answer their questions in a timely fashion. When creating your own website, you need to find a secure method for accepting payment and you might even consider implementing an escrow system. The more expensive your artwork is, the more careful you will need to be about money handling, including acceptance of returns and refunds. There are various methods in existence online for the safe transference of money; do your research to find out what works best for your local needs and for your global market.\",\n",
       "   7),\n",
       "  True),\n",
       " ((\"Sell yourself first. Before doing anything else, stop and sum up yourself as an artist. Now, think about how to translate that to an online profile. Be it the few words, Twitter allows you or an entire page of indulgence that your own website would allow you. Bring out the most salient features of your creativity, your experience, your passion, and your reasons for painting. Make it clear to readers why you are an artist who loves art, produces high quality art, and is a true champion of art. If you're not great with words, find a friend who can help you with this really important aspect of selling online – the establishment of your credibility and reliability.\",\n",
       "   0),\n",
       "  (\"Expect this to be a gradual process and don't expect to sell a lot right away. An online art business needs to be built up little by little. It's much the same as putting together a company (indeed, you should treat your online art sales as a business) – you will try to make your name known, or at least give people a hint on who you are as an artist, develop your services as you grow, and gain in reputation as time goes on. It may feel like a long time at the beginning but solid and patient foundations will set you up for a good future, as well as maintaining a positive attitude about what you're doing. Attend as many relevant art shows to show your work as you can. If the shows are juried, display the awards your art has won as part of your profiles or website backgrounds.\",\n",
       "   8),\n",
       "  True),\n",
       " (('Join online artist communities. Depending on what scale you intend to sell your art pieces, you may want to get an account on an online art community or store, like Deviant Art. With 15% -20 % brokerage, you can also find many online art galleries like Art Brokerage, Diva Art Group, or Saatchi Art that will show your artwork online and sell them to the buyer in completely secured transaction. There are also many other possible sites, such as Etsy (heavier on the crafts but still arty), eBay (auction site), an Amazon store (an online store platform), CafePress (for printing your artwork onto stuff like mugs), Craigslist (general classifieds), and quite a lot of other artwork based sales sites (do a general search). Read the terms and conditions of every site very carefully. Know what commission or percentage the site takes, know what protections (or lack of them) that the site offers, know what clientele generally peruse the site, know the general sales brought in by the site, know everything you can that is relevant to your sales. If your goal is to turn your art into an investment property, then selling online is likely to be a much longer path to this end. This is largely because it is generally more difficult for unknown artists to secure higher priced sales with serious collectors online than it is through a traditional gallery where such concrete decisions can be made safely. It is best to see selling art online as an adjunct to your usual methods of selling art, not your only means.',\n",
       "   1),\n",
       "  (\"Sell yourself first. Before doing anything else, stop and sum up yourself as an artist. Now, think about how to translate that to an online profile. Be it the few words, Twitter allows you or an entire page of indulgence that your own website would allow you. Bring out the most salient features of your creativity, your experience, your passion, and your reasons for painting. Make it clear to readers why you are an artist who loves art, produces high quality art, and is a true champion of art. If you're not great with words, find a friend who can help you with this really important aspect of selling online – the establishment of your credibility and reliability.\",\n",
       "   0),\n",
       "  False),\n",
       " (('Join online artist communities. Depending on what scale you intend to sell your art pieces, you may want to get an account on an online art community or store, like Deviant Art. With 15% -20 % brokerage, you can also find many online art galleries like Art Brokerage, Diva Art Group, or Saatchi Art that will show your artwork online and sell them to the buyer in completely secured transaction. There are also many other possible sites, such as Etsy (heavier on the crafts but still arty), eBay (auction site), an Amazon store (an online store platform), CafePress (for printing your artwork onto stuff like mugs), Craigslist (general classifieds), and quite a lot of other artwork based sales sites (do a general search). Read the terms and conditions of every site very carefully. Know what commission or percentage the site takes, know what protections (or lack of them) that the site offers, know what clientele generally peruse the site, know the general sales brought in by the site, know everything you can that is relevant to your sales. If your goal is to turn your art into an investment property, then selling online is likely to be a much longer path to this end. This is largely because it is generally more difficult for unknown artists to secure higher priced sales with serious collectors online than it is through a traditional gallery where such concrete decisions can be made safely. It is best to see selling art online as an adjunct to your usual methods of selling art, not your only means.',\n",
       "   1),\n",
       "  ('Make yourself public. Get yourself out there as best as you can by advertising yourself. Publish some \"example\" pieces around the web to show what you can do and to demonstrate your style. Be sure to add a watermark to your digital version to protect your artwork from art thieves. Spend a little time researching online the ways in which other artists are promoting themselves. What works for them and what doesn\\'t? What do you like about their promotional strategies and what do you want to avoid? This type of research can give you a lot of ideas and also alert you to potential pitfalls for the ways in which you will promote your own artwork. Bookmark the sites of artists selling online that really inspire you, so that you can come back to them regularly to see how they\\'re evolving and succeeding. Seize the power of Twitter and Facebook to increase people\\'s knowledge of you. Tweet updates about your new paintings, your thoughts about art, and news items about art in general. On Facebook, place photos of your artwork, (digitally watermarked), photos of you receiving awards, and information about your art, artwork in general, and perhaps even some critiques of artwork.',\n",
       "   2),\n",
       "  True),\n",
       " (('Join online artist communities. Depending on what scale you intend to sell your art pieces, you may want to get an account on an online art community or store, like Deviant Art. With 15% -20 % brokerage, you can also find many online art galleries like Art Brokerage, Diva Art Group, or Saatchi Art that will show your artwork online and sell them to the buyer in completely secured transaction. There are also many other possible sites, such as Etsy (heavier on the crafts but still arty), eBay (auction site), an Amazon store (an online store platform), CafePress (for printing your artwork onto stuff like mugs), Craigslist (general classifieds), and quite a lot of other artwork based sales sites (do a general search). Read the terms and conditions of every site very carefully. Know what commission or percentage the site takes, know what protections (or lack of them) that the site offers, know what clientele generally peruse the site, know the general sales brought in by the site, know everything you can that is relevant to your sales. If your goal is to turn your art into an investment property, then selling online is likely to be a much longer path to this end. This is largely because it is generally more difficult for unknown artists to secure higher priced sales with serious collectors online than it is through a traditional gallery where such concrete decisions can be made safely. It is best to see selling art online as an adjunct to your usual methods of selling art, not your only means.',\n",
       "   1),\n",
       "  ('Blog about your artwork. Given the hundreds of free blogging websites, you have a lot of choice in keeping a blog. Most importantly, it\\'s extremely useful to keep it updated regularly - this gives people something \"pretty to look at\", and a story to follow as your reputation increases and your sales story grows. A blog can pick up a lot of hits from search engines if you utilize the keywords feature accurately; use it to your advantage. Be sure to name your blog something simple but memorable – you\\'ll want people to be able to find you with ease. Read How to start a blog and How to increase website traffic for free for assistance. A good way to test keywords for very little cost is through using an auction site. Play around with the words you use to title your art sales, as well as the words used within the body of the text. Keep changing the words until you find the sweet spot – words that really do seem to attract the most views.',\n",
       "   3),\n",
       "  True),\n",
       " (('Join online artist communities. Depending on what scale you intend to sell your art pieces, you may want to get an account on an online art community or store, like Deviant Art. With 15% -20 % brokerage, you can also find many online art galleries like Art Brokerage, Diva Art Group, or Saatchi Art that will show your artwork online and sell them to the buyer in completely secured transaction. There are also many other possible sites, such as Etsy (heavier on the crafts but still arty), eBay (auction site), an Amazon store (an online store platform), CafePress (for printing your artwork onto stuff like mugs), Craigslist (general classifieds), and quite a lot of other artwork based sales sites (do a general search). Read the terms and conditions of every site very carefully. Know what commission or percentage the site takes, know what protections (or lack of them) that the site offers, know what clientele generally peruse the site, know the general sales brought in by the site, know everything you can that is relevant to your sales. If your goal is to turn your art into an investment property, then selling online is likely to be a much longer path to this end. This is largely because it is generally more difficult for unknown artists to secure higher priced sales with serious collectors online than it is through a traditional gallery where such concrete decisions can be made safely. It is best to see selling art online as an adjunct to your usual methods of selling art, not your only means.',\n",
       "   1),\n",
       "  (\"Create a mailing list. This could be your most effective tool if managed well. For every sale you make, every person who sends you an email that might be interested, get all of their email addresses in digital database ready for mass emailing. At designated intervals (once a month, every other week, whenever you start a new series) send them all nice, grammatically correct, friendly emails, complete with a neatly set-out portfolio of the pictures of your recent work (a PDF can work well for this purpose). This keeps you on the radar of past customers, which is important. And if it's a really wonderful newsletter, you might get lucky and they might send it to all of their friends as well – then even more eyes are seeing your work! Every thoughtful mailing list includes an opt-out option. Don't be threatened by this; see it as good housekeeping and as retaining the clients who really do want to see your items. You're not online to hassle people who aren't interested!\",\n",
       "   4),\n",
       "  True),\n",
       " (('Join online artist communities. Depending on what scale you intend to sell your art pieces, you may want to get an account on an online art community or store, like Deviant Art. With 15% -20 % brokerage, you can also find many online art galleries like Art Brokerage, Diva Art Group, or Saatchi Art that will show your artwork online and sell them to the buyer in completely secured transaction. There are also many other possible sites, such as Etsy (heavier on the crafts but still arty), eBay (auction site), an Amazon store (an online store platform), CafePress (for printing your artwork onto stuff like mugs), Craigslist (general classifieds), and quite a lot of other artwork based sales sites (do a general search). Read the terms and conditions of every site very carefully. Know what commission or percentage the site takes, know what protections (or lack of them) that the site offers, know what clientele generally peruse the site, know the general sales brought in by the site, know everything you can that is relevant to your sales. If your goal is to turn your art into an investment property, then selling online is likely to be a much longer path to this end. This is largely because it is generally more difficult for unknown artists to secure higher priced sales with serious collectors online than it is through a traditional gallery where such concrete decisions can be made safely. It is best to see selling art online as an adjunct to your usual methods of selling art, not your only means.',\n",
       "   1),\n",
       "  ('Take good pictures. Like they say, \"a picture\\'s worth a thousand words\" and you\\'ll want your impression on potential customers to be good. Show detail, right down to paint strokes and paint type. Be willing to show potential buyers multiple shots of your work under different light, hung on a wall, etc. This may be the only way to alleviate the justifiable fear many people have of buying a work of art that they have never seen in person. Bear in mind that not everyone has a good internet connection. Balance great photos with ease of downloading time. Talk to a web specialist if you\\'re not sure what to do. For more photography tips of relevance, read How to take better product photographs for free and How to take catalog photos.',\n",
       "   5),\n",
       "  True),\n",
       " (('Join online artist communities. Depending on what scale you intend to sell your art pieces, you may want to get an account on an online art community or store, like Deviant Art. With 15% -20 % brokerage, you can also find many online art galleries like Art Brokerage, Diva Art Group, or Saatchi Art that will show your artwork online and sell them to the buyer in completely secured transaction. There are also many other possible sites, such as Etsy (heavier on the crafts but still arty), eBay (auction site), an Amazon store (an online store platform), CafePress (for printing your artwork onto stuff like mugs), Craigslist (general classifieds), and quite a lot of other artwork based sales sites (do a general search). Read the terms and conditions of every site very carefully. Know what commission or percentage the site takes, know what protections (or lack of them) that the site offers, know what clientele generally peruse the site, know the general sales brought in by the site, know everything you can that is relevant to your sales. If your goal is to turn your art into an investment property, then selling online is likely to be a much longer path to this end. This is largely because it is generally more difficult for unknown artists to secure higher priced sales with serious collectors online than it is through a traditional gallery where such concrete decisions can be made safely. It is best to see selling art online as an adjunct to your usual methods of selling art, not your only means.',\n",
       "   1),\n",
       "  ('Be sure to properly license your art. Licensing art is a way of proving what belongs to whom. It is a necessary bookkeeping in the arts department and will help you if there is a dispute about originality, ownership, or moral rights.',\n",
       "   6),\n",
       "  True),\n",
       " (('Join online artist communities. Depending on what scale you intend to sell your art pieces, you may want to get an account on an online art community or store, like Deviant Art. With 15% -20 % brokerage, you can also find many online art galleries like Art Brokerage, Diva Art Group, or Saatchi Art that will show your artwork online and sell them to the buyer in completely secured transaction. There are also many other possible sites, such as Etsy (heavier on the crafts but still arty), eBay (auction site), an Amazon store (an online store platform), CafePress (for printing your artwork onto stuff like mugs), Craigslist (general classifieds), and quite a lot of other artwork based sales sites (do a general search). Read the terms and conditions of every site very carefully. Know what commission or percentage the site takes, know what protections (or lack of them) that the site offers, know what clientele generally peruse the site, know the general sales brought in by the site, know everything you can that is relevant to your sales. If your goal is to turn your art into an investment property, then selling online is likely to be a much longer path to this end. This is largely because it is generally more difficult for unknown artists to secure higher priced sales with serious collectors online than it is through a traditional gallery where such concrete decisions can be made safely. It is best to see selling art online as an adjunct to your usual methods of selling art, not your only means.',\n",
       "   1),\n",
       "  (\"Consider the option of creating your own site. Having your own site means that you can optimize every page for search engines and it sets you apart from the many artists who only use general art sales sites. Having your own website means that the viewer is not distracted by other artists and their work whilst browsing your art and your own name is likely to gain in reputation faster. You can sell directly from your site via email correspondence with potential buyers (ask them to contact you for prices, to make a purchase etc.). If you're serious about selling your art online with your own site, then it's essential with a domain name that is either your own name or the name that you want people to associate you with your art. For example, you could use a domain made up of your first and last name such as firstnamelastname.com or if you work under a pseudonym then you could use a domain name using that i.e. pseudonym.com. Give serious consideration to making your website as much like a virtual art gallery as possible. Encourage potential clients to wander through and see your paintings in a leisurely, gallery-like manner to increase their viewing enjoyment. Add prices and contact details. People want to see the price, so don't hide it or expect the customer to come up with one for you. And be available to answer their questions in a timely fashion. When creating your own website, you need to find a secure method for accepting payment and you might even consider implementing an escrow system. The more expensive your artwork is, the more careful you will need to be about money handling, including acceptance of returns and refunds. There are various methods in existence online for the safe transference of money; do your research to find out what works best for your local needs and for your global market.\",\n",
       "   7),\n",
       "  True),\n",
       " (('Join online artist communities. Depending on what scale you intend to sell your art pieces, you may want to get an account on an online art community or store, like Deviant Art. With 15% -20 % brokerage, you can also find many online art galleries like Art Brokerage, Diva Art Group, or Saatchi Art that will show your artwork online and sell them to the buyer in completely secured transaction. There are also many other possible sites, such as Etsy (heavier on the crafts but still arty), eBay (auction site), an Amazon store (an online store platform), CafePress (for printing your artwork onto stuff like mugs), Craigslist (general classifieds), and quite a lot of other artwork based sales sites (do a general search). Read the terms and conditions of every site very carefully. Know what commission or percentage the site takes, know what protections (or lack of them) that the site offers, know what clientele generally peruse the site, know the general sales brought in by the site, know everything you can that is relevant to your sales. If your goal is to turn your art into an investment property, then selling online is likely to be a much longer path to this end. This is largely because it is generally more difficult for unknown artists to secure higher priced sales with serious collectors online than it is through a traditional gallery where such concrete decisions can be made safely. It is best to see selling art online as an adjunct to your usual methods of selling art, not your only means.',\n",
       "   1),\n",
       "  (\"Expect this to be a gradual process and don't expect to sell a lot right away. An online art business needs to be built up little by little. It's much the same as putting together a company (indeed, you should treat your online art sales as a business) – you will try to make your name known, or at least give people a hint on who you are as an artist, develop your services as you grow, and gain in reputation as time goes on. It may feel like a long time at the beginning but solid and patient foundations will set you up for a good future, as well as maintaining a positive attitude about what you're doing. Attend as many relevant art shows to show your work as you can. If the shows are juried, display the awards your art has won as part of your profiles or website backgrounds.\",\n",
       "   8),\n",
       "  True),\n",
       " (('Make yourself public. Get yourself out there as best as you can by advertising yourself. Publish some \"example\" pieces around the web to show what you can do and to demonstrate your style. Be sure to add a watermark to your digital version to protect your artwork from art thieves. Spend a little time researching online the ways in which other artists are promoting themselves. What works for them and what doesn\\'t? What do you like about their promotional strategies and what do you want to avoid? This type of research can give you a lot of ideas and also alert you to potential pitfalls for the ways in which you will promote your own artwork. Bookmark the sites of artists selling online that really inspire you, so that you can come back to them regularly to see how they\\'re evolving and succeeding. Seize the power of Twitter and Facebook to increase people\\'s knowledge of you. Tweet updates about your new paintings, your thoughts about art, and news items about art in general. On Facebook, place photos of your artwork, (digitally watermarked), photos of you receiving awards, and information about your art, artwork in general, and perhaps even some critiques of artwork.',\n",
       "   2),\n",
       "  (\"Sell yourself first. Before doing anything else, stop and sum up yourself as an artist. Now, think about how to translate that to an online profile. Be it the few words, Twitter allows you or an entire page of indulgence that your own website would allow you. Bring out the most salient features of your creativity, your experience, your passion, and your reasons for painting. Make it clear to readers why you are an artist who loves art, produces high quality art, and is a true champion of art. If you're not great with words, find a friend who can help you with this really important aspect of selling online – the establishment of your credibility and reliability.\",\n",
       "   0),\n",
       "  False),\n",
       " (('Make yourself public. Get yourself out there as best as you can by advertising yourself. Publish some \"example\" pieces around the web to show what you can do and to demonstrate your style. Be sure to add a watermark to your digital version to protect your artwork from art thieves. Spend a little time researching online the ways in which other artists are promoting themselves. What works for them and what doesn\\'t? What do you like about their promotional strategies and what do you want to avoid? This type of research can give you a lot of ideas and also alert you to potential pitfalls for the ways in which you will promote your own artwork. Bookmark the sites of artists selling online that really inspire you, so that you can come back to them regularly to see how they\\'re evolving and succeeding. Seize the power of Twitter and Facebook to increase people\\'s knowledge of you. Tweet updates about your new paintings, your thoughts about art, and news items about art in general. On Facebook, place photos of your artwork, (digitally watermarked), photos of you receiving awards, and information about your art, artwork in general, and perhaps even some critiques of artwork.',\n",
       "   2),\n",
       "  ('Join online artist communities. Depending on what scale you intend to sell your art pieces, you may want to get an account on an online art community or store, like Deviant Art. With 15% -20 % brokerage, you can also find many online art galleries like Art Brokerage, Diva Art Group, or Saatchi Art that will show your artwork online and sell them to the buyer in completely secured transaction. There are also many other possible sites, such as Etsy (heavier on the crafts but still arty), eBay (auction site), an Amazon store (an online store platform), CafePress (for printing your artwork onto stuff like mugs), Craigslist (general classifieds), and quite a lot of other artwork based sales sites (do a general search). Read the terms and conditions of every site very carefully. Know what commission or percentage the site takes, know what protections (or lack of them) that the site offers, know what clientele generally peruse the site, know the general sales brought in by the site, know everything you can that is relevant to your sales. If your goal is to turn your art into an investment property, then selling online is likely to be a much longer path to this end. This is largely because it is generally more difficult for unknown artists to secure higher priced sales with serious collectors online than it is through a traditional gallery where such concrete decisions can be made safely. It is best to see selling art online as an adjunct to your usual methods of selling art, not your only means.',\n",
       "   1),\n",
       "  False),\n",
       " (('Make yourself public. Get yourself out there as best as you can by advertising yourself. Publish some \"example\" pieces around the web to show what you can do and to demonstrate your style. Be sure to add a watermark to your digital version to protect your artwork from art thieves. Spend a little time researching online the ways in which other artists are promoting themselves. What works for them and what doesn\\'t? What do you like about their promotional strategies and what do you want to avoid? This type of research can give you a lot of ideas and also alert you to potential pitfalls for the ways in which you will promote your own artwork. Bookmark the sites of artists selling online that really inspire you, so that you can come back to them regularly to see how they\\'re evolving and succeeding. Seize the power of Twitter and Facebook to increase people\\'s knowledge of you. Tweet updates about your new paintings, your thoughts about art, and news items about art in general. On Facebook, place photos of your artwork, (digitally watermarked), photos of you receiving awards, and information about your art, artwork in general, and perhaps even some critiques of artwork.',\n",
       "   2),\n",
       "  ('Blog about your artwork. Given the hundreds of free blogging websites, you have a lot of choice in keeping a blog. Most importantly, it\\'s extremely useful to keep it updated regularly - this gives people something \"pretty to look at\", and a story to follow as your reputation increases and your sales story grows. A blog can pick up a lot of hits from search engines if you utilize the keywords feature accurately; use it to your advantage. Be sure to name your blog something simple but memorable – you\\'ll want people to be able to find you with ease. Read How to start a blog and How to increase website traffic for free for assistance. A good way to test keywords for very little cost is through using an auction site. Play around with the words you use to title your art sales, as well as the words used within the body of the text. Keep changing the words until you find the sweet spot – words that really do seem to attract the most views.',\n",
       "   3),\n",
       "  True),\n",
       " (('Make yourself public. Get yourself out there as best as you can by advertising yourself. Publish some \"example\" pieces around the web to show what you can do and to demonstrate your style. Be sure to add a watermark to your digital version to protect your artwork from art thieves. Spend a little time researching online the ways in which other artists are promoting themselves. What works for them and what doesn\\'t? What do you like about their promotional strategies and what do you want to avoid? This type of research can give you a lot of ideas and also alert you to potential pitfalls for the ways in which you will promote your own artwork. Bookmark the sites of artists selling online that really inspire you, so that you can come back to them regularly to see how they\\'re evolving and succeeding. Seize the power of Twitter and Facebook to increase people\\'s knowledge of you. Tweet updates about your new paintings, your thoughts about art, and news items about art in general. On Facebook, place photos of your artwork, (digitally watermarked), photos of you receiving awards, and information about your art, artwork in general, and perhaps even some critiques of artwork.',\n",
       "   2),\n",
       "  (\"Create a mailing list. This could be your most effective tool if managed well. For every sale you make, every person who sends you an email that might be interested, get all of their email addresses in digital database ready for mass emailing. At designated intervals (once a month, every other week, whenever you start a new series) send them all nice, grammatically correct, friendly emails, complete with a neatly set-out portfolio of the pictures of your recent work (a PDF can work well for this purpose). This keeps you on the radar of past customers, which is important. And if it's a really wonderful newsletter, you might get lucky and they might send it to all of their friends as well – then even more eyes are seeing your work! Every thoughtful mailing list includes an opt-out option. Don't be threatened by this; see it as good housekeeping and as retaining the clients who really do want to see your items. You're not online to hassle people who aren't interested!\",\n",
       "   4),\n",
       "  True),\n",
       " (('Make yourself public. Get yourself out there as best as you can by advertising yourself. Publish some \"example\" pieces around the web to show what you can do and to demonstrate your style. Be sure to add a watermark to your digital version to protect your artwork from art thieves. Spend a little time researching online the ways in which other artists are promoting themselves. What works for them and what doesn\\'t? What do you like about their promotional strategies and what do you want to avoid? This type of research can give you a lot of ideas and also alert you to potential pitfalls for the ways in which you will promote your own artwork. Bookmark the sites of artists selling online that really inspire you, so that you can come back to them regularly to see how they\\'re evolving and succeeding. Seize the power of Twitter and Facebook to increase people\\'s knowledge of you. Tweet updates about your new paintings, your thoughts about art, and news items about art in general. On Facebook, place photos of your artwork, (digitally watermarked), photos of you receiving awards, and information about your art, artwork in general, and perhaps even some critiques of artwork.',\n",
       "   2),\n",
       "  ('Take good pictures. Like they say, \"a picture\\'s worth a thousand words\" and you\\'ll want your impression on potential customers to be good. Show detail, right down to paint strokes and paint type. Be willing to show potential buyers multiple shots of your work under different light, hung on a wall, etc. This may be the only way to alleviate the justifiable fear many people have of buying a work of art that they have never seen in person. Bear in mind that not everyone has a good internet connection. Balance great photos with ease of downloading time. Talk to a web specialist if you\\'re not sure what to do. For more photography tips of relevance, read How to take better product photographs for free and How to take catalog photos.',\n",
       "   5),\n",
       "  True),\n",
       " (('Make yourself public. Get yourself out there as best as you can by advertising yourself. Publish some \"example\" pieces around the web to show what you can do and to demonstrate your style. Be sure to add a watermark to your digital version to protect your artwork from art thieves. Spend a little time researching online the ways in which other artists are promoting themselves. What works for them and what doesn\\'t? What do you like about their promotional strategies and what do you want to avoid? This type of research can give you a lot of ideas and also alert you to potential pitfalls for the ways in which you will promote your own artwork. Bookmark the sites of artists selling online that really inspire you, so that you can come back to them regularly to see how they\\'re evolving and succeeding. Seize the power of Twitter and Facebook to increase people\\'s knowledge of you. Tweet updates about your new paintings, your thoughts about art, and news items about art in general. On Facebook, place photos of your artwork, (digitally watermarked), photos of you receiving awards, and information about your art, artwork in general, and perhaps even some critiques of artwork.',\n",
       "   2),\n",
       "  ('Be sure to properly license your art. Licensing art is a way of proving what belongs to whom. It is a necessary bookkeeping in the arts department and will help you if there is a dispute about originality, ownership, or moral rights.',\n",
       "   6),\n",
       "  True),\n",
       " (('Make yourself public. Get yourself out there as best as you can by advertising yourself. Publish some \"example\" pieces around the web to show what you can do and to demonstrate your style. Be sure to add a watermark to your digital version to protect your artwork from art thieves. Spend a little time researching online the ways in which other artists are promoting themselves. What works for them and what doesn\\'t? What do you like about their promotional strategies and what do you want to avoid? This type of research can give you a lot of ideas and also alert you to potential pitfalls for the ways in which you will promote your own artwork. Bookmark the sites of artists selling online that really inspire you, so that you can come back to them regularly to see how they\\'re evolving and succeeding. Seize the power of Twitter and Facebook to increase people\\'s knowledge of you. Tweet updates about your new paintings, your thoughts about art, and news items about art in general. On Facebook, place photos of your artwork, (digitally watermarked), photos of you receiving awards, and information about your art, artwork in general, and perhaps even some critiques of artwork.',\n",
       "   2),\n",
       "  (\"Consider the option of creating your own site. Having your own site means that you can optimize every page for search engines and it sets you apart from the many artists who only use general art sales sites. Having your own website means that the viewer is not distracted by other artists and their work whilst browsing your art and your own name is likely to gain in reputation faster. You can sell directly from your site via email correspondence with potential buyers (ask them to contact you for prices, to make a purchase etc.). If you're serious about selling your art online with your own site, then it's essential with a domain name that is either your own name or the name that you want people to associate you with your art. For example, you could use a domain made up of your first and last name such as firstnamelastname.com or if you work under a pseudonym then you could use a domain name using that i.e. pseudonym.com. Give serious consideration to making your website as much like a virtual art gallery as possible. Encourage potential clients to wander through and see your paintings in a leisurely, gallery-like manner to increase their viewing enjoyment. Add prices and contact details. People want to see the price, so don't hide it or expect the customer to come up with one for you. And be available to answer their questions in a timely fashion. When creating your own website, you need to find a secure method for accepting payment and you might even consider implementing an escrow system. The more expensive your artwork is, the more careful you will need to be about money handling, including acceptance of returns and refunds. There are various methods in existence online for the safe transference of money; do your research to find out what works best for your local needs and for your global market.\",\n",
       "   7),\n",
       "  True),\n",
       " (('Make yourself public. Get yourself out there as best as you can by advertising yourself. Publish some \"example\" pieces around the web to show what you can do and to demonstrate your style. Be sure to add a watermark to your digital version to protect your artwork from art thieves. Spend a little time researching online the ways in which other artists are promoting themselves. What works for them and what doesn\\'t? What do you like about their promotional strategies and what do you want to avoid? This type of research can give you a lot of ideas and also alert you to potential pitfalls for the ways in which you will promote your own artwork. Bookmark the sites of artists selling online that really inspire you, so that you can come back to them regularly to see how they\\'re evolving and succeeding. Seize the power of Twitter and Facebook to increase people\\'s knowledge of you. Tweet updates about your new paintings, your thoughts about art, and news items about art in general. On Facebook, place photos of your artwork, (digitally watermarked), photos of you receiving awards, and information about your art, artwork in general, and perhaps even some critiques of artwork.',\n",
       "   2),\n",
       "  (\"Expect this to be a gradual process and don't expect to sell a lot right away. An online art business needs to be built up little by little. It's much the same as putting together a company (indeed, you should treat your online art sales as a business) – you will try to make your name known, or at least give people a hint on who you are as an artist, develop your services as you grow, and gain in reputation as time goes on. It may feel like a long time at the beginning but solid and patient foundations will set you up for a good future, as well as maintaining a positive attitude about what you're doing. Attend as many relevant art shows to show your work as you can. If the shows are juried, display the awards your art has won as part of your profiles or website backgrounds.\",\n",
       "   8),\n",
       "  True),\n",
       " (('Blog about your artwork. Given the hundreds of free blogging websites, you have a lot of choice in keeping a blog. Most importantly, it\\'s extremely useful to keep it updated regularly - this gives people something \"pretty to look at\", and a story to follow as your reputation increases and your sales story grows. A blog can pick up a lot of hits from search engines if you utilize the keywords feature accurately; use it to your advantage. Be sure to name your blog something simple but memorable – you\\'ll want people to be able to find you with ease. Read How to start a blog and How to increase website traffic for free for assistance. A good way to test keywords for very little cost is through using an auction site. Play around with the words you use to title your art sales, as well as the words used within the body of the text. Keep changing the words until you find the sweet spot – words that really do seem to attract the most views.',\n",
       "   3),\n",
       "  (\"Sell yourself first. Before doing anything else, stop and sum up yourself as an artist. Now, think about how to translate that to an online profile. Be it the few words, Twitter allows you or an entire page of indulgence that your own website would allow you. Bring out the most salient features of your creativity, your experience, your passion, and your reasons for painting. Make it clear to readers why you are an artist who loves art, produces high quality art, and is a true champion of art. If you're not great with words, find a friend who can help you with this really important aspect of selling online – the establishment of your credibility and reliability.\",\n",
       "   0),\n",
       "  False),\n",
       " (('Blog about your artwork. Given the hundreds of free blogging websites, you have a lot of choice in keeping a blog. Most importantly, it\\'s extremely useful to keep it updated regularly - this gives people something \"pretty to look at\", and a story to follow as your reputation increases and your sales story grows. A blog can pick up a lot of hits from search engines if you utilize the keywords feature accurately; use it to your advantage. Be sure to name your blog something simple but memorable – you\\'ll want people to be able to find you with ease. Read How to start a blog and How to increase website traffic for free for assistance. A good way to test keywords for very little cost is through using an auction site. Play around with the words you use to title your art sales, as well as the words used within the body of the text. Keep changing the words until you find the sweet spot – words that really do seem to attract the most views.',\n",
       "   3),\n",
       "  ('Join online artist communities. Depending on what scale you intend to sell your art pieces, you may want to get an account on an online art community or store, like Deviant Art. With 15% -20 % brokerage, you can also find many online art galleries like Art Brokerage, Diva Art Group, or Saatchi Art that will show your artwork online and sell them to the buyer in completely secured transaction. There are also many other possible sites, such as Etsy (heavier on the crafts but still arty), eBay (auction site), an Amazon store (an online store platform), CafePress (for printing your artwork onto stuff like mugs), Craigslist (general classifieds), and quite a lot of other artwork based sales sites (do a general search). Read the terms and conditions of every site very carefully. Know what commission or percentage the site takes, know what protections (or lack of them) that the site offers, know what clientele generally peruse the site, know the general sales brought in by the site, know everything you can that is relevant to your sales. If your goal is to turn your art into an investment property, then selling online is likely to be a much longer path to this end. This is largely because it is generally more difficult for unknown artists to secure higher priced sales with serious collectors online than it is through a traditional gallery where such concrete decisions can be made safely. It is best to see selling art online as an adjunct to your usual methods of selling art, not your only means.',\n",
       "   1),\n",
       "  False),\n",
       " (('Blog about your artwork. Given the hundreds of free blogging websites, you have a lot of choice in keeping a blog. Most importantly, it\\'s extremely useful to keep it updated regularly - this gives people something \"pretty to look at\", and a story to follow as your reputation increases and your sales story grows. A blog can pick up a lot of hits from search engines if you utilize the keywords feature accurately; use it to your advantage. Be sure to name your blog something simple but memorable – you\\'ll want people to be able to find you with ease. Read How to start a blog and How to increase website traffic for free for assistance. A good way to test keywords for very little cost is through using an auction site. Play around with the words you use to title your art sales, as well as the words used within the body of the text. Keep changing the words until you find the sweet spot – words that really do seem to attract the most views.',\n",
       "   3),\n",
       "  ('Make yourself public. Get yourself out there as best as you can by advertising yourself. Publish some \"example\" pieces around the web to show what you can do and to demonstrate your style. Be sure to add a watermark to your digital version to protect your artwork from art thieves. Spend a little time researching online the ways in which other artists are promoting themselves. What works for them and what doesn\\'t? What do you like about their promotional strategies and what do you want to avoid? This type of research can give you a lot of ideas and also alert you to potential pitfalls for the ways in which you will promote your own artwork. Bookmark the sites of artists selling online that really inspire you, so that you can come back to them regularly to see how they\\'re evolving and succeeding. Seize the power of Twitter and Facebook to increase people\\'s knowledge of you. Tweet updates about your new paintings, your thoughts about art, and news items about art in general. On Facebook, place photos of your artwork, (digitally watermarked), photos of you receiving awards, and information about your art, artwork in general, and perhaps even some critiques of artwork.',\n",
       "   2),\n",
       "  False),\n",
       " (('Blog about your artwork. Given the hundreds of free blogging websites, you have a lot of choice in keeping a blog. Most importantly, it\\'s extremely useful to keep it updated regularly - this gives people something \"pretty to look at\", and a story to follow as your reputation increases and your sales story grows. A blog can pick up a lot of hits from search engines if you utilize the keywords feature accurately; use it to your advantage. Be sure to name your blog something simple but memorable – you\\'ll want people to be able to find you with ease. Read How to start a blog and How to increase website traffic for free for assistance. A good way to test keywords for very little cost is through using an auction site. Play around with the words you use to title your art sales, as well as the words used within the body of the text. Keep changing the words until you find the sweet spot – words that really do seem to attract the most views.',\n",
       "   3),\n",
       "  (\"Create a mailing list. This could be your most effective tool if managed well. For every sale you make, every person who sends you an email that might be interested, get all of their email addresses in digital database ready for mass emailing. At designated intervals (once a month, every other week, whenever you start a new series) send them all nice, grammatically correct, friendly emails, complete with a neatly set-out portfolio of the pictures of your recent work (a PDF can work well for this purpose). This keeps you on the radar of past customers, which is important. And if it's a really wonderful newsletter, you might get lucky and they might send it to all of their friends as well – then even more eyes are seeing your work! Every thoughtful mailing list includes an opt-out option. Don't be threatened by this; see it as good housekeeping and as retaining the clients who really do want to see your items. You're not online to hassle people who aren't interested!\",\n",
       "   4),\n",
       "  True),\n",
       " (('Blog about your artwork. Given the hundreds of free blogging websites, you have a lot of choice in keeping a blog. Most importantly, it\\'s extremely useful to keep it updated regularly - this gives people something \"pretty to look at\", and a story to follow as your reputation increases and your sales story grows. A blog can pick up a lot of hits from search engines if you utilize the keywords feature accurately; use it to your advantage. Be sure to name your blog something simple but memorable – you\\'ll want people to be able to find you with ease. Read How to start a blog and How to increase website traffic for free for assistance. A good way to test keywords for very little cost is through using an auction site. Play around with the words you use to title your art sales, as well as the words used within the body of the text. Keep changing the words until you find the sweet spot – words that really do seem to attract the most views.',\n",
       "   3),\n",
       "  ('Take good pictures. Like they say, \"a picture\\'s worth a thousand words\" and you\\'ll want your impression on potential customers to be good. Show detail, right down to paint strokes and paint type. Be willing to show potential buyers multiple shots of your work under different light, hung on a wall, etc. This may be the only way to alleviate the justifiable fear many people have of buying a work of art that they have never seen in person. Bear in mind that not everyone has a good internet connection. Balance great photos with ease of downloading time. Talk to a web specialist if you\\'re not sure what to do. For more photography tips of relevance, read How to take better product photographs for free and How to take catalog photos.',\n",
       "   5),\n",
       "  True),\n",
       " (('Blog about your artwork. Given the hundreds of free blogging websites, you have a lot of choice in keeping a blog. Most importantly, it\\'s extremely useful to keep it updated regularly - this gives people something \"pretty to look at\", and a story to follow as your reputation increases and your sales story grows. A blog can pick up a lot of hits from search engines if you utilize the keywords feature accurately; use it to your advantage. Be sure to name your blog something simple but memorable – you\\'ll want people to be able to find you with ease. Read How to start a blog and How to increase website traffic for free for assistance. A good way to test keywords for very little cost is through using an auction site. Play around with the words you use to title your art sales, as well as the words used within the body of the text. Keep changing the words until you find the sweet spot – words that really do seem to attract the most views.',\n",
       "   3),\n",
       "  ('Be sure to properly license your art. Licensing art is a way of proving what belongs to whom. It is a necessary bookkeeping in the arts department and will help you if there is a dispute about originality, ownership, or moral rights.',\n",
       "   6),\n",
       "  True),\n",
       " (('Blog about your artwork. Given the hundreds of free blogging websites, you have a lot of choice in keeping a blog. Most importantly, it\\'s extremely useful to keep it updated regularly - this gives people something \"pretty to look at\", and a story to follow as your reputation increases and your sales story grows. A blog can pick up a lot of hits from search engines if you utilize the keywords feature accurately; use it to your advantage. Be sure to name your blog something simple but memorable – you\\'ll want people to be able to find you with ease. Read How to start a blog and How to increase website traffic for free for assistance. A good way to test keywords for very little cost is through using an auction site. Play around with the words you use to title your art sales, as well as the words used within the body of the text. Keep changing the words until you find the sweet spot – words that really do seem to attract the most views.',\n",
       "   3),\n",
       "  (\"Consider the option of creating your own site. Having your own site means that you can optimize every page for search engines and it sets you apart from the many artists who only use general art sales sites. Having your own website means that the viewer is not distracted by other artists and their work whilst browsing your art and your own name is likely to gain in reputation faster. You can sell directly from your site via email correspondence with potential buyers (ask them to contact you for prices, to make a purchase etc.). If you're serious about selling your art online with your own site, then it's essential with a domain name that is either your own name or the name that you want people to associate you with your art. For example, you could use a domain made up of your first and last name such as firstnamelastname.com or if you work under a pseudonym then you could use a domain name using that i.e. pseudonym.com. Give serious consideration to making your website as much like a virtual art gallery as possible. Encourage potential clients to wander through and see your paintings in a leisurely, gallery-like manner to increase their viewing enjoyment. Add prices and contact details. People want to see the price, so don't hide it or expect the customer to come up with one for you. And be available to answer their questions in a timely fashion. When creating your own website, you need to find a secure method for accepting payment and you might even consider implementing an escrow system. The more expensive your artwork is, the more careful you will need to be about money handling, including acceptance of returns and refunds. There are various methods in existence online for the safe transference of money; do your research to find out what works best for your local needs and for your global market.\",\n",
       "   7),\n",
       "  True),\n",
       " (('Blog about your artwork. Given the hundreds of free blogging websites, you have a lot of choice in keeping a blog. Most importantly, it\\'s extremely useful to keep it updated regularly - this gives people something \"pretty to look at\", and a story to follow as your reputation increases and your sales story grows. A blog can pick up a lot of hits from search engines if you utilize the keywords feature accurately; use it to your advantage. Be sure to name your blog something simple but memorable – you\\'ll want people to be able to find you with ease. Read How to start a blog and How to increase website traffic for free for assistance. A good way to test keywords for very little cost is through using an auction site. Play around with the words you use to title your art sales, as well as the words used within the body of the text. Keep changing the words until you find the sweet spot – words that really do seem to attract the most views.',\n",
       "   3),\n",
       "  (\"Expect this to be a gradual process and don't expect to sell a lot right away. An online art business needs to be built up little by little. It's much the same as putting together a company (indeed, you should treat your online art sales as a business) – you will try to make your name known, or at least give people a hint on who you are as an artist, develop your services as you grow, and gain in reputation as time goes on. It may feel like a long time at the beginning but solid and patient foundations will set you up for a good future, as well as maintaining a positive attitude about what you're doing. Attend as many relevant art shows to show your work as you can. If the shows are juried, display the awards your art has won as part of your profiles or website backgrounds.\",\n",
       "   8),\n",
       "  True),\n",
       " ((\"Create a mailing list. This could be your most effective tool if managed well. For every sale you make, every person who sends you an email that might be interested, get all of their email addresses in digital database ready for mass emailing. At designated intervals (once a month, every other week, whenever you start a new series) send them all nice, grammatically correct, friendly emails, complete with a neatly set-out portfolio of the pictures of your recent work (a PDF can work well for this purpose). This keeps you on the radar of past customers, which is important. And if it's a really wonderful newsletter, you might get lucky and they might send it to all of their friends as well – then even more eyes are seeing your work! Every thoughtful mailing list includes an opt-out option. Don't be threatened by this; see it as good housekeeping and as retaining the clients who really do want to see your items. You're not online to hassle people who aren't interested!\",\n",
       "   4),\n",
       "  (\"Sell yourself first. Before doing anything else, stop and sum up yourself as an artist. Now, think about how to translate that to an online profile. Be it the few words, Twitter allows you or an entire page of indulgence that your own website would allow you. Bring out the most salient features of your creativity, your experience, your passion, and your reasons for painting. Make it clear to readers why you are an artist who loves art, produces high quality art, and is a true champion of art. If you're not great with words, find a friend who can help you with this really important aspect of selling online – the establishment of your credibility and reliability.\",\n",
       "   0),\n",
       "  False),\n",
       " ((\"Create a mailing list. This could be your most effective tool if managed well. For every sale you make, every person who sends you an email that might be interested, get all of their email addresses in digital database ready for mass emailing. At designated intervals (once a month, every other week, whenever you start a new series) send them all nice, grammatically correct, friendly emails, complete with a neatly set-out portfolio of the pictures of your recent work (a PDF can work well for this purpose). This keeps you on the radar of past customers, which is important. And if it's a really wonderful newsletter, you might get lucky and they might send it to all of their friends as well – then even more eyes are seeing your work! Every thoughtful mailing list includes an opt-out option. Don't be threatened by this; see it as good housekeeping and as retaining the clients who really do want to see your items. You're not online to hassle people who aren't interested!\",\n",
       "   4),\n",
       "  ('Join online artist communities. Depending on what scale you intend to sell your art pieces, you may want to get an account on an online art community or store, like Deviant Art. With 15% -20 % brokerage, you can also find many online art galleries like Art Brokerage, Diva Art Group, or Saatchi Art that will show your artwork online and sell them to the buyer in completely secured transaction. There are also many other possible sites, such as Etsy (heavier on the crafts but still arty), eBay (auction site), an Amazon store (an online store platform), CafePress (for printing your artwork onto stuff like mugs), Craigslist (general classifieds), and quite a lot of other artwork based sales sites (do a general search). Read the terms and conditions of every site very carefully. Know what commission or percentage the site takes, know what protections (or lack of them) that the site offers, know what clientele generally peruse the site, know the general sales brought in by the site, know everything you can that is relevant to your sales. If your goal is to turn your art into an investment property, then selling online is likely to be a much longer path to this end. This is largely because it is generally more difficult for unknown artists to secure higher priced sales with serious collectors online than it is through a traditional gallery where such concrete decisions can be made safely. It is best to see selling art online as an adjunct to your usual methods of selling art, not your only means.',\n",
       "   1),\n",
       "  False),\n",
       " ((\"Create a mailing list. This could be your most effective tool if managed well. For every sale you make, every person who sends you an email that might be interested, get all of their email addresses in digital database ready for mass emailing. At designated intervals (once a month, every other week, whenever you start a new series) send them all nice, grammatically correct, friendly emails, complete with a neatly set-out portfolio of the pictures of your recent work (a PDF can work well for this purpose). This keeps you on the radar of past customers, which is important. And if it's a really wonderful newsletter, you might get lucky and they might send it to all of their friends as well – then even more eyes are seeing your work! Every thoughtful mailing list includes an opt-out option. Don't be threatened by this; see it as good housekeeping and as retaining the clients who really do want to see your items. You're not online to hassle people who aren't interested!\",\n",
       "   4),\n",
       "  ('Make yourself public. Get yourself out there as best as you can by advertising yourself. Publish some \"example\" pieces around the web to show what you can do and to demonstrate your style. Be sure to add a watermark to your digital version to protect your artwork from art thieves. Spend a little time researching online the ways in which other artists are promoting themselves. What works for them and what doesn\\'t? What do you like about their promotional strategies and what do you want to avoid? This type of research can give you a lot of ideas and also alert you to potential pitfalls for the ways in which you will promote your own artwork. Bookmark the sites of artists selling online that really inspire you, so that you can come back to them regularly to see how they\\'re evolving and succeeding. Seize the power of Twitter and Facebook to increase people\\'s knowledge of you. Tweet updates about your new paintings, your thoughts about art, and news items about art in general. On Facebook, place photos of your artwork, (digitally watermarked), photos of you receiving awards, and information about your art, artwork in general, and perhaps even some critiques of artwork.',\n",
       "   2),\n",
       "  False),\n",
       " ((\"Create a mailing list. This could be your most effective tool if managed well. For every sale you make, every person who sends you an email that might be interested, get all of their email addresses in digital database ready for mass emailing. At designated intervals (once a month, every other week, whenever you start a new series) send them all nice, grammatically correct, friendly emails, complete with a neatly set-out portfolio of the pictures of your recent work (a PDF can work well for this purpose). This keeps you on the radar of past customers, which is important. And if it's a really wonderful newsletter, you might get lucky and they might send it to all of their friends as well – then even more eyes are seeing your work! Every thoughtful mailing list includes an opt-out option. Don't be threatened by this; see it as good housekeeping and as retaining the clients who really do want to see your items. You're not online to hassle people who aren't interested!\",\n",
       "   4),\n",
       "  ('Blog about your artwork. Given the hundreds of free blogging websites, you have a lot of choice in keeping a blog. Most importantly, it\\'s extremely useful to keep it updated regularly - this gives people something \"pretty to look at\", and a story to follow as your reputation increases and your sales story grows. A blog can pick up a lot of hits from search engines if you utilize the keywords feature accurately; use it to your advantage. Be sure to name your blog something simple but memorable – you\\'ll want people to be able to find you with ease. Read How to start a blog and How to increase website traffic for free for assistance. A good way to test keywords for very little cost is through using an auction site. Play around with the words you use to title your art sales, as well as the words used within the body of the text. Keep changing the words until you find the sweet spot – words that really do seem to attract the most views.',\n",
       "   3),\n",
       "  False),\n",
       " ((\"Create a mailing list. This could be your most effective tool if managed well. For every sale you make, every person who sends you an email that might be interested, get all of their email addresses in digital database ready for mass emailing. At designated intervals (once a month, every other week, whenever you start a new series) send them all nice, grammatically correct, friendly emails, complete with a neatly set-out portfolio of the pictures of your recent work (a PDF can work well for this purpose). This keeps you on the radar of past customers, which is important. And if it's a really wonderful newsletter, you might get lucky and they might send it to all of their friends as well – then even more eyes are seeing your work! Every thoughtful mailing list includes an opt-out option. Don't be threatened by this; see it as good housekeeping and as retaining the clients who really do want to see your items. You're not online to hassle people who aren't interested!\",\n",
       "   4),\n",
       "  ('Take good pictures. Like they say, \"a picture\\'s worth a thousand words\" and you\\'ll want your impression on potential customers to be good. Show detail, right down to paint strokes and paint type. Be willing to show potential buyers multiple shots of your work under different light, hung on a wall, etc. This may be the only way to alleviate the justifiable fear many people have of buying a work of art that they have never seen in person. Bear in mind that not everyone has a good internet connection. Balance great photos with ease of downloading time. Talk to a web specialist if you\\'re not sure what to do. For more photography tips of relevance, read How to take better product photographs for free and How to take catalog photos.',\n",
       "   5),\n",
       "  True),\n",
       " ((\"Create a mailing list. This could be your most effective tool if managed well. For every sale you make, every person who sends you an email that might be interested, get all of their email addresses in digital database ready for mass emailing. At designated intervals (once a month, every other week, whenever you start a new series) send them all nice, grammatically correct, friendly emails, complete with a neatly set-out portfolio of the pictures of your recent work (a PDF can work well for this purpose). This keeps you on the radar of past customers, which is important. And if it's a really wonderful newsletter, you might get lucky and they might send it to all of their friends as well – then even more eyes are seeing your work! Every thoughtful mailing list includes an opt-out option. Don't be threatened by this; see it as good housekeeping and as retaining the clients who really do want to see your items. You're not online to hassle people who aren't interested!\",\n",
       "   4),\n",
       "  ('Be sure to properly license your art. Licensing art is a way of proving what belongs to whom. It is a necessary bookkeeping in the arts department and will help you if there is a dispute about originality, ownership, or moral rights.',\n",
       "   6),\n",
       "  True),\n",
       " ((\"Create a mailing list. This could be your most effective tool if managed well. For every sale you make, every person who sends you an email that might be interested, get all of their email addresses in digital database ready for mass emailing. At designated intervals (once a month, every other week, whenever you start a new series) send them all nice, grammatically correct, friendly emails, complete with a neatly set-out portfolio of the pictures of your recent work (a PDF can work well for this purpose). This keeps you on the radar of past customers, which is important. And if it's a really wonderful newsletter, you might get lucky and they might send it to all of their friends as well – then even more eyes are seeing your work! Every thoughtful mailing list includes an opt-out option. Don't be threatened by this; see it as good housekeeping and as retaining the clients who really do want to see your items. You're not online to hassle people who aren't interested!\",\n",
       "   4),\n",
       "  (\"Consider the option of creating your own site. Having your own site means that you can optimize every page for search engines and it sets you apart from the many artists who only use general art sales sites. Having your own website means that the viewer is not distracted by other artists and their work whilst browsing your art and your own name is likely to gain in reputation faster. You can sell directly from your site via email correspondence with potential buyers (ask them to contact you for prices, to make a purchase etc.). If you're serious about selling your art online with your own site, then it's essential with a domain name that is either your own name or the name that you want people to associate you with your art. For example, you could use a domain made up of your first and last name such as firstnamelastname.com or if you work under a pseudonym then you could use a domain name using that i.e. pseudonym.com. Give serious consideration to making your website as much like a virtual art gallery as possible. Encourage potential clients to wander through and see your paintings in a leisurely, gallery-like manner to increase their viewing enjoyment. Add prices and contact details. People want to see the price, so don't hide it or expect the customer to come up with one for you. And be available to answer their questions in a timely fashion. When creating your own website, you need to find a secure method for accepting payment and you might even consider implementing an escrow system. The more expensive your artwork is, the more careful you will need to be about money handling, including acceptance of returns and refunds. There are various methods in existence online for the safe transference of money; do your research to find out what works best for your local needs and for your global market.\",\n",
       "   7),\n",
       "  True),\n",
       " ((\"Create a mailing list. This could be your most effective tool if managed well. For every sale you make, every person who sends you an email that might be interested, get all of their email addresses in digital database ready for mass emailing. At designated intervals (once a month, every other week, whenever you start a new series) send them all nice, grammatically correct, friendly emails, complete with a neatly set-out portfolio of the pictures of your recent work (a PDF can work well for this purpose). This keeps you on the radar of past customers, which is important. And if it's a really wonderful newsletter, you might get lucky and they might send it to all of their friends as well – then even more eyes are seeing your work! Every thoughtful mailing list includes an opt-out option. Don't be threatened by this; see it as good housekeeping and as retaining the clients who really do want to see your items. You're not online to hassle people who aren't interested!\",\n",
       "   4),\n",
       "  (\"Expect this to be a gradual process and don't expect to sell a lot right away. An online art business needs to be built up little by little. It's much the same as putting together a company (indeed, you should treat your online art sales as a business) – you will try to make your name known, or at least give people a hint on who you are as an artist, develop your services as you grow, and gain in reputation as time goes on. It may feel like a long time at the beginning but solid and patient foundations will set you up for a good future, as well as maintaining a positive attitude about what you're doing. Attend as many relevant art shows to show your work as you can. If the shows are juried, display the awards your art has won as part of your profiles or website backgrounds.\",\n",
       "   8),\n",
       "  True),\n",
       " (('Take good pictures. Like they say, \"a picture\\'s worth a thousand words\" and you\\'ll want your impression on potential customers to be good. Show detail, right down to paint strokes and paint type. Be willing to show potential buyers multiple shots of your work under different light, hung on a wall, etc. This may be the only way to alleviate the justifiable fear many people have of buying a work of art that they have never seen in person. Bear in mind that not everyone has a good internet connection. Balance great photos with ease of downloading time. Talk to a web specialist if you\\'re not sure what to do. For more photography tips of relevance, read How to take better product photographs for free and How to take catalog photos.',\n",
       "   5),\n",
       "  (\"Sell yourself first. Before doing anything else, stop and sum up yourself as an artist. Now, think about how to translate that to an online profile. Be it the few words, Twitter allows you or an entire page of indulgence that your own website would allow you. Bring out the most salient features of your creativity, your experience, your passion, and your reasons for painting. Make it clear to readers why you are an artist who loves art, produces high quality art, and is a true champion of art. If you're not great with words, find a friend who can help you with this really important aspect of selling online – the establishment of your credibility and reliability.\",\n",
       "   0),\n",
       "  False),\n",
       " (('Take good pictures. Like they say, \"a picture\\'s worth a thousand words\" and you\\'ll want your impression on potential customers to be good. Show detail, right down to paint strokes and paint type. Be willing to show potential buyers multiple shots of your work under different light, hung on a wall, etc. This may be the only way to alleviate the justifiable fear many people have of buying a work of art that they have never seen in person. Bear in mind that not everyone has a good internet connection. Balance great photos with ease of downloading time. Talk to a web specialist if you\\'re not sure what to do. For more photography tips of relevance, read How to take better product photographs for free and How to take catalog photos.',\n",
       "   5),\n",
       "  ('Join online artist communities. Depending on what scale you intend to sell your art pieces, you may want to get an account on an online art community or store, like Deviant Art. With 15% -20 % brokerage, you can also find many online art galleries like Art Brokerage, Diva Art Group, or Saatchi Art that will show your artwork online and sell them to the buyer in completely secured transaction. There are also many other possible sites, such as Etsy (heavier on the crafts but still arty), eBay (auction site), an Amazon store (an online store platform), CafePress (for printing your artwork onto stuff like mugs), Craigslist (general classifieds), and quite a lot of other artwork based sales sites (do a general search). Read the terms and conditions of every site very carefully. Know what commission or percentage the site takes, know what protections (or lack of them) that the site offers, know what clientele generally peruse the site, know the general sales brought in by the site, know everything you can that is relevant to your sales. If your goal is to turn your art into an investment property, then selling online is likely to be a much longer path to this end. This is largely because it is generally more difficult for unknown artists to secure higher priced sales with serious collectors online than it is through a traditional gallery where such concrete decisions can be made safely. It is best to see selling art online as an adjunct to your usual methods of selling art, not your only means.',\n",
       "   1),\n",
       "  False),\n",
       " (('Take good pictures. Like they say, \"a picture\\'s worth a thousand words\" and you\\'ll want your impression on potential customers to be good. Show detail, right down to paint strokes and paint type. Be willing to show potential buyers multiple shots of your work under different light, hung on a wall, etc. This may be the only way to alleviate the justifiable fear many people have of buying a work of art that they have never seen in person. Bear in mind that not everyone has a good internet connection. Balance great photos with ease of downloading time. Talk to a web specialist if you\\'re not sure what to do. For more photography tips of relevance, read How to take better product photographs for free and How to take catalog photos.',\n",
       "   5),\n",
       "  ('Make yourself public. Get yourself out there as best as you can by advertising yourself. Publish some \"example\" pieces around the web to show what you can do and to demonstrate your style. Be sure to add a watermark to your digital version to protect your artwork from art thieves. Spend a little time researching online the ways in which other artists are promoting themselves. What works for them and what doesn\\'t? What do you like about their promotional strategies and what do you want to avoid? This type of research can give you a lot of ideas and also alert you to potential pitfalls for the ways in which you will promote your own artwork. Bookmark the sites of artists selling online that really inspire you, so that you can come back to them regularly to see how they\\'re evolving and succeeding. Seize the power of Twitter and Facebook to increase people\\'s knowledge of you. Tweet updates about your new paintings, your thoughts about art, and news items about art in general. On Facebook, place photos of your artwork, (digitally watermarked), photos of you receiving awards, and information about your art, artwork in general, and perhaps even some critiques of artwork.',\n",
       "   2),\n",
       "  False),\n",
       " (('Take good pictures. Like they say, \"a picture\\'s worth a thousand words\" and you\\'ll want your impression on potential customers to be good. Show detail, right down to paint strokes and paint type. Be willing to show potential buyers multiple shots of your work under different light, hung on a wall, etc. This may be the only way to alleviate the justifiable fear many people have of buying a work of art that they have never seen in person. Bear in mind that not everyone has a good internet connection. Balance great photos with ease of downloading time. Talk to a web specialist if you\\'re not sure what to do. For more photography tips of relevance, read How to take better product photographs for free and How to take catalog photos.',\n",
       "   5),\n",
       "  ('Blog about your artwork. Given the hundreds of free blogging websites, you have a lot of choice in keeping a blog. Most importantly, it\\'s extremely useful to keep it updated regularly - this gives people something \"pretty to look at\", and a story to follow as your reputation increases and your sales story grows. A blog can pick up a lot of hits from search engines if you utilize the keywords feature accurately; use it to your advantage. Be sure to name your blog something simple but memorable – you\\'ll want people to be able to find you with ease. Read How to start a blog and How to increase website traffic for free for assistance. A good way to test keywords for very little cost is through using an auction site. Play around with the words you use to title your art sales, as well as the words used within the body of the text. Keep changing the words until you find the sweet spot – words that really do seem to attract the most views.',\n",
       "   3),\n",
       "  False),\n",
       " (('Take good pictures. Like they say, \"a picture\\'s worth a thousand words\" and you\\'ll want your impression on potential customers to be good. Show detail, right down to paint strokes and paint type. Be willing to show potential buyers multiple shots of your work under different light, hung on a wall, etc. This may be the only way to alleviate the justifiable fear many people have of buying a work of art that they have never seen in person. Bear in mind that not everyone has a good internet connection. Balance great photos with ease of downloading time. Talk to a web specialist if you\\'re not sure what to do. For more photography tips of relevance, read How to take better product photographs for free and How to take catalog photos.',\n",
       "   5),\n",
       "  (\"Create a mailing list. This could be your most effective tool if managed well. For every sale you make, every person who sends you an email that might be interested, get all of their email addresses in digital database ready for mass emailing. At designated intervals (once a month, every other week, whenever you start a new series) send them all nice, grammatically correct, friendly emails, complete with a neatly set-out portfolio of the pictures of your recent work (a PDF can work well for this purpose). This keeps you on the radar of past customers, which is important. And if it's a really wonderful newsletter, you might get lucky and they might send it to all of their friends as well – then even more eyes are seeing your work! Every thoughtful mailing list includes an opt-out option. Don't be threatened by this; see it as good housekeeping and as retaining the clients who really do want to see your items. You're not online to hassle people who aren't interested!\",\n",
       "   4),\n",
       "  False),\n",
       " (('Take good pictures. Like they say, \"a picture\\'s worth a thousand words\" and you\\'ll want your impression on potential customers to be good. Show detail, right down to paint strokes and paint type. Be willing to show potential buyers multiple shots of your work under different light, hung on a wall, etc. This may be the only way to alleviate the justifiable fear many people have of buying a work of art that they have never seen in person. Bear in mind that not everyone has a good internet connection. Balance great photos with ease of downloading time. Talk to a web specialist if you\\'re not sure what to do. For more photography tips of relevance, read How to take better product photographs for free and How to take catalog photos.',\n",
       "   5),\n",
       "  ('Be sure to properly license your art. Licensing art is a way of proving what belongs to whom. It is a necessary bookkeeping in the arts department and will help you if there is a dispute about originality, ownership, or moral rights.',\n",
       "   6),\n",
       "  True),\n",
       " (('Take good pictures. Like they say, \"a picture\\'s worth a thousand words\" and you\\'ll want your impression on potential customers to be good. Show detail, right down to paint strokes and paint type. Be willing to show potential buyers multiple shots of your work under different light, hung on a wall, etc. This may be the only way to alleviate the justifiable fear many people have of buying a work of art that they have never seen in person. Bear in mind that not everyone has a good internet connection. Balance great photos with ease of downloading time. Talk to a web specialist if you\\'re not sure what to do. For more photography tips of relevance, read How to take better product photographs for free and How to take catalog photos.',\n",
       "   5),\n",
       "  (\"Consider the option of creating your own site. Having your own site means that you can optimize every page for search engines and it sets you apart from the many artists who only use general art sales sites. Having your own website means that the viewer is not distracted by other artists and their work whilst browsing your art and your own name is likely to gain in reputation faster. You can sell directly from your site via email correspondence with potential buyers (ask them to contact you for prices, to make a purchase etc.). If you're serious about selling your art online with your own site, then it's essential with a domain name that is either your own name or the name that you want people to associate you with your art. For example, you could use a domain made up of your first and last name such as firstnamelastname.com or if you work under a pseudonym then you could use a domain name using that i.e. pseudonym.com. Give serious consideration to making your website as much like a virtual art gallery as possible. Encourage potential clients to wander through and see your paintings in a leisurely, gallery-like manner to increase their viewing enjoyment. Add prices and contact details. People want to see the price, so don't hide it or expect the customer to come up with one for you. And be available to answer their questions in a timely fashion. When creating your own website, you need to find a secure method for accepting payment and you might even consider implementing an escrow system. The more expensive your artwork is, the more careful you will need to be about money handling, including acceptance of returns and refunds. There are various methods in existence online for the safe transference of money; do your research to find out what works best for your local needs and for your global market.\",\n",
       "   7),\n",
       "  True),\n",
       " (('Take good pictures. Like they say, \"a picture\\'s worth a thousand words\" and you\\'ll want your impression on potential customers to be good. Show detail, right down to paint strokes and paint type. Be willing to show potential buyers multiple shots of your work under different light, hung on a wall, etc. This may be the only way to alleviate the justifiable fear many people have of buying a work of art that they have never seen in person. Bear in mind that not everyone has a good internet connection. Balance great photos with ease of downloading time. Talk to a web specialist if you\\'re not sure what to do. For more photography tips of relevance, read How to take better product photographs for free and How to take catalog photos.',\n",
       "   5),\n",
       "  (\"Expect this to be a gradual process and don't expect to sell a lot right away. An online art business needs to be built up little by little. It's much the same as putting together a company (indeed, you should treat your online art sales as a business) – you will try to make your name known, or at least give people a hint on who you are as an artist, develop your services as you grow, and gain in reputation as time goes on. It may feel like a long time at the beginning but solid and patient foundations will set you up for a good future, as well as maintaining a positive attitude about what you're doing. Attend as many relevant art shows to show your work as you can. If the shows are juried, display the awards your art has won as part of your profiles or website backgrounds.\",\n",
       "   8),\n",
       "  True),\n",
       " (('Be sure to properly license your art. Licensing art is a way of proving what belongs to whom. It is a necessary bookkeeping in the arts department and will help you if there is a dispute about originality, ownership, or moral rights.',\n",
       "   6),\n",
       "  (\"Sell yourself first. Before doing anything else, stop and sum up yourself as an artist. Now, think about how to translate that to an online profile. Be it the few words, Twitter allows you or an entire page of indulgence that your own website would allow you. Bring out the most salient features of your creativity, your experience, your passion, and your reasons for painting. Make it clear to readers why you are an artist who loves art, produces high quality art, and is a true champion of art. If you're not great with words, find a friend who can help you with this really important aspect of selling online – the establishment of your credibility and reliability.\",\n",
       "   0),\n",
       "  False),\n",
       " (('Be sure to properly license your art. Licensing art is a way of proving what belongs to whom. It is a necessary bookkeeping in the arts department and will help you if there is a dispute about originality, ownership, or moral rights.',\n",
       "   6),\n",
       "  ('Join online artist communities. Depending on what scale you intend to sell your art pieces, you may want to get an account on an online art community or store, like Deviant Art. With 15% -20 % brokerage, you can also find many online art galleries like Art Brokerage, Diva Art Group, or Saatchi Art that will show your artwork online and sell them to the buyer in completely secured transaction. There are also many other possible sites, such as Etsy (heavier on the crafts but still arty), eBay (auction site), an Amazon store (an online store platform), CafePress (for printing your artwork onto stuff like mugs), Craigslist (general classifieds), and quite a lot of other artwork based sales sites (do a general search). Read the terms and conditions of every site very carefully. Know what commission or percentage the site takes, know what protections (or lack of them) that the site offers, know what clientele generally peruse the site, know the general sales brought in by the site, know everything you can that is relevant to your sales. If your goal is to turn your art into an investment property, then selling online is likely to be a much longer path to this end. This is largely because it is generally more difficult for unknown artists to secure higher priced sales with serious collectors online than it is through a traditional gallery where such concrete decisions can be made safely. It is best to see selling art online as an adjunct to your usual methods of selling art, not your only means.',\n",
       "   1),\n",
       "  False),\n",
       " (('Be sure to properly license your art. Licensing art is a way of proving what belongs to whom. It is a necessary bookkeeping in the arts department and will help you if there is a dispute about originality, ownership, or moral rights.',\n",
       "   6),\n",
       "  ('Make yourself public. Get yourself out there as best as you can by advertising yourself. Publish some \"example\" pieces around the web to show what you can do and to demonstrate your style. Be sure to add a watermark to your digital version to protect your artwork from art thieves. Spend a little time researching online the ways in which other artists are promoting themselves. What works for them and what doesn\\'t? What do you like about their promotional strategies and what do you want to avoid? This type of research can give you a lot of ideas and also alert you to potential pitfalls for the ways in which you will promote your own artwork. Bookmark the sites of artists selling online that really inspire you, so that you can come back to them regularly to see how they\\'re evolving and succeeding. Seize the power of Twitter and Facebook to increase people\\'s knowledge of you. Tweet updates about your new paintings, your thoughts about art, and news items about art in general. On Facebook, place photos of your artwork, (digitally watermarked), photos of you receiving awards, and information about your art, artwork in general, and perhaps even some critiques of artwork.',\n",
       "   2),\n",
       "  False),\n",
       " (('Be sure to properly license your art. Licensing art is a way of proving what belongs to whom. It is a necessary bookkeeping in the arts department and will help you if there is a dispute about originality, ownership, or moral rights.',\n",
       "   6),\n",
       "  ('Blog about your artwork. Given the hundreds of free blogging websites, you have a lot of choice in keeping a blog. Most importantly, it\\'s extremely useful to keep it updated regularly - this gives people something \"pretty to look at\", and a story to follow as your reputation increases and your sales story grows. A blog can pick up a lot of hits from search engines if you utilize the keywords feature accurately; use it to your advantage. Be sure to name your blog something simple but memorable – you\\'ll want people to be able to find you with ease. Read How to start a blog and How to increase website traffic for free for assistance. A good way to test keywords for very little cost is through using an auction site. Play around with the words you use to title your art sales, as well as the words used within the body of the text. Keep changing the words until you find the sweet spot – words that really do seem to attract the most views.',\n",
       "   3),\n",
       "  False),\n",
       " (('Be sure to properly license your art. Licensing art is a way of proving what belongs to whom. It is a necessary bookkeeping in the arts department and will help you if there is a dispute about originality, ownership, or moral rights.',\n",
       "   6),\n",
       "  (\"Create a mailing list. This could be your most effective tool if managed well. For every sale you make, every person who sends you an email that might be interested, get all of their email addresses in digital database ready for mass emailing. At designated intervals (once a month, every other week, whenever you start a new series) send them all nice, grammatically correct, friendly emails, complete with a neatly set-out portfolio of the pictures of your recent work (a PDF can work well for this purpose). This keeps you on the radar of past customers, which is important. And if it's a really wonderful newsletter, you might get lucky and they might send it to all of their friends as well – then even more eyes are seeing your work! Every thoughtful mailing list includes an opt-out option. Don't be threatened by this; see it as good housekeeping and as retaining the clients who really do want to see your items. You're not online to hassle people who aren't interested!\",\n",
       "   4),\n",
       "  False),\n",
       " (('Be sure to properly license your art. Licensing art is a way of proving what belongs to whom. It is a necessary bookkeeping in the arts department and will help you if there is a dispute about originality, ownership, or moral rights.',\n",
       "   6),\n",
       "  ('Take good pictures. Like they say, \"a picture\\'s worth a thousand words\" and you\\'ll want your impression on potential customers to be good. Show detail, right down to paint strokes and paint type. Be willing to show potential buyers multiple shots of your work under different light, hung on a wall, etc. This may be the only way to alleviate the justifiable fear many people have of buying a work of art that they have never seen in person. Bear in mind that not everyone has a good internet connection. Balance great photos with ease of downloading time. Talk to a web specialist if you\\'re not sure what to do. For more photography tips of relevance, read How to take better product photographs for free and How to take catalog photos.',\n",
       "   5),\n",
       "  False),\n",
       " (('Be sure to properly license your art. Licensing art is a way of proving what belongs to whom. It is a necessary bookkeeping in the arts department and will help you if there is a dispute about originality, ownership, or moral rights.',\n",
       "   6),\n",
       "  (\"Consider the option of creating your own site. Having your own site means that you can optimize every page for search engines and it sets you apart from the many artists who only use general art sales sites. Having your own website means that the viewer is not distracted by other artists and their work whilst browsing your art and your own name is likely to gain in reputation faster. You can sell directly from your site via email correspondence with potential buyers (ask them to contact you for prices, to make a purchase etc.). If you're serious about selling your art online with your own site, then it's essential with a domain name that is either your own name or the name that you want people to associate you with your art. For example, you could use a domain made up of your first and last name such as firstnamelastname.com or if you work under a pseudonym then you could use a domain name using that i.e. pseudonym.com. Give serious consideration to making your website as much like a virtual art gallery as possible. Encourage potential clients to wander through and see your paintings in a leisurely, gallery-like manner to increase their viewing enjoyment. Add prices and contact details. People want to see the price, so don't hide it or expect the customer to come up with one for you. And be available to answer their questions in a timely fashion. When creating your own website, you need to find a secure method for accepting payment and you might even consider implementing an escrow system. The more expensive your artwork is, the more careful you will need to be about money handling, including acceptance of returns and refunds. There are various methods in existence online for the safe transference of money; do your research to find out what works best for your local needs and for your global market.\",\n",
       "   7),\n",
       "  True),\n",
       " (('Be sure to properly license your art. Licensing art is a way of proving what belongs to whom. It is a necessary bookkeeping in the arts department and will help you if there is a dispute about originality, ownership, or moral rights.',\n",
       "   6),\n",
       "  (\"Expect this to be a gradual process and don't expect to sell a lot right away. An online art business needs to be built up little by little. It's much the same as putting together a company (indeed, you should treat your online art sales as a business) – you will try to make your name known, or at least give people a hint on who you are as an artist, develop your services as you grow, and gain in reputation as time goes on. It may feel like a long time at the beginning but solid and patient foundations will set you up for a good future, as well as maintaining a positive attitude about what you're doing. Attend as many relevant art shows to show your work as you can. If the shows are juried, display the awards your art has won as part of your profiles or website backgrounds.\",\n",
       "   8),\n",
       "  True),\n",
       " ((\"Consider the option of creating your own site. Having your own site means that you can optimize every page for search engines and it sets you apart from the many artists who only use general art sales sites. Having your own website means that the viewer is not distracted by other artists and their work whilst browsing your art and your own name is likely to gain in reputation faster. You can sell directly from your site via email correspondence with potential buyers (ask them to contact you for prices, to make a purchase etc.). If you're serious about selling your art online with your own site, then it's essential with a domain name that is either your own name or the name that you want people to associate you with your art. For example, you could use a domain made up of your first and last name such as firstnamelastname.com or if you work under a pseudonym then you could use a domain name using that i.e. pseudonym.com. Give serious consideration to making your website as much like a virtual art gallery as possible. Encourage potential clients to wander through and see your paintings in a leisurely, gallery-like manner to increase their viewing enjoyment. Add prices and contact details. People want to see the price, so don't hide it or expect the customer to come up with one for you. And be available to answer their questions in a timely fashion. When creating your own website, you need to find a secure method for accepting payment and you might even consider implementing an escrow system. The more expensive your artwork is, the more careful you will need to be about money handling, including acceptance of returns and refunds. There are various methods in existence online for the safe transference of money; do your research to find out what works best for your local needs and for your global market.\",\n",
       "   7),\n",
       "  (\"Sell yourself first. Before doing anything else, stop and sum up yourself as an artist. Now, think about how to translate that to an online profile. Be it the few words, Twitter allows you or an entire page of indulgence that your own website would allow you. Bring out the most salient features of your creativity, your experience, your passion, and your reasons for painting. Make it clear to readers why you are an artist who loves art, produces high quality art, and is a true champion of art. If you're not great with words, find a friend who can help you with this really important aspect of selling online – the establishment of your credibility and reliability.\",\n",
       "   0),\n",
       "  False),\n",
       " ((\"Consider the option of creating your own site. Having your own site means that you can optimize every page for search engines and it sets you apart from the many artists who only use general art sales sites. Having your own website means that the viewer is not distracted by other artists and their work whilst browsing your art and your own name is likely to gain in reputation faster. You can sell directly from your site via email correspondence with potential buyers (ask them to contact you for prices, to make a purchase etc.). If you're serious about selling your art online with your own site, then it's essential with a domain name that is either your own name or the name that you want people to associate you with your art. For example, you could use a domain made up of your first and last name such as firstnamelastname.com or if you work under a pseudonym then you could use a domain name using that i.e. pseudonym.com. Give serious consideration to making your website as much like a virtual art gallery as possible. Encourage potential clients to wander through and see your paintings in a leisurely, gallery-like manner to increase their viewing enjoyment. Add prices and contact details. People want to see the price, so don't hide it or expect the customer to come up with one for you. And be available to answer their questions in a timely fashion. When creating your own website, you need to find a secure method for accepting payment and you might even consider implementing an escrow system. The more expensive your artwork is, the more careful you will need to be about money handling, including acceptance of returns and refunds. There are various methods in existence online for the safe transference of money; do your research to find out what works best for your local needs and for your global market.\",\n",
       "   7),\n",
       "  ('Join online artist communities. Depending on what scale you intend to sell your art pieces, you may want to get an account on an online art community or store, like Deviant Art. With 15% -20 % brokerage, you can also find many online art galleries like Art Brokerage, Diva Art Group, or Saatchi Art that will show your artwork online and sell them to the buyer in completely secured transaction. There are also many other possible sites, such as Etsy (heavier on the crafts but still arty), eBay (auction site), an Amazon store (an online store platform), CafePress (for printing your artwork onto stuff like mugs), Craigslist (general classifieds), and quite a lot of other artwork based sales sites (do a general search). Read the terms and conditions of every site very carefully. Know what commission or percentage the site takes, know what protections (or lack of them) that the site offers, know what clientele generally peruse the site, know the general sales brought in by the site, know everything you can that is relevant to your sales. If your goal is to turn your art into an investment property, then selling online is likely to be a much longer path to this end. This is largely because it is generally more difficult for unknown artists to secure higher priced sales with serious collectors online than it is through a traditional gallery where such concrete decisions can be made safely. It is best to see selling art online as an adjunct to your usual methods of selling art, not your only means.',\n",
       "   1),\n",
       "  False),\n",
       " ((\"Consider the option of creating your own site. Having your own site means that you can optimize every page for search engines and it sets you apart from the many artists who only use general art sales sites. Having your own website means that the viewer is not distracted by other artists and their work whilst browsing your art and your own name is likely to gain in reputation faster. You can sell directly from your site via email correspondence with potential buyers (ask them to contact you for prices, to make a purchase etc.). If you're serious about selling your art online with your own site, then it's essential with a domain name that is either your own name or the name that you want people to associate you with your art. For example, you could use a domain made up of your first and last name such as firstnamelastname.com or if you work under a pseudonym then you could use a domain name using that i.e. pseudonym.com. Give serious consideration to making your website as much like a virtual art gallery as possible. Encourage potential clients to wander through and see your paintings in a leisurely, gallery-like manner to increase their viewing enjoyment. Add prices and contact details. People want to see the price, so don't hide it or expect the customer to come up with one for you. And be available to answer their questions in a timely fashion. When creating your own website, you need to find a secure method for accepting payment and you might even consider implementing an escrow system. The more expensive your artwork is, the more careful you will need to be about money handling, including acceptance of returns and refunds. There are various methods in existence online for the safe transference of money; do your research to find out what works best for your local needs and for your global market.\",\n",
       "   7),\n",
       "  ('Make yourself public. Get yourself out there as best as you can by advertising yourself. Publish some \"example\" pieces around the web to show what you can do and to demonstrate your style. Be sure to add a watermark to your digital version to protect your artwork from art thieves. Spend a little time researching online the ways in which other artists are promoting themselves. What works for them and what doesn\\'t? What do you like about their promotional strategies and what do you want to avoid? This type of research can give you a lot of ideas and also alert you to potential pitfalls for the ways in which you will promote your own artwork. Bookmark the sites of artists selling online that really inspire you, so that you can come back to them regularly to see how they\\'re evolving and succeeding. Seize the power of Twitter and Facebook to increase people\\'s knowledge of you. Tweet updates about your new paintings, your thoughts about art, and news items about art in general. On Facebook, place photos of your artwork, (digitally watermarked), photos of you receiving awards, and information about your art, artwork in general, and perhaps even some critiques of artwork.',\n",
       "   2),\n",
       "  False),\n",
       " ((\"Consider the option of creating your own site. Having your own site means that you can optimize every page for search engines and it sets you apart from the many artists who only use general art sales sites. Having your own website means that the viewer is not distracted by other artists and their work whilst browsing your art and your own name is likely to gain in reputation faster. You can sell directly from your site via email correspondence with potential buyers (ask them to contact you for prices, to make a purchase etc.). If you're serious about selling your art online with your own site, then it's essential with a domain name that is either your own name or the name that you want people to associate you with your art. For example, you could use a domain made up of your first and last name such as firstnamelastname.com or if you work under a pseudonym then you could use a domain name using that i.e. pseudonym.com. Give serious consideration to making your website as much like a virtual art gallery as possible. Encourage potential clients to wander through and see your paintings in a leisurely, gallery-like manner to increase their viewing enjoyment. Add prices and contact details. People want to see the price, so don't hide it or expect the customer to come up with one for you. And be available to answer their questions in a timely fashion. When creating your own website, you need to find a secure method for accepting payment and you might even consider implementing an escrow system. The more expensive your artwork is, the more careful you will need to be about money handling, including acceptance of returns and refunds. There are various methods in existence online for the safe transference of money; do your research to find out what works best for your local needs and for your global market.\",\n",
       "   7),\n",
       "  ('Blog about your artwork. Given the hundreds of free blogging websites, you have a lot of choice in keeping a blog. Most importantly, it\\'s extremely useful to keep it updated regularly - this gives people something \"pretty to look at\", and a story to follow as your reputation increases and your sales story grows. A blog can pick up a lot of hits from search engines if you utilize the keywords feature accurately; use it to your advantage. Be sure to name your blog something simple but memorable – you\\'ll want people to be able to find you with ease. Read How to start a blog and How to increase website traffic for free for assistance. A good way to test keywords for very little cost is through using an auction site. Play around with the words you use to title your art sales, as well as the words used within the body of the text. Keep changing the words until you find the sweet spot – words that really do seem to attract the most views.',\n",
       "   3),\n",
       "  False),\n",
       " ((\"Consider the option of creating your own site. Having your own site means that you can optimize every page for search engines and it sets you apart from the many artists who only use general art sales sites. Having your own website means that the viewer is not distracted by other artists and their work whilst browsing your art and your own name is likely to gain in reputation faster. You can sell directly from your site via email correspondence with potential buyers (ask them to contact you for prices, to make a purchase etc.). If you're serious about selling your art online with your own site, then it's essential with a domain name that is either your own name or the name that you want people to associate you with your art. For example, you could use a domain made up of your first and last name such as firstnamelastname.com or if you work under a pseudonym then you could use a domain name using that i.e. pseudonym.com. Give serious consideration to making your website as much like a virtual art gallery as possible. Encourage potential clients to wander through and see your paintings in a leisurely, gallery-like manner to increase their viewing enjoyment. Add prices and contact details. People want to see the price, so don't hide it or expect the customer to come up with one for you. And be available to answer their questions in a timely fashion. When creating your own website, you need to find a secure method for accepting payment and you might even consider implementing an escrow system. The more expensive your artwork is, the more careful you will need to be about money handling, including acceptance of returns and refunds. There are various methods in existence online for the safe transference of money; do your research to find out what works best for your local needs and for your global market.\",\n",
       "   7),\n",
       "  (\"Create a mailing list. This could be your most effective tool if managed well. For every sale you make, every person who sends you an email that might be interested, get all of their email addresses in digital database ready for mass emailing. At designated intervals (once a month, every other week, whenever you start a new series) send them all nice, grammatically correct, friendly emails, complete with a neatly set-out portfolio of the pictures of your recent work (a PDF can work well for this purpose). This keeps you on the radar of past customers, which is important. And if it's a really wonderful newsletter, you might get lucky and they might send it to all of their friends as well – then even more eyes are seeing your work! Every thoughtful mailing list includes an opt-out option. Don't be threatened by this; see it as good housekeeping and as retaining the clients who really do want to see your items. You're not online to hassle people who aren't interested!\",\n",
       "   4),\n",
       "  False),\n",
       " ((\"Consider the option of creating your own site. Having your own site means that you can optimize every page for search engines and it sets you apart from the many artists who only use general art sales sites. Having your own website means that the viewer is not distracted by other artists and their work whilst browsing your art and your own name is likely to gain in reputation faster. You can sell directly from your site via email correspondence with potential buyers (ask them to contact you for prices, to make a purchase etc.). If you're serious about selling your art online with your own site, then it's essential with a domain name that is either your own name or the name that you want people to associate you with your art. For example, you could use a domain made up of your first and last name such as firstnamelastname.com or if you work under a pseudonym then you could use a domain name using that i.e. pseudonym.com. Give serious consideration to making your website as much like a virtual art gallery as possible. Encourage potential clients to wander through and see your paintings in a leisurely, gallery-like manner to increase their viewing enjoyment. Add prices and contact details. People want to see the price, so don't hide it or expect the customer to come up with one for you. And be available to answer their questions in a timely fashion. When creating your own website, you need to find a secure method for accepting payment and you might even consider implementing an escrow system. The more expensive your artwork is, the more careful you will need to be about money handling, including acceptance of returns and refunds. There are various methods in existence online for the safe transference of money; do your research to find out what works best for your local needs and for your global market.\",\n",
       "   7),\n",
       "  ('Take good pictures. Like they say, \"a picture\\'s worth a thousand words\" and you\\'ll want your impression on potential customers to be good. Show detail, right down to paint strokes and paint type. Be willing to show potential buyers multiple shots of your work under different light, hung on a wall, etc. This may be the only way to alleviate the justifiable fear many people have of buying a work of art that they have never seen in person. Bear in mind that not everyone has a good internet connection. Balance great photos with ease of downloading time. Talk to a web specialist if you\\'re not sure what to do. For more photography tips of relevance, read How to take better product photographs for free and How to take catalog photos.',\n",
       "   5),\n",
       "  False),\n",
       " ((\"Consider the option of creating your own site. Having your own site means that you can optimize every page for search engines and it sets you apart from the many artists who only use general art sales sites. Having your own website means that the viewer is not distracted by other artists and their work whilst browsing your art and your own name is likely to gain in reputation faster. You can sell directly from your site via email correspondence with potential buyers (ask them to contact you for prices, to make a purchase etc.). If you're serious about selling your art online with your own site, then it's essential with a domain name that is either your own name or the name that you want people to associate you with your art. For example, you could use a domain made up of your first and last name such as firstnamelastname.com or if you work under a pseudonym then you could use a domain name using that i.e. pseudonym.com. Give serious consideration to making your website as much like a virtual art gallery as possible. Encourage potential clients to wander through and see your paintings in a leisurely, gallery-like manner to increase their viewing enjoyment. Add prices and contact details. People want to see the price, so don't hide it or expect the customer to come up with one for you. And be available to answer their questions in a timely fashion. When creating your own website, you need to find a secure method for accepting payment and you might even consider implementing an escrow system. The more expensive your artwork is, the more careful you will need to be about money handling, including acceptance of returns and refunds. There are various methods in existence online for the safe transference of money; do your research to find out what works best for your local needs and for your global market.\",\n",
       "   7),\n",
       "  ('Be sure to properly license your art. Licensing art is a way of proving what belongs to whom. It is a necessary bookkeeping in the arts department and will help you if there is a dispute about originality, ownership, or moral rights.',\n",
       "   6),\n",
       "  False),\n",
       " ((\"Consider the option of creating your own site. Having your own site means that you can optimize every page for search engines and it sets you apart from the many artists who only use general art sales sites. Having your own website means that the viewer is not distracted by other artists and their work whilst browsing your art and your own name is likely to gain in reputation faster. You can sell directly from your site via email correspondence with potential buyers (ask them to contact you for prices, to make a purchase etc.). If you're serious about selling your art online with your own site, then it's essential with a domain name that is either your own name or the name that you want people to associate you with your art. For example, you could use a domain made up of your first and last name such as firstnamelastname.com or if you work under a pseudonym then you could use a domain name using that i.e. pseudonym.com. Give serious consideration to making your website as much like a virtual art gallery as possible. Encourage potential clients to wander through and see your paintings in a leisurely, gallery-like manner to increase their viewing enjoyment. Add prices and contact details. People want to see the price, so don't hide it or expect the customer to come up with one for you. And be available to answer their questions in a timely fashion. When creating your own website, you need to find a secure method for accepting payment and you might even consider implementing an escrow system. The more expensive your artwork is, the more careful you will need to be about money handling, including acceptance of returns and refunds. There are various methods in existence online for the safe transference of money; do your research to find out what works best for your local needs and for your global market.\",\n",
       "   7),\n",
       "  (\"Expect this to be a gradual process and don't expect to sell a lot right away. An online art business needs to be built up little by little. It's much the same as putting together a company (indeed, you should treat your online art sales as a business) – you will try to make your name known, or at least give people a hint on who you are as an artist, develop your services as you grow, and gain in reputation as time goes on. It may feel like a long time at the beginning but solid and patient foundations will set you up for a good future, as well as maintaining a positive attitude about what you're doing. Attend as many relevant art shows to show your work as you can. If the shows are juried, display the awards your art has won as part of your profiles or website backgrounds.\",\n",
       "   8),\n",
       "  True),\n",
       " ((\"Expect this to be a gradual process and don't expect to sell a lot right away. An online art business needs to be built up little by little. It's much the same as putting together a company (indeed, you should treat your online art sales as a business) – you will try to make your name known, or at least give people a hint on who you are as an artist, develop your services as you grow, and gain in reputation as time goes on. It may feel like a long time at the beginning but solid and patient foundations will set you up for a good future, as well as maintaining a positive attitude about what you're doing. Attend as many relevant art shows to show your work as you can. If the shows are juried, display the awards your art has won as part of your profiles or website backgrounds.\",\n",
       "   8),\n",
       "  (\"Sell yourself first. Before doing anything else, stop and sum up yourself as an artist. Now, think about how to translate that to an online profile. Be it the few words, Twitter allows you or an entire page of indulgence that your own website would allow you. Bring out the most salient features of your creativity, your experience, your passion, and your reasons for painting. Make it clear to readers why you are an artist who loves art, produces high quality art, and is a true champion of art. If you're not great with words, find a friend who can help you with this really important aspect of selling online – the establishment of your credibility and reliability.\",\n",
       "   0),\n",
       "  False),\n",
       " ((\"Expect this to be a gradual process and don't expect to sell a lot right away. An online art business needs to be built up little by little. It's much the same as putting together a company (indeed, you should treat your online art sales as a business) – you will try to make your name known, or at least give people a hint on who you are as an artist, develop your services as you grow, and gain in reputation as time goes on. It may feel like a long time at the beginning but solid and patient foundations will set you up for a good future, as well as maintaining a positive attitude about what you're doing. Attend as many relevant art shows to show your work as you can. If the shows are juried, display the awards your art has won as part of your profiles or website backgrounds.\",\n",
       "   8),\n",
       "  ('Join online artist communities. Depending on what scale you intend to sell your art pieces, you may want to get an account on an online art community or store, like Deviant Art. With 15% -20 % brokerage, you can also find many online art galleries like Art Brokerage, Diva Art Group, or Saatchi Art that will show your artwork online and sell them to the buyer in completely secured transaction. There are also many other possible sites, such as Etsy (heavier on the crafts but still arty), eBay (auction site), an Amazon store (an online store platform), CafePress (for printing your artwork onto stuff like mugs), Craigslist (general classifieds), and quite a lot of other artwork based sales sites (do a general search). Read the terms and conditions of every site very carefully. Know what commission or percentage the site takes, know what protections (or lack of them) that the site offers, know what clientele generally peruse the site, know the general sales brought in by the site, know everything you can that is relevant to your sales. If your goal is to turn your art into an investment property, then selling online is likely to be a much longer path to this end. This is largely because it is generally more difficult for unknown artists to secure higher priced sales with serious collectors online than it is through a traditional gallery where such concrete decisions can be made safely. It is best to see selling art online as an adjunct to your usual methods of selling art, not your only means.',\n",
       "   1),\n",
       "  False),\n",
       " ((\"Expect this to be a gradual process and don't expect to sell a lot right away. An online art business needs to be built up little by little. It's much the same as putting together a company (indeed, you should treat your online art sales as a business) – you will try to make your name known, or at least give people a hint on who you are as an artist, develop your services as you grow, and gain in reputation as time goes on. It may feel like a long time at the beginning but solid and patient foundations will set you up for a good future, as well as maintaining a positive attitude about what you're doing. Attend as many relevant art shows to show your work as you can. If the shows are juried, display the awards your art has won as part of your profiles or website backgrounds.\",\n",
       "   8),\n",
       "  ('Make yourself public. Get yourself out there as best as you can by advertising yourself. Publish some \"example\" pieces around the web to show what you can do and to demonstrate your style. Be sure to add a watermark to your digital version to protect your artwork from art thieves. Spend a little time researching online the ways in which other artists are promoting themselves. What works for them and what doesn\\'t? What do you like about their promotional strategies and what do you want to avoid? This type of research can give you a lot of ideas and also alert you to potential pitfalls for the ways in which you will promote your own artwork. Bookmark the sites of artists selling online that really inspire you, so that you can come back to them regularly to see how they\\'re evolving and succeeding. Seize the power of Twitter and Facebook to increase people\\'s knowledge of you. Tweet updates about your new paintings, your thoughts about art, and news items about art in general. On Facebook, place photos of your artwork, (digitally watermarked), photos of you receiving awards, and information about your art, artwork in general, and perhaps even some critiques of artwork.',\n",
       "   2),\n",
       "  False),\n",
       " ((\"Expect this to be a gradual process and don't expect to sell a lot right away. An online art business needs to be built up little by little. It's much the same as putting together a company (indeed, you should treat your online art sales as a business) – you will try to make your name known, or at least give people a hint on who you are as an artist, develop your services as you grow, and gain in reputation as time goes on. It may feel like a long time at the beginning but solid and patient foundations will set you up for a good future, as well as maintaining a positive attitude about what you're doing. Attend as many relevant art shows to show your work as you can. If the shows are juried, display the awards your art has won as part of your profiles or website backgrounds.\",\n",
       "   8),\n",
       "  ('Blog about your artwork. Given the hundreds of free blogging websites, you have a lot of choice in keeping a blog. Most importantly, it\\'s extremely useful to keep it updated regularly - this gives people something \"pretty to look at\", and a story to follow as your reputation increases and your sales story grows. A blog can pick up a lot of hits from search engines if you utilize the keywords feature accurately; use it to your advantage. Be sure to name your blog something simple but memorable – you\\'ll want people to be able to find you with ease. Read How to start a blog and How to increase website traffic for free for assistance. A good way to test keywords for very little cost is through using an auction site. Play around with the words you use to title your art sales, as well as the words used within the body of the text. Keep changing the words until you find the sweet spot – words that really do seem to attract the most views.',\n",
       "   3),\n",
       "  False),\n",
       " ((\"Expect this to be a gradual process and don't expect to sell a lot right away. An online art business needs to be built up little by little. It's much the same as putting together a company (indeed, you should treat your online art sales as a business) – you will try to make your name known, or at least give people a hint on who you are as an artist, develop your services as you grow, and gain in reputation as time goes on. It may feel like a long time at the beginning but solid and patient foundations will set you up for a good future, as well as maintaining a positive attitude about what you're doing. Attend as many relevant art shows to show your work as you can. If the shows are juried, display the awards your art has won as part of your profiles or website backgrounds.\",\n",
       "   8),\n",
       "  (\"Create a mailing list. This could be your most effective tool if managed well. For every sale you make, every person who sends you an email that might be interested, get all of their email addresses in digital database ready for mass emailing. At designated intervals (once a month, every other week, whenever you start a new series) send them all nice, grammatically correct, friendly emails, complete with a neatly set-out portfolio of the pictures of your recent work (a PDF can work well for this purpose). This keeps you on the radar of past customers, which is important. And if it's a really wonderful newsletter, you might get lucky and they might send it to all of their friends as well – then even more eyes are seeing your work! Every thoughtful mailing list includes an opt-out option. Don't be threatened by this; see it as good housekeeping and as retaining the clients who really do want to see your items. You're not online to hassle people who aren't interested!\",\n",
       "   4),\n",
       "  False),\n",
       " ((\"Expect this to be a gradual process and don't expect to sell a lot right away. An online art business needs to be built up little by little. It's much the same as putting together a company (indeed, you should treat your online art sales as a business) – you will try to make your name known, or at least give people a hint on who you are as an artist, develop your services as you grow, and gain in reputation as time goes on. It may feel like a long time at the beginning but solid and patient foundations will set you up for a good future, as well as maintaining a positive attitude about what you're doing. Attend as many relevant art shows to show your work as you can. If the shows are juried, display the awards your art has won as part of your profiles or website backgrounds.\",\n",
       "   8),\n",
       "  ('Take good pictures. Like they say, \"a picture\\'s worth a thousand words\" and you\\'ll want your impression on potential customers to be good. Show detail, right down to paint strokes and paint type. Be willing to show potential buyers multiple shots of your work under different light, hung on a wall, etc. This may be the only way to alleviate the justifiable fear many people have of buying a work of art that they have never seen in person. Bear in mind that not everyone has a good internet connection. Balance great photos with ease of downloading time. Talk to a web specialist if you\\'re not sure what to do. For more photography tips of relevance, read How to take better product photographs for free and How to take catalog photos.',\n",
       "   5),\n",
       "  False),\n",
       " ((\"Expect this to be a gradual process and don't expect to sell a lot right away. An online art business needs to be built up little by little. It's much the same as putting together a company (indeed, you should treat your online art sales as a business) – you will try to make your name known, or at least give people a hint on who you are as an artist, develop your services as you grow, and gain in reputation as time goes on. It may feel like a long time at the beginning but solid and patient foundations will set you up for a good future, as well as maintaining a positive attitude about what you're doing. Attend as many relevant art shows to show your work as you can. If the shows are juried, display the awards your art has won as part of your profiles or website backgrounds.\",\n",
       "   8),\n",
       "  ('Be sure to properly license your art. Licensing art is a way of proving what belongs to whom. It is a necessary bookkeeping in the arts department and will help you if there is a dispute about originality, ownership, or moral rights.',\n",
       "   6),\n",
       "  False),\n",
       " ((\"Expect this to be a gradual process and don't expect to sell a lot right away. An online art business needs to be built up little by little. It's much the same as putting together a company (indeed, you should treat your online art sales as a business) – you will try to make your name known, or at least give people a hint on who you are as an artist, develop your services as you grow, and gain in reputation as time goes on. It may feel like a long time at the beginning but solid and patient foundations will set you up for a good future, as well as maintaining a positive attitude about what you're doing. Attend as many relevant art shows to show your work as you can. If the shows are juried, display the awards your art has won as part of your profiles or website backgrounds.\",\n",
       "   8),\n",
       "  (\"Consider the option of creating your own site. Having your own site means that you can optimize every page for search engines and it sets you apart from the many artists who only use general art sales sites. Having your own website means that the viewer is not distracted by other artists and their work whilst browsing your art and your own name is likely to gain in reputation faster. You can sell directly from your site via email correspondence with potential buyers (ask them to contact you for prices, to make a purchase etc.). If you're serious about selling your art online with your own site, then it's essential with a domain name that is either your own name or the name that you want people to associate you with your art. For example, you could use a domain made up of your first and last name such as firstnamelastname.com or if you work under a pseudonym then you could use a domain name using that i.e. pseudonym.com. Give serious consideration to making your website as much like a virtual art gallery as possible. Encourage potential clients to wander through and see your paintings in a leisurely, gallery-like manner to increase their viewing enjoyment. Add prices and contact details. People want to see the price, so don't hide it or expect the customer to come up with one for you. And be available to answer their questions in a timely fashion. When creating your own website, you need to find a secure method for accepting payment and you might even consider implementing an escrow system. The more expensive your artwork is, the more careful you will need to be about money handling, including acceptance of returns and refunds. There are various methods in existence online for the safe transference of money; do your research to find out what works best for your local needs and for your global market.\",\n",
       "   7),\n",
       "  False)]"
      ]
     },
     "execution_count": 14,
     "metadata": {},
     "output_type": "execute_result"
    }
   ],
   "source": [
    "makePairs(sample)"
   ]
  },
  {
   "cell_type": "code",
   "execution_count": 21,
   "metadata": {},
   "outputs": [
    {
     "name": "stdout",
     "output_type": "stream",
     "text": [
      "['[CLS]', 'here', 'is', 'the', 'sentence', 'i', 'want', 'em', '##bed', '##ding', '##s', 'for', '.', 'hello', 'world', '.', '[SEP]']\n"
     ]
    },
    {
     "name": "stderr",
     "output_type": "stream",
     "text": [
      "2020-11-24 18:05:49,305 : INFO : Lock 140625238408464 acquired on /Users/alex/.cache/torch/transformers/3c61d016573b14f7f008c02c4e51a366c67ab274726fe2910691e2a761acf43e.637c6035640bacb831febcc2b7f7bee0a96f9b30c2d7e9ef84082d9f252f3170.lock\n"
     ]
    },
    {
     "data": {
      "application/vnd.jupyter.widget-view+json": {
       "model_id": "836bcd4b2a04419d988e988ffcabd0b1",
       "version_major": 2,
       "version_minor": 0
      },
      "text/plain": [
       "HBox(children=(HTML(value='Downloading'), FloatProgress(value=0.0, max=433.0), HTML(value='')))"
      ]
     },
     "metadata": {},
     "output_type": "display_data"
    },
    {
     "name": "stderr",
     "output_type": "stream",
     "text": [
      "2020-11-24 18:05:49,792 : INFO : Lock 140625238408464 released on /Users/alex/.cache/torch/transformers/3c61d016573b14f7f008c02c4e51a366c67ab274726fe2910691e2a761acf43e.637c6035640bacb831febcc2b7f7bee0a96f9b30c2d7e9ef84082d9f252f3170.lock\n"
     ]
    },
    {
     "name": "stdout",
     "output_type": "stream",
     "text": [
      "\n"
     ]
    },
    {
     "name": "stderr",
     "output_type": "stream",
     "text": [
      "2020-11-24 18:05:50,555 : INFO : Lock 140625238408464 acquired on /Users/alex/.cache/torch/transformers/a8041bf617d7f94ea26d15e218abd04afc2004805632abc0ed2066aa16d50d04.faf6ea826ae9c5867d12b22257f9877e6b8367890837bd60f7c54a29633f7f2f.lock\n"
     ]
    },
    {
     "data": {
      "application/vnd.jupyter.widget-view+json": {
       "model_id": "5b766906ee824fc8b63568c9201ba4c6",
       "version_major": 2,
       "version_minor": 0
      },
      "text/plain": [
       "HBox(children=(HTML(value='Downloading'), FloatProgress(value=0.0, max=440473133.0), HTML(value='')))"
      ]
     },
     "metadata": {},
     "output_type": "display_data"
    },
    {
     "name": "stderr",
     "output_type": "stream",
     "text": [
      "2020-11-24 18:07:31,007 : INFO : Lock 140625238408464 released on /Users/alex/.cache/torch/transformers/a8041bf617d7f94ea26d15e218abd04afc2004805632abc0ed2066aa16d50d04.faf6ea826ae9c5867d12b22257f9877e6b8367890837bd60f7c54a29633f7f2f.lock\n"
     ]
    },
    {
     "name": "stdout",
     "output_type": "stream",
     "text": [
      "\n"
     ]
    },
    {
     "data": {
      "text/plain": [
       "BertModel(\n",
       "  (embeddings): BertEmbeddings(\n",
       "    (word_embeddings): Embedding(30522, 768, padding_idx=0)\n",
       "    (position_embeddings): Embedding(512, 768)\n",
       "    (token_type_embeddings): Embedding(2, 768)\n",
       "    (LayerNorm): LayerNorm((768,), eps=1e-12, elementwise_affine=True)\n",
       "    (dropout): Dropout(p=0.1, inplace=False)\n",
       "  )\n",
       "  (encoder): BertEncoder(\n",
       "    (layer): ModuleList(\n",
       "      (0): BertLayer(\n",
       "        (attention): BertAttention(\n",
       "          (self): BertSelfAttention(\n",
       "            (query): Linear(in_features=768, out_features=768, bias=True)\n",
       "            (key): Linear(in_features=768, out_features=768, bias=True)\n",
       "            (value): Linear(in_features=768, out_features=768, bias=True)\n",
       "            (dropout): Dropout(p=0.1, inplace=False)\n",
       "          )\n",
       "          (output): BertSelfOutput(\n",
       "            (dense): Linear(in_features=768, out_features=768, bias=True)\n",
       "            (LayerNorm): LayerNorm((768,), eps=1e-12, elementwise_affine=True)\n",
       "            (dropout): Dropout(p=0.1, inplace=False)\n",
       "          )\n",
       "        )\n",
       "        (intermediate): BertIntermediate(\n",
       "          (dense): Linear(in_features=768, out_features=3072, bias=True)\n",
       "        )\n",
       "        (output): BertOutput(\n",
       "          (dense): Linear(in_features=3072, out_features=768, bias=True)\n",
       "          (LayerNorm): LayerNorm((768,), eps=1e-12, elementwise_affine=True)\n",
       "          (dropout): Dropout(p=0.1, inplace=False)\n",
       "        )\n",
       "      )\n",
       "      (1): BertLayer(\n",
       "        (attention): BertAttention(\n",
       "          (self): BertSelfAttention(\n",
       "            (query): Linear(in_features=768, out_features=768, bias=True)\n",
       "            (key): Linear(in_features=768, out_features=768, bias=True)\n",
       "            (value): Linear(in_features=768, out_features=768, bias=True)\n",
       "            (dropout): Dropout(p=0.1, inplace=False)\n",
       "          )\n",
       "          (output): BertSelfOutput(\n",
       "            (dense): Linear(in_features=768, out_features=768, bias=True)\n",
       "            (LayerNorm): LayerNorm((768,), eps=1e-12, elementwise_affine=True)\n",
       "            (dropout): Dropout(p=0.1, inplace=False)\n",
       "          )\n",
       "        )\n",
       "        (intermediate): BertIntermediate(\n",
       "          (dense): Linear(in_features=768, out_features=3072, bias=True)\n",
       "        )\n",
       "        (output): BertOutput(\n",
       "          (dense): Linear(in_features=3072, out_features=768, bias=True)\n",
       "          (LayerNorm): LayerNorm((768,), eps=1e-12, elementwise_affine=True)\n",
       "          (dropout): Dropout(p=0.1, inplace=False)\n",
       "        )\n",
       "      )\n",
       "      (2): BertLayer(\n",
       "        (attention): BertAttention(\n",
       "          (self): BertSelfAttention(\n",
       "            (query): Linear(in_features=768, out_features=768, bias=True)\n",
       "            (key): Linear(in_features=768, out_features=768, bias=True)\n",
       "            (value): Linear(in_features=768, out_features=768, bias=True)\n",
       "            (dropout): Dropout(p=0.1, inplace=False)\n",
       "          )\n",
       "          (output): BertSelfOutput(\n",
       "            (dense): Linear(in_features=768, out_features=768, bias=True)\n",
       "            (LayerNorm): LayerNorm((768,), eps=1e-12, elementwise_affine=True)\n",
       "            (dropout): Dropout(p=0.1, inplace=False)\n",
       "          )\n",
       "        )\n",
       "        (intermediate): BertIntermediate(\n",
       "          (dense): Linear(in_features=768, out_features=3072, bias=True)\n",
       "        )\n",
       "        (output): BertOutput(\n",
       "          (dense): Linear(in_features=3072, out_features=768, bias=True)\n",
       "          (LayerNorm): LayerNorm((768,), eps=1e-12, elementwise_affine=True)\n",
       "          (dropout): Dropout(p=0.1, inplace=False)\n",
       "        )\n",
       "      )\n",
       "      (3): BertLayer(\n",
       "        (attention): BertAttention(\n",
       "          (self): BertSelfAttention(\n",
       "            (query): Linear(in_features=768, out_features=768, bias=True)\n",
       "            (key): Linear(in_features=768, out_features=768, bias=True)\n",
       "            (value): Linear(in_features=768, out_features=768, bias=True)\n",
       "            (dropout): Dropout(p=0.1, inplace=False)\n",
       "          )\n",
       "          (output): BertSelfOutput(\n",
       "            (dense): Linear(in_features=768, out_features=768, bias=True)\n",
       "            (LayerNorm): LayerNorm((768,), eps=1e-12, elementwise_affine=True)\n",
       "            (dropout): Dropout(p=0.1, inplace=False)\n",
       "          )\n",
       "        )\n",
       "        (intermediate): BertIntermediate(\n",
       "          (dense): Linear(in_features=768, out_features=3072, bias=True)\n",
       "        )\n",
       "        (output): BertOutput(\n",
       "          (dense): Linear(in_features=3072, out_features=768, bias=True)\n",
       "          (LayerNorm): LayerNorm((768,), eps=1e-12, elementwise_affine=True)\n",
       "          (dropout): Dropout(p=0.1, inplace=False)\n",
       "        )\n",
       "      )\n",
       "      (4): BertLayer(\n",
       "        (attention): BertAttention(\n",
       "          (self): BertSelfAttention(\n",
       "            (query): Linear(in_features=768, out_features=768, bias=True)\n",
       "            (key): Linear(in_features=768, out_features=768, bias=True)\n",
       "            (value): Linear(in_features=768, out_features=768, bias=True)\n",
       "            (dropout): Dropout(p=0.1, inplace=False)\n",
       "          )\n",
       "          (output): BertSelfOutput(\n",
       "            (dense): Linear(in_features=768, out_features=768, bias=True)\n",
       "            (LayerNorm): LayerNorm((768,), eps=1e-12, elementwise_affine=True)\n",
       "            (dropout): Dropout(p=0.1, inplace=False)\n",
       "          )\n",
       "        )\n",
       "        (intermediate): BertIntermediate(\n",
       "          (dense): Linear(in_features=768, out_features=3072, bias=True)\n",
       "        )\n",
       "        (output): BertOutput(\n",
       "          (dense): Linear(in_features=3072, out_features=768, bias=True)\n",
       "          (LayerNorm): LayerNorm((768,), eps=1e-12, elementwise_affine=True)\n",
       "          (dropout): Dropout(p=0.1, inplace=False)\n",
       "        )\n",
       "      )\n",
       "      (5): BertLayer(\n",
       "        (attention): BertAttention(\n",
       "          (self): BertSelfAttention(\n",
       "            (query): Linear(in_features=768, out_features=768, bias=True)\n",
       "            (key): Linear(in_features=768, out_features=768, bias=True)\n",
       "            (value): Linear(in_features=768, out_features=768, bias=True)\n",
       "            (dropout): Dropout(p=0.1, inplace=False)\n",
       "          )\n",
       "          (output): BertSelfOutput(\n",
       "            (dense): Linear(in_features=768, out_features=768, bias=True)\n",
       "            (LayerNorm): LayerNorm((768,), eps=1e-12, elementwise_affine=True)\n",
       "            (dropout): Dropout(p=0.1, inplace=False)\n",
       "          )\n",
       "        )\n",
       "        (intermediate): BertIntermediate(\n",
       "          (dense): Linear(in_features=768, out_features=3072, bias=True)\n",
       "        )\n",
       "        (output): BertOutput(\n",
       "          (dense): Linear(in_features=3072, out_features=768, bias=True)\n",
       "          (LayerNorm): LayerNorm((768,), eps=1e-12, elementwise_affine=True)\n",
       "          (dropout): Dropout(p=0.1, inplace=False)\n",
       "        )\n",
       "      )\n",
       "      (6): BertLayer(\n",
       "        (attention): BertAttention(\n",
       "          (self): BertSelfAttention(\n",
       "            (query): Linear(in_features=768, out_features=768, bias=True)\n",
       "            (key): Linear(in_features=768, out_features=768, bias=True)\n",
       "            (value): Linear(in_features=768, out_features=768, bias=True)\n",
       "            (dropout): Dropout(p=0.1, inplace=False)\n",
       "          )\n",
       "          (output): BertSelfOutput(\n",
       "            (dense): Linear(in_features=768, out_features=768, bias=True)\n",
       "            (LayerNorm): LayerNorm((768,), eps=1e-12, elementwise_affine=True)\n",
       "            (dropout): Dropout(p=0.1, inplace=False)\n",
       "          )\n",
       "        )\n",
       "        (intermediate): BertIntermediate(\n",
       "          (dense): Linear(in_features=768, out_features=3072, bias=True)\n",
       "        )\n",
       "        (output): BertOutput(\n",
       "          (dense): Linear(in_features=3072, out_features=768, bias=True)\n",
       "          (LayerNorm): LayerNorm((768,), eps=1e-12, elementwise_affine=True)\n",
       "          (dropout): Dropout(p=0.1, inplace=False)\n",
       "        )\n",
       "      )\n",
       "      (7): BertLayer(\n",
       "        (attention): BertAttention(\n",
       "          (self): BertSelfAttention(\n",
       "            (query): Linear(in_features=768, out_features=768, bias=True)\n",
       "            (key): Linear(in_features=768, out_features=768, bias=True)\n",
       "            (value): Linear(in_features=768, out_features=768, bias=True)\n",
       "            (dropout): Dropout(p=0.1, inplace=False)\n",
       "          )\n",
       "          (output): BertSelfOutput(\n",
       "            (dense): Linear(in_features=768, out_features=768, bias=True)\n",
       "            (LayerNorm): LayerNorm((768,), eps=1e-12, elementwise_affine=True)\n",
       "            (dropout): Dropout(p=0.1, inplace=False)\n",
       "          )\n",
       "        )\n",
       "        (intermediate): BertIntermediate(\n",
       "          (dense): Linear(in_features=768, out_features=3072, bias=True)\n",
       "        )\n",
       "        (output): BertOutput(\n",
       "          (dense): Linear(in_features=3072, out_features=768, bias=True)\n",
       "          (LayerNorm): LayerNorm((768,), eps=1e-12, elementwise_affine=True)\n",
       "          (dropout): Dropout(p=0.1, inplace=False)\n",
       "        )\n",
       "      )\n",
       "      (8): BertLayer(\n",
       "        (attention): BertAttention(\n",
       "          (self): BertSelfAttention(\n",
       "            (query): Linear(in_features=768, out_features=768, bias=True)\n",
       "            (key): Linear(in_features=768, out_features=768, bias=True)\n",
       "            (value): Linear(in_features=768, out_features=768, bias=True)\n",
       "            (dropout): Dropout(p=0.1, inplace=False)\n",
       "          )\n",
       "          (output): BertSelfOutput(\n",
       "            (dense): Linear(in_features=768, out_features=768, bias=True)\n",
       "            (LayerNorm): LayerNorm((768,), eps=1e-12, elementwise_affine=True)\n",
       "            (dropout): Dropout(p=0.1, inplace=False)\n",
       "          )\n",
       "        )\n",
       "        (intermediate): BertIntermediate(\n",
       "          (dense): Linear(in_features=768, out_features=3072, bias=True)\n",
       "        )\n",
       "        (output): BertOutput(\n",
       "          (dense): Linear(in_features=3072, out_features=768, bias=True)\n",
       "          (LayerNorm): LayerNorm((768,), eps=1e-12, elementwise_affine=True)\n",
       "          (dropout): Dropout(p=0.1, inplace=False)\n",
       "        )\n",
       "      )\n",
       "      (9): BertLayer(\n",
       "        (attention): BertAttention(\n",
       "          (self): BertSelfAttention(\n",
       "            (query): Linear(in_features=768, out_features=768, bias=True)\n",
       "            (key): Linear(in_features=768, out_features=768, bias=True)\n",
       "            (value): Linear(in_features=768, out_features=768, bias=True)\n",
       "            (dropout): Dropout(p=0.1, inplace=False)\n",
       "          )\n",
       "          (output): BertSelfOutput(\n",
       "            (dense): Linear(in_features=768, out_features=768, bias=True)\n",
       "            (LayerNorm): LayerNorm((768,), eps=1e-12, elementwise_affine=True)\n",
       "            (dropout): Dropout(p=0.1, inplace=False)\n",
       "          )\n",
       "        )\n",
       "        (intermediate): BertIntermediate(\n",
       "          (dense): Linear(in_features=768, out_features=3072, bias=True)\n",
       "        )\n",
       "        (output): BertOutput(\n",
       "          (dense): Linear(in_features=3072, out_features=768, bias=True)\n",
       "          (LayerNorm): LayerNorm((768,), eps=1e-12, elementwise_affine=True)\n",
       "          (dropout): Dropout(p=0.1, inplace=False)\n",
       "        )\n",
       "      )\n",
       "      (10): BertLayer(\n",
       "        (attention): BertAttention(\n",
       "          (self): BertSelfAttention(\n",
       "            (query): Linear(in_features=768, out_features=768, bias=True)\n",
       "            (key): Linear(in_features=768, out_features=768, bias=True)\n",
       "            (value): Linear(in_features=768, out_features=768, bias=True)\n",
       "            (dropout): Dropout(p=0.1, inplace=False)\n",
       "          )\n",
       "          (output): BertSelfOutput(\n",
       "            (dense): Linear(in_features=768, out_features=768, bias=True)\n",
       "            (LayerNorm): LayerNorm((768,), eps=1e-12, elementwise_affine=True)\n",
       "            (dropout): Dropout(p=0.1, inplace=False)\n",
       "          )\n",
       "        )\n",
       "        (intermediate): BertIntermediate(\n",
       "          (dense): Linear(in_features=768, out_features=3072, bias=True)\n",
       "        )\n",
       "        (output): BertOutput(\n",
       "          (dense): Linear(in_features=3072, out_features=768, bias=True)\n",
       "          (LayerNorm): LayerNorm((768,), eps=1e-12, elementwise_affine=True)\n",
       "          (dropout): Dropout(p=0.1, inplace=False)\n",
       "        )\n",
       "      )\n",
       "      (11): BertLayer(\n",
       "        (attention): BertAttention(\n",
       "          (self): BertSelfAttention(\n",
       "            (query): Linear(in_features=768, out_features=768, bias=True)\n",
       "            (key): Linear(in_features=768, out_features=768, bias=True)\n",
       "            (value): Linear(in_features=768, out_features=768, bias=True)\n",
       "            (dropout): Dropout(p=0.1, inplace=False)\n",
       "          )\n",
       "          (output): BertSelfOutput(\n",
       "            (dense): Linear(in_features=768, out_features=768, bias=True)\n",
       "            (LayerNorm): LayerNorm((768,), eps=1e-12, elementwise_affine=True)\n",
       "            (dropout): Dropout(p=0.1, inplace=False)\n",
       "          )\n",
       "        )\n",
       "        (intermediate): BertIntermediate(\n",
       "          (dense): Linear(in_features=768, out_features=3072, bias=True)\n",
       "        )\n",
       "        (output): BertOutput(\n",
       "          (dense): Linear(in_features=3072, out_features=768, bias=True)\n",
       "          (LayerNorm): LayerNorm((768,), eps=1e-12, elementwise_affine=True)\n",
       "          (dropout): Dropout(p=0.1, inplace=False)\n",
       "        )\n",
       "      )\n",
       "    )\n",
       "  )\n",
       "  (pooler): BertPooler(\n",
       "    (dense): Linear(in_features=768, out_features=768, bias=True)\n",
       "    (activation): Tanh()\n",
       "  )\n",
       ")"
      ]
     },
     "execution_count": 21,
     "metadata": {},
     "output_type": "execute_result"
    }
   ],
   "source": [
    "text = \"Here is the sentence I want embeddings for. Hello World.\"\n",
    "marked_text = \"[CLS] \" + text + \" [SEP]\"\n",
    "\n",
    "# Tokenize our sentence with the BERT tokenizer.\n",
    "tokenized_text = tokenizer.tokenize(marked_text)\n",
    "\n",
    "# Print out the tokens.\n",
    "print (tokenized_text)\n",
    "\n",
    "# Map the token strings to their vocabulary indeces.\n",
    "indexed_tokens = tokenizer.convert_tokens_to_ids(tokenized_text)\n",
    "\n",
    "# Display the words with their indeces.\n",
    "#for tup in zip(tokenized_text, indexed_tokens):\n",
    "#    print('{:<12} {:>6,}'.format(tup[0], tup[1]))\n",
    "    \n",
    "segments_ids = [1] * len(tokenized_text)\n",
    "\n",
    "#print(segments_ids)\n",
    "\n",
    "tokens_tensor = torch.tensor([indexed_tokens])\n",
    "segments_tensors = torch.tensor([segments_ids])\n",
    "\n",
    "# Load pre-trained model (weights)\n",
    "model = BertModel.from_pretrained('bert-base-uncased',\n",
    "                                  output_hidden_states = True, # Whether the model returns all hidden-states.\n",
    "                                  )\n",
    "\n",
    "# Put the model in \"evaluation\" mode, meaning feed-forward operation.\n",
    "model.eval()\n"
   ]
  },
  {
   "cell_type": "code",
   "execution_count": 23,
   "metadata": {},
   "outputs": [],
   "source": [
    "# Run the text through BERT, and collect all of the hidden states produced\n",
    "# from all 12 layers. \n",
    "with torch.no_grad():\n",
    "\n",
    "    outputs = model(tokens_tensor, segments_tensors)\n",
    "\n",
    "    # Evaluating the model will return a different number of objects based on \n",
    "    # how it's  configured in the `from_pretrained` call earlier. In this case, \n",
    "    # becase we set `output_hidden_states = True`, the third item will be the \n",
    "    # hidden states from all layers. See the documentation for more details:\n",
    "    # https://huggingface.co/transformers/model_doc/bert.html#bertmodel\n",
    "    hidden_states = outputs[2]"
   ]
  },
  {
   "cell_type": "code",
   "execution_count": 24,
   "metadata": {},
   "outputs": [
    {
     "data": {
      "text/plain": [
       "torch.Size([13, 1, 17, 768])"
      ]
     },
     "execution_count": 24,
     "metadata": {},
     "output_type": "execute_result"
    }
   ],
   "source": [
    "# Concatenate the tensors for all layers. We use `stack` here to\n",
    "# create a new dimension in the tensor.\n",
    "token_embeddings = torch.stack(hidden_states, dim=0)\n",
    "\n",
    "token_embeddings.size()"
   ]
  },
  {
   "cell_type": "code",
   "execution_count": 25,
   "metadata": {},
   "outputs": [
    {
     "data": {
      "text/plain": [
       "torch.Size([13, 17, 768])"
      ]
     },
     "execution_count": 25,
     "metadata": {},
     "output_type": "execute_result"
    }
   ],
   "source": [
    "# Remove dimension 1, the \"batches\".\n",
    "token_embeddings = torch.squeeze(token_embeddings, dim=1)\n",
    "\n",
    "token_embeddings.size()"
   ]
  },
  {
   "cell_type": "code",
   "execution_count": 26,
   "metadata": {},
   "outputs": [
    {
     "data": {
      "text/plain": [
       "torch.Size([17, 13, 768])"
      ]
     },
     "execution_count": 26,
     "metadata": {},
     "output_type": "execute_result"
    }
   ],
   "source": [
    "# Swap dimensions 0 and 1.\n",
    "token_embeddings = token_embeddings.permute(1,0,2)\n",
    "\n",
    "token_embeddings.size()"
   ]
  },
  {
   "cell_type": "code",
   "execution_count": 27,
   "metadata": {},
   "outputs": [
    {
     "name": "stdout",
     "output_type": "stream",
     "text": [
      "Shape is: 17 x 3072\n"
     ]
    }
   ],
   "source": [
    "# Stores the token vectors, with shape [22 x 3,072]\n",
    "token_vecs_cat = []\n",
    "\n",
    "# `token_embeddings` is a [22 x 12 x 768] tensor.\n",
    "\n",
    "# For each token in the sentence...\n",
    "for token in token_embeddings:\n",
    "    \n",
    "    # `token` is a [12 x 768] tensor\n",
    "\n",
    "    # Concatenate the vectors (that is, append them together) from the last \n",
    "    # four layers.\n",
    "    # Each layer vector is 768 values, so `cat_vec` is length 3,072.\n",
    "    cat_vec = torch.cat((token[-1], token[-2], token[-3], token[-4]), dim=0)\n",
    "    \n",
    "    # Use `cat_vec` to represent `token`.\n",
    "    token_vecs_cat.append(cat_vec)\n",
    "\n",
    "print ('Shape is: %d x %d' % (len(token_vecs_cat), len(token_vecs_cat[0])))"
   ]
  },
  {
   "cell_type": "code",
   "execution_count": 28,
   "metadata": {},
   "outputs": [],
   "source": [
    "# `hidden_states` has shape [13 x 1 x 22 x 768]\n",
    "\n",
    "# `token_vecs` is a tensor with shape [22 x 768]\n",
    "token_vecs = hidden_states[-2][0]\n",
    "\n",
    "# Calculate the average of all 22 token vectors.\n",
    "sentence_embedding = torch.mean(token_vecs, dim=0)"
   ]
  },
  {
   "cell_type": "code",
   "execution_count": 29,
   "metadata": {},
   "outputs": [
    {
     "name": "stdout",
     "output_type": "stream",
     "text": [
      "Our final sentence embedding vector of shape: torch.Size([768])\n"
     ]
    }
   ],
   "source": [
    "print (\"Our final sentence embedding vector of shape:\", sentence_embedding.size())"
   ]
  },
  {
   "cell_type": "code",
   "execution_count": 37,
   "metadata": {},
   "outputs": [
    {
     "name": "stdout",
     "output_type": "stream",
     "text": [
      "[-0.16164737939834595, -0.3268047571182251, 0.24751220643520355, -0.22423265874385834, -0.2598980963230133, 0.1893417239189148, 0.13719268143177032, 0.849606990814209, -0.18104837834835052, -0.23995867371559143, 0.16447508335113525, -0.19931650161743164, -0.24640190601348877, 0.45479241013526917, -0.3124198317527771, 0.632423460483551, -0.4426676332950592, 0.21260316669940948, -0.12038717418909073, -0.136466383934021, 0.304690957069397, 0.4766351580619812, -0.45044445991516113, -0.31503698229789734, 0.49461498856544495, -0.02301851101219654, -0.22238852083683014, -0.16233249008655548, -0.6428730487823486, -0.09117530286312103, -0.08594866096973419, 0.41502851247787476, 0.11608235538005829, -0.44830018281936646, -0.36656835675239563, -0.06302378326654434, 0.15583102405071259, -0.29955780506134033, -0.08836502581834793, 0.30205416679382324, -0.589259922504425, -0.36522650718688965, 0.5732904672622681, -0.45592254400253296, -0.02602093294262886, 0.09739793092012405, -0.2548063099384308, -0.38457757234573364, -0.0894923135638237, -0.3176732361316681, -1.1528069972991943, 0.26337930560112, -0.001453052507713437, -0.015520614571869373, 0.06275007128715515, 0.45522835850715637, 0.42311787605285645, -0.814782977104187, 0.4394625723361969, 0.10182518512010574, -0.35570502281188965, 0.17077237367630005, 0.20079685747623444, -0.040597476065158844, 0.4319462180137634, -0.17300835251808167, 0.1482151299715042, 0.2592847943305969, -0.8956398963928223, 0.39973267912864685, -0.02599114179611206, -0.015446750447154045, 0.37422046065330505, -0.18200145661830902, 0.20086050033569336, -0.14648926258087158, -0.5917068123817444, 0.5135998725891113, -0.36324095726013184, 0.05004790052771568, -0.40365636348724365, 0.3989998400211334, 0.02455202303826809, -0.012995232827961445, 0.6856754422187805, 0.2457737922668457, 0.03711053729057312, -0.18181420862674713, -0.4956522583961487, 0.4515466094017029, -0.10163547843694687, -0.2516730725765228, -0.4899137020111084, -0.20271599292755127, 1.0641731023788452, -0.6196399331092834, -0.7620735764503479, 0.21118837594985962, -0.37995433807373047, 0.24207769334316254, -0.02320867031812668, -0.5412311553955078, 0.19221319258213043, -0.17308741807937622, -0.4998191297054291, -0.15414488315582275, -0.6021573543548584, -0.0442255437374115, 0.4818589389324188, 0.12759461998939514, 0.2960934042930603, 0.11690632253885269, 0.18260830640792847, -0.4082053303718567, 0.04506053775548935, 0.23139503598213196, -0.378294974565506, 0.1495186984539032, 0.31438785791397095, -0.17358434200286865, -0.29010891914367676, 0.010709504596889019, 0.24347549676895142, 0.4694575071334839, 0.2118338793516159, 0.5141313076019287, 0.2647842466831207, 0.22273632884025574, 0.2750849723815918, -0.07158020883798599, 0.25878670811653137, 0.6529367566108704, 1.2024959325790405, -0.39451709389686584, 0.2533895671367645, 0.31694111227989197, 0.031053967773914337, -0.2278895527124405, -0.7883433699607849, -0.47249966859817505, -0.3118169903755188, 0.43918684124946594, 0.42229607701301575, 0.2133720964193344, 0.6550377607345581, 0.44566458463668823, -0.6230879426002502, 0.05904403328895569, 0.22630807757377625, 0.16231299936771393, -0.014475340023636818, 0.4079498052597046, -0.6184046268463135, 0.1151149794459343, -0.17226707935333252, -0.03832729905843735, 0.32375776767730713, 0.6120710968971252, 0.24444802105426788, 0.27289295196533203, 0.5144591331481934, 0.292884886264801, -0.01614668034017086, 0.32473936676979065, 0.7255469560623169, -0.2267804741859436, 0.1403832584619522, 0.5844359397888184, 0.1419920027256012, -0.20175182819366455, 0.111124187707901, -0.3283812701702118, 0.13571056723594666, -0.11428670585155487, -0.03596106171607971, -0.03770091384649277, 0.2569669783115387, -0.33918336033821106, 0.6066606640815735, 0.4763800799846649, -0.5218024253845215, -0.13578571379184723, -0.27810150384902954, -0.37736082077026367, 0.09104469418525696, 0.18276450037956238, 0.7957753539085388, -0.5722524523735046, 0.23672927916049957, 0.5456104874610901, -0.56271892786026, -0.1431829333305359, 0.1827966570854187, -0.5171664357185364, 0.3071822226047516, 0.06869715452194214, -0.2727935016155243, -0.21298019587993622, 0.08714190125465393, 0.16155199706554413, 0.4286987781524658, 0.30884623527526855, -0.08808960765600204, -0.46994224190711975, 0.04995374754071236, 0.37033799290657043, -0.34440532326698303, 0.03450589254498482, -0.676682710647583, 0.21250876784324646, -0.4516296088695526, 1.2994788885116577, -0.00827636569738388, -0.022810056805610657, 0.48678964376449585, -0.07915819436311722, 0.26187366247177124, -0.4790151119232178, 0.03579354286193848, 0.21021448075771332, 0.19683198630809784, -0.37714630365371704, -0.3032165467739105, 0.42231690883636475, -0.35297077894210815, 1.1837091445922852, 0.37574970722198486, 0.14620530605316162, 0.9371193647384644, 0.21935372054576874, 0.20356665551662445, -0.14579394459724426, 0.14702096581459045, 0.2779419720172882, 0.14614981412887573, 0.3680247962474823, -0.3427398204803467, -0.6207295656204224, -0.18299618363380432, 0.20396476984024048, 0.04107392951846123, 0.468320369720459, 0.48056119680404663, -0.17827725410461426, -0.2913435399532318, 0.2884961664676666, -0.05591587349772453, -0.537757396697998, 0.03377930074930191, -0.06691963970661163, -0.4552142024040222, -0.7226298451423645, -0.3953559398651123, -0.34009695053100586, -0.20718851685523987, 0.21934774518013, -0.6541336178779602, -0.22736915946006775, -0.3788263201713562, 0.5602717995643616, 0.16634896397590637, 0.1339089423418045, -0.17926043272018433, 0.12979646027088165, -0.547876238822937, 0.14110799133777618, 0.0263634342700243, 0.1720033884048462, 0.7339401245117188, 0.3015223741531372, -0.36095020174980164, -0.44820496439933777, -0.2723579704761505, 0.5074902176856995, -0.7554863095283508, -0.2499312162399292, -0.1855791062116623, 0.1786363273859024, -0.2296948879957199, -0.547574520111084, 0.06594868004322052, 0.18283629417419434, -0.25515565276145935, -0.12432581186294556, -0.3241121768951416, -0.009282192215323448, 0.49197348952293396, -0.16751010715961456, -0.05516497418284416, -0.23018735647201538, -0.2702023983001709, -0.07911860942840576, -0.4969750642776489, -0.4294869601726532, 0.5486502647399902, 0.26768818497657776, 0.2753659188747406, 0.22062139213085175, -0.3568485677242279, -0.4951743483543396, -0.5205137133598328, -0.37247514724731445, 0.1889597624540329, 0.17580215632915497, -0.8150232434272766, 0.35755297541618347, -0.4050832688808441, -0.4091385006904602, -9.213279724121094, -0.2934216558933258, -0.3028874397277832, -0.2420806884765625, -0.16507212817668915, 0.21056674420833588, -0.09400945901870728, -0.07610427588224411, -0.10515046119689941, -0.3408181965351105, -0.23829911649227142, -0.7685787677764893, -0.19928285479545593, -0.23468782007694244, -0.38757115602493286, -0.19741809368133545, -0.009479288943111897, 0.26746368408203125, 0.4358732998371124, 0.2656676769256592, -0.30929073691368103, -0.0498497448861599, 0.43867430090904236, -0.32306355237960815, -0.10415155440568924, 0.2115565538406372, -0.10792362689971924, 0.14818806946277618, -0.05029188096523285, -0.46113523840904236, -0.07170076668262482, -0.38158249855041504, 0.2892654836177826, 0.07951021939516068, -0.8155779838562012, 0.2891567647457123, -0.24068038165569305, -0.17262215912342072, 0.28737837076187134, -0.464408278465271, 0.20691175758838654, -0.01835670880973339, 0.017559394240379333, -0.41219452023506165, 0.5824859738349915, -0.8940428495407104, -0.3824063241481781, -0.1289997696876526, 0.3468049466609955, 0.32207974791526794, -0.7073262929916382, -0.347214937210083, 0.5298827886581421, -0.36992400884628296, 0.40898436307907104, 0.006207471247762442, 0.5046667456626892, 0.30057036876678467, -0.013773639686405659, -0.7744315266609192, 0.49819469451904297, -0.2989424765110016, 0.017066268250346184, -0.3576204776763916, 0.009389109909534454, -0.17370732128620148, -1.1213676929473877, -0.29107919335365295, -0.4447692632675171, 0.08846519142389297, -0.5642557740211487, -0.08720181882381439, -0.18492940068244934, -1.4944756031036377, -0.3255496025085449, -0.2642938494682312, 0.2998253107070923, -0.3975137174129486, 0.10320305824279785, -0.3404480814933777, -0.7926515340805054, -0.9359398484230042, -0.29242610931396484, 0.24748550355434418, -0.2463008612394333, 0.023461245000362396, 0.00034606151166372, -0.7460715770721436, -0.25732046365737915, -0.25325807929039, -0.05561436712741852, 0.36935409903526306, -0.034207992255687714, 0.4693157374858856, -0.1045784130692482, -0.05310048162937164, 0.9668736457824707, -0.7983217239379883, -0.24667128920555115, 0.07856222987174988, 0.40125399827957153, -0.14258375763893127, 0.1690714955329895, 0.4228789210319519, 0.023858502507209778, 0.5107781887054443, -0.6647320985794067, 0.06485366076231003, 0.07476965337991714, 0.2049453854560852, -0.0024098113644868135, 0.028437471017241478, -0.10664959251880646, -0.10200270265340805, -0.7373512387275696, 0.04753663390874863, 0.44461512565612793, -0.11187487095594406, 0.22738128900527954, -0.7913827300071716, -0.40961429476737976, 0.20666766166687012, -0.40617337822914124, -0.27017709612846375, -0.1447005718946457, -0.22149421274662018, 0.32241448760032654, -0.10706550627946854, -0.16106118261814117, -0.4680638313293457, 0.06973522901535034, -0.11843115091323853, -0.06852751225233078, 0.09187667816877365, 0.3204958438873291, -0.14021378755569458, -0.3224656879901886, -0.13041380047798157, 0.03723578527569771, 0.14880241453647614, 0.03435473516583443, 0.25362977385520935, 0.48003268241882324, -0.07253829389810562, 0.3667905628681183, 0.029767081141471863, 0.09788069874048233, 0.009518220089375973, 0.031784430146217346, 0.06554477661848068, 0.03411019966006279, -0.4860294461250305, 0.29006296396255493, -0.07539066672325134, -0.11610738933086395, 0.14300382137298584, -0.0641273558139801, -0.23654873669147491, 0.2064334601163864, -0.26856115460395813, 0.21273371577262878, 0.09841969609260559, 0.4193521738052368, 0.2513452172279358, 0.1411074548959732, -0.30943408608436584, -0.5471159219741821, 0.2704436182975769, -0.07752450555562973, -0.753543496131897, -0.3501870334148407, 0.29410451650619507, 0.48288649320602417, 0.31980788707733154, 0.47709959745407104, 0.4494813084602356, 0.26096630096435547, -0.11865220218896866, 0.29952743649482727, 0.5219886302947998, -0.14251455664634705, 0.0007109189173206687, 0.11030679941177368, 0.061162255704402924, 0.5380846261978149, 0.44693735241889954, -0.03319210931658745, 0.04086487740278244, 0.22363975644111633, 0.13862819969654083, -0.6797182559967041, 0.442282110452652, -0.5030996203422546, -1.0898905992507935, -0.43206700682640076, -1.1879109144210815, 0.09686917066574097, -0.00875714048743248, 0.1315719336271286, -0.016291378065943718, 0.14349128305912018, 0.23544184863567352, -0.7410743832588196, 0.1305674910545349, -0.5007007122039795, -0.11515369266271591, -0.12613162398338318, 0.05620027706027031, 0.3933104872703552, 0.2057858258485794, 0.44400906562805176, -0.3626493811607361, -0.6059082746505737, -1.2925941944122314, 0.3194778263568878, -0.05943252891302109, -0.08443479984998703, -0.21432889997959137, -0.784866452217102, 0.025113368406891823, -0.27566462755203247, 0.02210952527821064, 0.4398749768733978, 0.139826238155365, -0.312155544757843, -0.2952844202518463, -0.15489079058170319, -0.27020031213760376, -0.44061461091041565, 0.05113866180181503, -0.07279713451862335, -1.1904327869415283, 0.3853003978729248, -0.03752423822879791, 0.06197294220328331, -0.8642837405204773, -0.13622578978538513, -0.2307593822479248, -0.3826495110988617, -0.2365831434726715, -0.03878430277109146, -0.5386711359024048, -0.01620507799088955, -0.5018320083618164, -0.25586166977882385, -0.4063701927661896, -0.45648956298828125, 0.23345941305160522, -0.34583255648612976, 0.2520756423473358, 0.12136136740446091, 0.13815753161907196, -0.7037410140037537, -0.08967072516679764, 0.08750785887241364, -0.14256702363491058, -0.12262526899576187, -0.18852894008159637, -0.49148261547088623, 0.5255293250083923, 0.16535338759422302, 0.08439324051141739, 0.24003493785858154, 1.0876315832138062, 0.25818851590156555, -0.11788740009069443, 0.17909587919712067, 0.24314406514167786, 0.3754851520061493, -0.03995797038078308, -0.6571301221847534, 0.1403813660144806, 0.17260754108428955, 0.1505195051431656, -0.09764672070741653, -0.525815486907959, -0.1562805324792862, -0.7001000642776489, 0.43898865580558777, -0.46186569333076477, 0.011363140307366848, -0.17763809859752655, -0.3217332065105438, 0.14604337513446808, 0.3287859559059143, -0.06765607744455338, -0.2841965854167938, 0.044907454401254654, 0.352977454662323, -0.21103370189666748, -0.5009341835975647, 0.3299548029899597, -0.46759992837905884, 0.29599717259407043, 0.22063328325748444, 0.591396152973175, 0.6922517418861389, -0.22320592403411865, 0.03974772244691849, 0.11285479366779327, -0.1208459883928299, 0.32637855410575867, 0.11914671212434769, 0.12344544380903244, -0.1908070296049118, 0.1647901087999344, 0.1549912840127945, -0.07667730003595352, -0.09287165105342865, 0.07761591672897339, -0.12321764975786209, -0.08512736856937408, 0.9946679472923279, 0.35956504940986633, -0.37845444679260254, -0.12233220785856247, -0.2573835849761963, -0.6478095054626465, -0.52315354347229, 0.1444450318813324, -0.3763997554779053, -0.09844870120286942, 0.753969669342041, -0.019561931490898132, -0.5712594389915466, 0.4245832860469818, -0.6180104613304138, -0.5862404704093933, -0.24936707317829132, 0.49370524287223816, -0.45755434036254883, 0.19508817791938782, -0.15080127120018005, 0.27891549468040466, -0.09834785014390945, -0.22040361166000366, 0.36450445652008057, 0.013701523654162884, 0.10587077587842941, 0.12871040403842926, -0.13277210295200348, 0.5086079239845276, 0.12149971723556519, 0.2575865089893341, -0.3360777497291565, -0.4143200218677521, 0.042657624930143356, 0.3754894733428955, 0.3287062644958496, 0.5286070108413696, 0.21972525119781494, 0.38038161396980286, -0.04476551339030266, -0.05759716033935547, 0.4349793791770935, 0.07559356093406677, 0.5069435834884644, 0.30398839712142944, 0.220514178276062, 0.5480725765228271, 0.20899540185928345, 0.6155664920806885, 0.17732085287570953, -0.3056539297103882, 0.17752204835414886, 0.6733770966529846, 0.30424007773399353, 0.42871636152267456, 0.553342342376709, -0.6959365606307983, 0.3346789479255676, 0.3706281781196594, 0.24531863629817963, 0.0865999087691307, -0.5393760204315186, 0.3734542429447174, 0.05713865906000137, -0.06988485157489777, -0.5762103199958801, -0.4585433006286621, -0.17158137261867523, -0.15078794956207275, -0.000576028716750443, -0.037688083946704865, 0.1858063042163849, -0.3733307123184204, 0.02927277982234955, -0.4106808006763458, 0.10371750593185425, 0.020948175340890884, -0.25257864594459534, -0.09337387979030609, 0.11909052729606628, -0.14091934263706207, 0.5865221619606018, 0.16794399917125702, -0.18787914514541626, 0.39582011103630066, 0.5129963159561157, -0.07448487728834152, 0.45848000049591064, -0.35154229402542114, 0.6113634705543518, 0.15423166751861572, -0.3705314099788666, 0.3623184859752655, 0.022352006286382675, 0.09488227963447571, -0.34300103783607483, -0.3787066638469696, 0.4929850995540619, 0.6475372910499573, -0.1676214188337326, -0.019320577383041382, 0.25492149591445923, 0.0668347030878067, -0.13376332819461823, -0.3673069477081299, -0.1370369791984558, 0.029618239030241966, -0.4860853850841522, 0.12121263891458511, 0.10373513400554657, 0.4096766710281372, 0.2974795699119568, -0.36506009101867676, 0.1396377682685852, 0.3158535659313202, -0.08306771516799927, -0.4311026334762573, 0.5067372918128967, 0.42167067527770996, 0.5020098090171814, 0.12343224138021469, 0.1471051126718521, 0.012927916832268238, -0.28727737069129944, -0.0749378427863121, 0.008623681962490082, 0.12563499808311462, -0.559453547000885, 0.47802773118019104, -0.38122525811195374, 0.24479004740715027, -0.17786769568920135, 0.3974160850048065, 0.30965206027030945, -0.4903891980648041, -0.47828999161720276, -0.14337556064128876, -0.055367350578308105, 0.17748790979385376, -0.5302521586418152, -0.4394206404685974, 0.01682901941239834, 0.5568050742149353, -0.11938535422086716, -0.0455453097820282, -0.14540404081344604, 0.38379940390586853]\n"
     ]
    }
   ],
   "source": [
    "result = list(map(float, list(sentence_embedding)))\n",
    "print(result)"
   ]
  },
  {
   "cell_type": "code",
   "execution_count": 15,
   "metadata": {},
   "outputs": [],
   "source": [
    "# reads and preprocesses text (tokenize text into words, remove punctuation, lowercase, etc) for gensim doc2vec model\n",
    "# lyst is list of each paragraph/step per article (like sample)\n",
    "# corpus = collection of documents (in this case collection of instruction paragraphs)\n",
    "def read_corpus(lyst, tokens_only=False):\n",
    "    for i, line in enumerate(lyst):\n",
    "        tokens = gensim.utils.simple_preprocess(line)\n",
    "        if tokens_only:\n",
    "            yield tokens\n",
    "        else:\n",
    "            # For training data, add tags\n",
    "            yield gensim.models.doc2vec.TaggedDocument(tokens, [i])\n",
    "\n",
    "train_corpus = list(read_corpus(df['text']))\n",
    "#TODO: replace sample with list of all paragraphs in training set\n",
    "# always set tokens_only=True for test corpus:\n",
    "#test_corpus = list(read_corpus(TEST_FILE, tokens_only=True)) #TODO: uncomment and replace TEST_FILE with test set "
   ]
  },
  {
   "cell_type": "code",
   "execution_count": 254,
   "metadata": {},
   "outputs": [
    {
     "name": "stderr",
     "output_type": "stream",
     "text": [
      "2020-11-24 17:22:26,712 : INFO : collecting all words and their counts\n",
      "2020-11-24 17:22:26,724 : INFO : PROGRESS: at example #0, processed 0 words (0/s), 0 word types, 0 tags\n",
      "2020-11-24 17:22:26,788 : INFO : collected 8324 word types and 993 unique tags from a corpus of 993 examples and 83402 words\n",
      "2020-11-24 17:22:26,789 : INFO : Loading a fresh vocabulary\n",
      "2020-11-24 17:22:26,821 : INFO : effective_min_count=2 retains 4471 unique words (53% of original 8324, drops 3853)\n",
      "2020-11-24 17:22:26,822 : INFO : effective_min_count=2 leaves 79549 word corpus (95% of original 83402, drops 3853)\n",
      "2020-11-24 17:22:26,910 : INFO : deleting the raw counts dictionary of 8324 items\n",
      "2020-11-24 17:22:26,913 : INFO : sample=0.001 downsamples 46 most-common words\n",
      "2020-11-24 17:22:26,946 : INFO : downsampling leaves estimated 59172 word corpus (74.4% of prior 79549)\n",
      "2020-11-24 17:22:26,982 : INFO : estimated required memory for 4471 words and 84 dimensions: 5573660 bytes\n",
      "2020-11-24 17:22:26,987 : INFO : resetting layer weights\n"
     ]
    }
   ],
   "source": [
    "# training the doc2vec model\n",
    "model = gensim.models.doc2vec.Doc2Vec(vector_size=84, min_count=2, epochs=40) # not sure about what the vector size should be and other parameters\n",
    "\n",
    "model.build_vocab(train_corpus)"
   ]
  },
  {
   "cell_type": "code",
   "execution_count": 255,
   "metadata": {},
   "outputs": [
    {
     "name": "stderr",
     "output_type": "stream",
     "text": [
      "2020-11-24 17:22:29,143 : INFO : training model with 3 workers on 4471 vocabulary and 84 features, using sg=0 hs=0 sample=0.001 negative=5 window=5\n",
      "2020-11-24 17:22:29,391 : INFO : worker thread finished; awaiting finish of 2 more threads\n",
      "2020-11-24 17:22:29,405 : INFO : worker thread finished; awaiting finish of 1 more threads\n",
      "2020-11-24 17:22:29,416 : INFO : worker thread finished; awaiting finish of 0 more threads\n",
      "2020-11-24 17:22:29,425 : INFO : EPOCH - 1 : training on 83402 raw words (60091 effective words) took 0.3s, 236045 effective words/s\n",
      "2020-11-24 17:22:29,621 : INFO : worker thread finished; awaiting finish of 2 more threads\n",
      "2020-11-24 17:22:29,648 : INFO : worker thread finished; awaiting finish of 1 more threads\n",
      "2020-11-24 17:22:29,675 : INFO : worker thread finished; awaiting finish of 0 more threads\n",
      "2020-11-24 17:22:29,676 : INFO : EPOCH - 2 : training on 83402 raw words (60093 effective words) took 0.2s, 254928 effective words/s\n",
      "2020-11-24 17:22:29,910 : INFO : worker thread finished; awaiting finish of 2 more threads\n",
      "2020-11-24 17:22:29,923 : INFO : worker thread finished; awaiting finish of 1 more threads\n",
      "2020-11-24 17:22:29,929 : INFO : worker thread finished; awaiting finish of 0 more threads\n",
      "2020-11-24 17:22:29,930 : INFO : EPOCH - 3 : training on 83402 raw words (60176 effective words) took 0.2s, 243211 effective words/s\n",
      "2020-11-24 17:22:30,118 : INFO : worker thread finished; awaiting finish of 2 more threads\n",
      "2020-11-24 17:22:30,139 : INFO : worker thread finished; awaiting finish of 1 more threads\n",
      "2020-11-24 17:22:30,150 : INFO : worker thread finished; awaiting finish of 0 more threads\n",
      "2020-11-24 17:22:30,151 : INFO : EPOCH - 4 : training on 83402 raw words (60294 effective words) took 0.2s, 280428 effective words/s\n",
      "2020-11-24 17:22:30,387 : INFO : worker thread finished; awaiting finish of 2 more threads\n",
      "2020-11-24 17:22:30,396 : INFO : worker thread finished; awaiting finish of 1 more threads\n",
      "2020-11-24 17:22:30,410 : INFO : worker thread finished; awaiting finish of 0 more threads\n",
      "2020-11-24 17:22:30,410 : INFO : EPOCH - 5 : training on 83402 raw words (60193 effective words) took 0.2s, 250087 effective words/s\n",
      "2020-11-24 17:22:30,647 : INFO : worker thread finished; awaiting finish of 2 more threads\n",
      "2020-11-24 17:22:30,682 : INFO : worker thread finished; awaiting finish of 1 more threads\n",
      "2020-11-24 17:22:30,688 : INFO : worker thread finished; awaiting finish of 0 more threads\n",
      "2020-11-24 17:22:30,689 : INFO : EPOCH - 6 : training on 83402 raw words (60206 effective words) took 0.3s, 221788 effective words/s\n",
      "2020-11-24 17:22:30,918 : INFO : worker thread finished; awaiting finish of 2 more threads\n",
      "2020-11-24 17:22:30,946 : INFO : worker thread finished; awaiting finish of 1 more threads\n",
      "2020-11-24 17:22:30,947 : INFO : worker thread finished; awaiting finish of 0 more threads\n",
      "2020-11-24 17:22:30,947 : INFO : EPOCH - 7 : training on 83402 raw words (60250 effective words) took 0.2s, 243008 effective words/s\n",
      "2020-11-24 17:22:31,156 : INFO : worker thread finished; awaiting finish of 2 more threads\n",
      "2020-11-24 17:22:31,181 : INFO : worker thread finished; awaiting finish of 1 more threads\n",
      "2020-11-24 17:22:31,215 : INFO : worker thread finished; awaiting finish of 0 more threads\n",
      "2020-11-24 17:22:31,217 : INFO : EPOCH - 8 : training on 83402 raw words (60317 effective words) took 0.3s, 226073 effective words/s\n",
      "2020-11-24 17:22:31,458 : INFO : worker thread finished; awaiting finish of 2 more threads\n",
      "2020-11-24 17:22:31,479 : INFO : worker thread finished; awaiting finish of 1 more threads\n",
      "2020-11-24 17:22:31,509 : INFO : worker thread finished; awaiting finish of 0 more threads\n",
      "2020-11-24 17:22:31,510 : INFO : EPOCH - 9 : training on 83402 raw words (60215 effective words) took 0.3s, 212505 effective words/s\n",
      "2020-11-24 17:22:31,730 : INFO : worker thread finished; awaiting finish of 2 more threads\n",
      "2020-11-24 17:22:31,739 : INFO : worker thread finished; awaiting finish of 1 more threads\n",
      "2020-11-24 17:22:31,767 : INFO : worker thread finished; awaiting finish of 0 more threads\n",
      "2020-11-24 17:22:31,768 : INFO : EPOCH - 10 : training on 83402 raw words (60276 effective words) took 0.3s, 239210 effective words/s\n",
      "2020-11-24 17:22:31,995 : INFO : worker thread finished; awaiting finish of 2 more threads\n",
      "2020-11-24 17:22:32,012 : INFO : worker thread finished; awaiting finish of 1 more threads\n",
      "2020-11-24 17:22:32,041 : INFO : worker thread finished; awaiting finish of 0 more threads\n",
      "2020-11-24 17:22:32,042 : INFO : EPOCH - 11 : training on 83402 raw words (60288 effective words) took 0.3s, 228662 effective words/s\n",
      "2020-11-24 17:22:32,264 : INFO : worker thread finished; awaiting finish of 2 more threads\n",
      "2020-11-24 17:22:32,274 : INFO : worker thread finished; awaiting finish of 1 more threads\n",
      "2020-11-24 17:22:32,307 : INFO : worker thread finished; awaiting finish of 0 more threads\n",
      "2020-11-24 17:22:32,308 : INFO : EPOCH - 12 : training on 83402 raw words (60232 effective words) took 0.3s, 229867 effective words/s\n",
      "2020-11-24 17:22:32,551 : INFO : worker thread finished; awaiting finish of 2 more threads\n",
      "2020-11-24 17:22:32,572 : INFO : worker thread finished; awaiting finish of 1 more threads\n",
      "2020-11-24 17:22:32,591 : INFO : worker thread finished; awaiting finish of 0 more threads\n",
      "2020-11-24 17:22:32,595 : INFO : EPOCH - 13 : training on 83402 raw words (60132 effective words) took 0.3s, 214071 effective words/s\n",
      "2020-11-24 17:22:32,807 : INFO : worker thread finished; awaiting finish of 2 more threads\n",
      "2020-11-24 17:22:32,823 : INFO : worker thread finished; awaiting finish of 1 more threads\n",
      "2020-11-24 17:22:32,827 : INFO : worker thread finished; awaiting finish of 0 more threads\n",
      "2020-11-24 17:22:32,830 : INFO : EPOCH - 14 : training on 83402 raw words (60106 effective words) took 0.2s, 275694 effective words/s\n",
      "2020-11-24 17:22:33,067 : INFO : worker thread finished; awaiting finish of 2 more threads\n",
      "2020-11-24 17:22:33,073 : INFO : worker thread finished; awaiting finish of 1 more threads\n",
      "2020-11-24 17:22:33,085 : INFO : worker thread finished; awaiting finish of 0 more threads\n",
      "2020-11-24 17:22:33,086 : INFO : EPOCH - 15 : training on 83402 raw words (60107 effective words) took 0.2s, 240716 effective words/s\n",
      "2020-11-24 17:22:33,338 : INFO : worker thread finished; awaiting finish of 2 more threads\n",
      "2020-11-24 17:22:33,345 : INFO : worker thread finished; awaiting finish of 1 more threads\n",
      "2020-11-24 17:22:33,368 : INFO : worker thread finished; awaiting finish of 0 more threads\n",
      "2020-11-24 17:22:33,370 : INFO : EPOCH - 16 : training on 83402 raw words (60321 effective words) took 0.3s, 215366 effective words/s\n",
      "2020-11-24 17:22:33,590 : INFO : worker thread finished; awaiting finish of 2 more threads\n",
      "2020-11-24 17:22:33,605 : INFO : worker thread finished; awaiting finish of 1 more threads\n",
      "2020-11-24 17:22:33,642 : INFO : worker thread finished; awaiting finish of 0 more threads\n",
      "2020-11-24 17:22:33,643 : INFO : EPOCH - 17 : training on 83402 raw words (60111 effective words) took 0.3s, 225960 effective words/s\n",
      "2020-11-24 17:22:33,882 : INFO : worker thread finished; awaiting finish of 2 more threads\n",
      "2020-11-24 17:22:33,885 : INFO : worker thread finished; awaiting finish of 1 more threads\n",
      "2020-11-24 17:22:33,912 : INFO : worker thread finished; awaiting finish of 0 more threads\n",
      "2020-11-24 17:22:33,913 : INFO : EPOCH - 18 : training on 83402 raw words (60217 effective words) took 0.3s, 228549 effective words/s\n",
      "2020-11-24 17:22:34,173 : INFO : worker thread finished; awaiting finish of 2 more threads\n",
      "2020-11-24 17:22:34,189 : INFO : worker thread finished; awaiting finish of 1 more threads\n",
      "2020-11-24 17:22:34,202 : INFO : worker thread finished; awaiting finish of 0 more threads\n",
      "2020-11-24 17:22:34,203 : INFO : EPOCH - 19 : training on 83402 raw words (60183 effective words) took 0.3s, 214336 effective words/s\n",
      "2020-11-24 17:22:34,440 : INFO : worker thread finished; awaiting finish of 2 more threads\n",
      "2020-11-24 17:22:34,456 : INFO : worker thread finished; awaiting finish of 1 more threads\n",
      "2020-11-24 17:22:34,480 : INFO : worker thread finished; awaiting finish of 0 more threads\n",
      "2020-11-24 17:22:34,480 : INFO : EPOCH - 20 : training on 83402 raw words (60162 effective words) took 0.3s, 222123 effective words/s\n"
     ]
    },
    {
     "name": "stderr",
     "output_type": "stream",
     "text": [
      "2020-11-24 17:22:34,732 : INFO : worker thread finished; awaiting finish of 2 more threads\n",
      "2020-11-24 17:22:34,751 : INFO : worker thread finished; awaiting finish of 1 more threads\n",
      "2020-11-24 17:22:34,775 : INFO : worker thread finished; awaiting finish of 0 more threads\n",
      "2020-11-24 17:22:34,777 : INFO : EPOCH - 21 : training on 83402 raw words (60076 effective words) took 0.3s, 205706 effective words/s\n",
      "2020-11-24 17:22:35,069 : INFO : worker thread finished; awaiting finish of 2 more threads\n",
      "2020-11-24 17:22:35,099 : INFO : worker thread finished; awaiting finish of 1 more threads\n",
      "2020-11-24 17:22:35,102 : INFO : worker thread finished; awaiting finish of 0 more threads\n",
      "2020-11-24 17:22:35,103 : INFO : EPOCH - 22 : training on 83402 raw words (60146 effective words) took 0.3s, 189180 effective words/s\n",
      "2020-11-24 17:22:35,340 : INFO : worker thread finished; awaiting finish of 2 more threads\n",
      "2020-11-24 17:22:35,348 : INFO : worker thread finished; awaiting finish of 1 more threads\n",
      "2020-11-24 17:22:35,350 : INFO : worker thread finished; awaiting finish of 0 more threads\n",
      "2020-11-24 17:22:35,350 : INFO : EPOCH - 23 : training on 83402 raw words (60179 effective words) took 0.2s, 250439 effective words/s\n",
      "2020-11-24 17:22:35,639 : INFO : worker thread finished; awaiting finish of 2 more threads\n",
      "2020-11-24 17:22:35,651 : INFO : worker thread finished; awaiting finish of 1 more threads\n",
      "2020-11-24 17:22:35,687 : INFO : worker thread finished; awaiting finish of 0 more threads\n",
      "2020-11-24 17:22:35,688 : INFO : EPOCH - 24 : training on 83402 raw words (60179 effective words) took 0.3s, 182137 effective words/s\n",
      "2020-11-24 17:22:35,915 : INFO : worker thread finished; awaiting finish of 2 more threads\n",
      "2020-11-24 17:22:35,921 : INFO : worker thread finished; awaiting finish of 1 more threads\n",
      "2020-11-24 17:22:35,950 : INFO : worker thread finished; awaiting finish of 0 more threads\n",
      "2020-11-24 17:22:35,952 : INFO : EPOCH - 25 : training on 83402 raw words (60159 effective words) took 0.2s, 241065 effective words/s\n",
      "2020-11-24 17:22:36,227 : INFO : worker thread finished; awaiting finish of 2 more threads\n",
      "2020-11-24 17:22:36,246 : INFO : worker thread finished; awaiting finish of 1 more threads\n",
      "2020-11-24 17:22:36,255 : INFO : worker thread finished; awaiting finish of 0 more threads\n",
      "2020-11-24 17:22:36,256 : INFO : EPOCH - 26 : training on 83402 raw words (60222 effective words) took 0.3s, 206145 effective words/s\n",
      "2020-11-24 17:22:36,491 : INFO : worker thread finished; awaiting finish of 2 more threads\n",
      "2020-11-24 17:22:36,526 : INFO : worker thread finished; awaiting finish of 1 more threads\n",
      "2020-11-24 17:22:36,541 : INFO : worker thread finished; awaiting finish of 0 more threads\n",
      "2020-11-24 17:22:36,542 : INFO : EPOCH - 27 : training on 83402 raw words (60287 effective words) took 0.3s, 223674 effective words/s\n",
      "2020-11-24 17:22:36,812 : INFO : worker thread finished; awaiting finish of 2 more threads\n",
      "2020-11-24 17:22:36,827 : INFO : worker thread finished; awaiting finish of 1 more threads\n",
      "2020-11-24 17:22:36,845 : INFO : worker thread finished; awaiting finish of 0 more threads\n",
      "2020-11-24 17:22:36,846 : INFO : EPOCH - 28 : training on 83402 raw words (60173 effective words) took 0.3s, 201521 effective words/s\n",
      "2020-11-24 17:22:37,102 : INFO : worker thread finished; awaiting finish of 2 more threads\n",
      "2020-11-24 17:22:37,122 : INFO : worker thread finished; awaiting finish of 1 more threads\n",
      "2020-11-24 17:22:37,139 : INFO : worker thread finished; awaiting finish of 0 more threads\n",
      "2020-11-24 17:22:37,139 : INFO : EPOCH - 29 : training on 83402 raw words (60195 effective words) took 0.3s, 211552 effective words/s\n",
      "2020-11-24 17:22:37,379 : INFO : worker thread finished; awaiting finish of 2 more threads\n",
      "2020-11-24 17:22:37,400 : INFO : worker thread finished; awaiting finish of 1 more threads\n",
      "2020-11-24 17:22:37,412 : INFO : worker thread finished; awaiting finish of 0 more threads\n",
      "2020-11-24 17:22:37,413 : INFO : EPOCH - 30 : training on 83402 raw words (60219 effective words) took 0.3s, 223661 effective words/s\n",
      "2020-11-24 17:22:37,646 : INFO : worker thread finished; awaiting finish of 2 more threads\n",
      "2020-11-24 17:22:37,671 : INFO : worker thread finished; awaiting finish of 1 more threads\n",
      "2020-11-24 17:22:37,683 : INFO : worker thread finished; awaiting finish of 0 more threads\n",
      "2020-11-24 17:22:37,683 : INFO : EPOCH - 31 : training on 83402 raw words (60198 effective words) took 0.3s, 228961 effective words/s\n",
      "2020-11-24 17:22:38,020 : INFO : worker thread finished; awaiting finish of 2 more threads\n",
      "2020-11-24 17:22:38,045 : INFO : worker thread finished; awaiting finish of 1 more threads\n",
      "2020-11-24 17:22:38,072 : INFO : worker thread finished; awaiting finish of 0 more threads\n",
      "2020-11-24 17:22:38,073 : INFO : EPOCH - 32 : training on 83402 raw words (60292 effective words) took 0.4s, 157648 effective words/s\n",
      "2020-11-24 17:22:38,315 : INFO : worker thread finished; awaiting finish of 2 more threads\n",
      "2020-11-24 17:22:38,316 : INFO : worker thread finished; awaiting finish of 1 more threads\n",
      "2020-11-24 17:22:38,349 : INFO : worker thread finished; awaiting finish of 0 more threads\n",
      "2020-11-24 17:22:38,350 : INFO : EPOCH - 33 : training on 83402 raw words (60115 effective words) took 0.3s, 223216 effective words/s\n",
      "2020-11-24 17:22:38,589 : INFO : worker thread finished; awaiting finish of 2 more threads\n",
      "2020-11-24 17:22:38,606 : INFO : worker thread finished; awaiting finish of 1 more threads\n",
      "2020-11-24 17:22:38,631 : INFO : worker thread finished; awaiting finish of 0 more threads\n",
      "2020-11-24 17:22:38,632 : INFO : EPOCH - 34 : training on 83402 raw words (60246 effective words) took 0.3s, 218106 effective words/s\n",
      "2020-11-24 17:22:38,891 : INFO : worker thread finished; awaiting finish of 2 more threads\n",
      "2020-11-24 17:22:38,914 : INFO : worker thread finished; awaiting finish of 1 more threads\n",
      "2020-11-24 17:22:38,945 : INFO : worker thread finished; awaiting finish of 0 more threads\n",
      "2020-11-24 17:22:38,946 : INFO : EPOCH - 35 : training on 83402 raw words (60197 effective words) took 0.3s, 196143 effective words/s\n",
      "2020-11-24 17:22:39,248 : INFO : worker thread finished; awaiting finish of 2 more threads\n",
      "2020-11-24 17:22:39,288 : INFO : worker thread finished; awaiting finish of 1 more threads\n",
      "2020-11-24 17:22:39,304 : INFO : worker thread finished; awaiting finish of 0 more threads\n",
      "2020-11-24 17:22:39,305 : INFO : EPOCH - 36 : training on 83402 raw words (60283 effective words) took 0.4s, 170093 effective words/s\n",
      "2020-11-24 17:22:39,667 : INFO : worker thread finished; awaiting finish of 2 more threads\n",
      "2020-11-24 17:22:39,698 : INFO : worker thread finished; awaiting finish of 1 more threads\n",
      "2020-11-24 17:22:39,709 : INFO : worker thread finished; awaiting finish of 0 more threads\n",
      "2020-11-24 17:22:39,710 : INFO : EPOCH - 37 : training on 83402 raw words (60223 effective words) took 0.4s, 150449 effective words/s\n",
      "2020-11-24 17:22:40,006 : INFO : worker thread finished; awaiting finish of 2 more threads\n",
      "2020-11-24 17:22:40,023 : INFO : worker thread finished; awaiting finish of 1 more threads\n",
      "2020-11-24 17:22:40,042 : INFO : worker thread finished; awaiting finish of 0 more threads\n",
      "2020-11-24 17:22:40,044 : INFO : EPOCH - 38 : training on 83402 raw words (60245 effective words) took 0.3s, 184434 effective words/s\n",
      "2020-11-24 17:22:40,283 : INFO : worker thread finished; awaiting finish of 2 more threads\n",
      "2020-11-24 17:22:40,295 : INFO : worker thread finished; awaiting finish of 1 more threads\n",
      "2020-11-24 17:22:40,306 : INFO : worker thread finished; awaiting finish of 0 more threads\n",
      "2020-11-24 17:22:40,307 : INFO : EPOCH - 39 : training on 83402 raw words (60218 effective words) took 0.3s, 234320 effective words/s\n",
      "2020-11-24 17:22:40,567 : INFO : worker thread finished; awaiting finish of 2 more threads\n",
      "2020-11-24 17:22:40,582 : INFO : worker thread finished; awaiting finish of 1 more threads\n",
      "2020-11-24 17:22:40,608 : INFO : worker thread finished; awaiting finish of 0 more threads\n",
      "2020-11-24 17:22:40,609 : INFO : EPOCH - 40 : training on 83402 raw words (60188 effective words) took 0.3s, 202833 effective words/s\n",
      "2020-11-24 17:22:40,609 : INFO : training on a 3336080 raw words (2408010 effective words) took 11.5s, 210090 effective words/s\n"
     ]
    }
   ],
   "source": [
    "model.train(train_corpus, total_examples=model.corpus_count, epochs=model.epochs) # train model on train_corpus"
   ]
  },
  {
   "cell_type": "code",
   "execution_count": 257,
   "metadata": {},
   "outputs": [],
   "source": [
    "tokens = gensim.utils.simple_preprocess(sample[0]) #tokens for first step in 'How to Sell Fine Art Online'\n",
    "#tokens"
   ]
  },
  {
   "cell_type": "code",
   "execution_count": 258,
   "metadata": {},
   "outputs": [],
   "source": [
    "# can use the trained model to infer a vector for any piece of text \n",
    "# by passing a list of words to the model.infer_vector function\n",
    "vector = model.infer_vector(tokens)\n",
    "#print(vector)"
   ]
  },
  {
   "cell_type": "code",
   "execution_count": 259,
   "metadata": {},
   "outputs": [
    {
     "name": "stdout",
     "output_type": "stream",
     "text": [
      "0.9140791296958923\n"
     ]
    }
   ],
   "source": [
    "x = model.infer_vector([\"photos\"])\n",
    "y = model.infer_vector([\"photography\"])\n",
    "result = 1 - spatial.distance.cosine(x, y)\n",
    "print(result)"
   ]
  },
  {
   "cell_type": "code",
   "execution_count": 260,
   "metadata": {},
   "outputs": [],
   "source": [
    "vector_rank = convert_vector(pairs, num_examples=100)\n",
    "#vector_rank[0]\n",
    "# TODO: assess model"
   ]
  },
  {
   "cell_type": "code",
   "execution_count": 265,
   "metadata": {},
   "outputs": [],
   "source": [
    "random.shuffle(pairs)\n",
    "def splitXY(lyst):\n",
    "    x_data = list()\n",
    "    y_data = list()\n",
    "    for element in lyst:\n",
    "        x_data.append(element[:2])\n",
    "        y_data.append(element[2])\n",
    "    return (x_data, y_data)\n",
    "x, y_train = splitXY(pairs)\n",
    "z, y_test = splitXY(test_pairs)\n",
    "\n",
    "def vectorize(paragraph):\n",
    "    return model.infer_vector(gensim.utils.simple_preprocess(paragraph))\n",
    "\n",
    "def vectorizePair(lyst):\n",
    "    data = list()\n",
    "    for element in lyst:\n",
    "        data.append(list(vectorize(element[0][0])) + list(vectorize(element[1][0])))\n",
    "    return np.array(data)\n",
    "x_train = vectorizePair(x)\n",
    "x_test = vectorizePair(z)\n",
    "#print(vectorizePair(x[:1]))"
   ]
  },
  {
   "cell_type": "code",
   "execution_count": 266,
   "metadata": {},
   "outputs": [],
   "source": [
    "rnd_clf = RandomForestClassifier(n_estimators=500, max_leaf_nodes=16, n_jobs=-1)\n",
    "rnd_clf.fit(x_train, y_train) \n",
    "y_pred_rf = rnd_clf.predict(x_test)"
   ]
  },
  {
   "cell_type": "code",
   "execution_count": 267,
   "metadata": {},
   "outputs": [
    {
     "data": {
      "text/plain": [
       "array([False, False, False, ..., False,  True, False])"
      ]
     },
     "execution_count": 267,
     "metadata": {},
     "output_type": "execute_result"
    }
   ],
   "source": [
    "y_pred_rf"
   ]
  },
  {
   "cell_type": "code",
   "execution_count": 268,
   "metadata": {},
   "outputs": [
    {
     "data": {
      "text/plain": [
       "array([[3378, 1394],\n",
       "       [1294, 3478]])"
      ]
     },
     "execution_count": 268,
     "metadata": {},
     "output_type": "execute_result"
    }
   ],
   "source": [
    "confusion_matrix(y_test, y_pred_rf)"
   ]
  },
  {
   "cell_type": "code",
   "execution_count": 270,
   "metadata": {},
   "outputs": [
    {
     "data": {
      "text/plain": [
       "9544"
      ]
     },
     "execution_count": 270,
     "metadata": {},
     "output_type": "execute_result"
    }
   ],
   "source": [
    "len(x_test)"
   ]
  },
  {
   "cell_type": "code",
   "execution_count": 271,
   "metadata": {},
   "outputs": [
    {
     "data": {
      "text/plain": [
       "9544"
      ]
     },
     "execution_count": 271,
     "metadata": {},
     "output_type": "execute_result"
    }
   ],
   "source": [
    "len(y_test)"
   ]
  },
  {
   "cell_type": "code",
   "execution_count": 272,
   "metadata": {},
   "outputs": [
    {
     "data": {
      "text/plain": [
       "9544"
      ]
     },
     "execution_count": 272,
     "metadata": {},
     "output_type": "execute_result"
    }
   ],
   "source": [
    "len(x_train)"
   ]
  },
  {
   "cell_type": "code",
   "execution_count": null,
   "metadata": {},
   "outputs": [],
   "source": []
  }
 ],
 "metadata": {
  "kernelspec": {
   "display_name": "Python 3",
   "language": "python",
   "name": "python3"
  },
  "language_info": {
   "codemirror_mode": {
    "name": "ipython",
    "version": 3
   },
   "file_extension": ".py",
   "mimetype": "text/x-python",
   "name": "python",
   "nbconvert_exporter": "python",
   "pygments_lexer": "ipython3",
   "version": "3.7.4"
  }
 },
 "nbformat": 4,
 "nbformat_minor": 2
}
