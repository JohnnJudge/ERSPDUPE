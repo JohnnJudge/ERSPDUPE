{
 "cells": [
  {
   "cell_type": "code",
   "execution_count": 1,
   "metadata": {},
   "outputs": [],
   "source": [
    "#Import Libraries\n",
    "import pandas as pd\n",
    "import json\n",
    "import pickle\n",
    "import numpy as np\n",
    "from sklearn.model_selection import train_test_split\n",
    "from sklearn.ensemble import RandomForestRegressor\n",
    "from sklearn.metrics import mean_squared_error, mean_absolute_error, pairwise\n",
    "import nltk\n",
    "from nltk.tokenize import word_tokenize\n",
    "import os\n",
    "import spacy\n",
    "import gensim\n",
    "import logging\n",
    "from itertools import permutations\n",
    "from sklearn.metrics import confusion_matrix\n",
    "from sklearn.ensemble import RandomForestClassifier\n",
    "from scipy import spatial\n",
    "import random\n",
    "import torch\n",
    "from transformers import BertTokenizer, BertModel\n",
    "import logging\n",
    "import matplotlib.pyplot as plt"
   ]
  },
  {
   "cell_type": "code",
   "execution_count": 2,
   "metadata": {},
   "outputs": [],
   "source": [
    "#Library Configs\n",
    "logging.basicConfig(format='%(asctime)s : %(levelname)s : %(message)s', level=logging.INFO)\n",
    "tokenizer = BertTokenizer.from_pretrained('bert-base-uncased')\n",
    "nlp = spacy.load('en_core_web_sm')"
   ]
  },
  {
   "cell_type": "code",
   "execution_count": 3,
   "metadata": {},
   "outputs": [],
   "source": [
    "# Read train/test data\n",
    "#file = open(\"/Users/anishakabir/ERSP/train.json\", \"r\")\n",
    "#train_data = json.loads(file.read())\n",
    "\n",
    "#file = open(\"/Users/anishakabir/ERSP/test.json\", \"r\")\n",
    "#test_data = json.loads(file.read())"
   ]
  },
  {
   "cell_type": "code",
   "execution_count": 4,
   "metadata": {},
   "outputs": [],
   "source": [
    "import json\n",
    "import os\n",
    "\n",
    "os.chdir('/Users/anishakabir/Downloads')\n",
    "\n",
    "# Reading the json as a dict\n",
    "with open('cleaned.json') as json_data:\n",
    "    wikihow = json.load(json_data)"
   ]
  },
  {
   "cell_type": "code",
   "execution_count": 5,
   "metadata": {},
   "outputs": [],
   "source": [
    "key_list = list(wikihow.keys())"
   ]
  },
  {
   "cell_type": "code",
   "execution_count": 6,
   "metadata": {},
   "outputs": [],
   "source": [
    "# printing by key number\n",
    "# wikihow[key_list[0]]"
   ]
  },
  {
   "cell_type": "code",
   "execution_count": 7,
   "metadata": {},
   "outputs": [
    {
     "data": {
      "text/plain": [
       "202028"
      ]
     },
     "execution_count": 7,
     "metadata": {},
     "output_type": "execute_result"
    }
   ],
   "source": [
    "# number of articles in dataset (removed singleton and null titles)\n",
    "len(key_list)"
   ]
  },
  {
   "cell_type": "code",
   "execution_count": 8,
   "metadata": {},
   "outputs": [],
   "source": [
    "num_instructions = 0\n",
    "for x in range(len(key_list)):\n",
    "    num_instructions+=len(wikihow[key_list[x]])"
   ]
  },
  {
   "cell_type": "code",
   "execution_count": 9,
   "metadata": {},
   "outputs": [
    {
     "data": {
      "text/plain": [
       "1374548"
      ]
     },
     "execution_count": 9,
     "metadata": {},
     "output_type": "execute_result"
    }
   ],
   "source": [
    "# total number of instructions\n",
    "num_instructions"
   ]
  },
  {
   "cell_type": "code",
   "execution_count": 10,
   "metadata": {},
   "outputs": [
    {
     "data": {
      "text/plain": [
       "6.803749975250955"
      ]
     },
     "execution_count": 10,
     "metadata": {},
     "output_type": "execute_result"
    }
   ],
   "source": [
    "# average number instructions per article\n",
    "num_instructions/len(key_list)"
   ]
  },
  {
   "cell_type": "code",
   "execution_count": null,
   "metadata": {},
   "outputs": [],
   "source": []
  },
  {
   "cell_type": "code",
   "execution_count": 11,
   "metadata": {},
   "outputs": [],
   "source": [
    "def instruction_list(wiki, end: int): # uses article number  to start and end at\n",
    "    instructions = list()\n",
    "    for x in range(0, end):\n",
    "        for s in range(len(wiki[key_list[x]])):\n",
    "            instructions.append(wiki[key_list[x]][s])\n",
    "    return instructions\n",
    "\n",
    "# take a subest of data containing first 1000 articles; used for training Doc2Vec and split for training/testing\n",
    "instruction_set = instruction_list(wikihow, 100)"
   ]
  },
  {
   "cell_type": "code",
   "execution_count": null,
   "metadata": {},
   "outputs": [],
   "source": []
  },
  {
   "cell_type": "code",
   "execution_count": 12,
   "metadata": {},
   "outputs": [],
   "source": [
    "# Doc2Vec Model\n",
    "# reads and preprocesses text (tokenize text into words, remove punctuation, lowercase, etc) for gensim doc2vec model\n",
    "# lyst is list of each paragraph/step per article (like sample)\n",
    "# corpus = collection of documents (in this case collection of instruction paragraphs)\n",
    "def read_corpus(lyst, tokens_only=False):\n",
    "    for i, line in enumerate(lyst):\n",
    "        tokens = gensim.utils.simple_preprocess(line)\n",
    "        if tokens_only:\n",
    "            yield tokens\n",
    "        else:\n",
    "            # For training data, add tags\n",
    "            yield gensim.models.doc2vec.TaggedDocument(tokens, [i])\n",
    "\n",
    "train_corpus = read_corpus(instruction_set)"
   ]
  },
  {
   "cell_type": "code",
   "execution_count": null,
   "metadata": {},
   "outputs": [],
   "source": []
  },
  {
   "cell_type": "code",
   "execution_count": 13,
   "metadata": {},
   "outputs": [
    {
     "name": "stderr",
     "output_type": "stream",
     "text": [
      "2020-12-06 23:44:20,859 : INFO : collecting all words and their counts\n",
      "2020-12-06 23:44:20,860 : INFO : PROGRESS: at example #0, processed 0 words (0/s), 0 word types, 0 tags\n",
      "2020-12-06 23:44:20,969 : INFO : collected 7140 word types and 724 unique tags from a corpus of 724 examples and 63640 words\n",
      "2020-12-06 23:44:20,970 : INFO : Loading a fresh vocabulary\n",
      "2020-12-06 23:44:20,978 : INFO : effective_min_count=2 retains 3753 unique words (52% of original 7140, drops 3387)\n",
      "2020-12-06 23:44:20,979 : INFO : effective_min_count=2 leaves 60253 word corpus (94% of original 63640, drops 3387)\n",
      "2020-12-06 23:44:20,991 : INFO : deleting the raw counts dictionary of 7140 items\n",
      "2020-12-06 23:44:20,992 : INFO : sample=0.001 downsamples 51 most-common words\n",
      "2020-12-06 23:44:20,993 : INFO : downsampling leaves estimated 44695 word corpus (74.2% of prior 60253)\n",
      "2020-12-06 23:44:21,002 : INFO : estimated required memory for 3753 words and 84 dimensions: 4641780 bytes\n",
      "2020-12-06 23:44:21,003 : INFO : resetting layer weights\n"
     ]
    }
   ],
   "source": [
    "# training the doc2vec model\n",
    "model = gensim.models.doc2vec.Doc2Vec(vector_size=84, min_count=2, epochs=40) # not sure about what the vector size should be and other parameters\n",
    "\n",
    "model.build_vocab(train_corpus)"
   ]
  },
  {
   "cell_type": "code",
   "execution_count": 14,
   "metadata": {},
   "outputs": [
    {
     "name": "stderr",
     "output_type": "stream",
     "text": [
      "2020-12-06 23:44:21,775 : INFO : training model with 3 workers on 3753 vocabulary and 84 features, using sg=0 hs=0 sample=0.001 negative=5 window=5\n",
      "2020-12-06 23:44:21,778 : WARNING : train() called with an empty iterator (if not intended, be sure to provide a corpus that offers restartable iteration = an iterable).\n",
      "2020-12-06 23:44:21,779 : INFO : worker thread finished; awaiting finish of 2 more threads\n",
      "2020-12-06 23:44:21,779 : INFO : worker thread finished; awaiting finish of 1 more threads\n",
      "2020-12-06 23:44:21,780 : INFO : worker thread finished; awaiting finish of 0 more threads\n",
      "2020-12-06 23:44:21,781 : INFO : EPOCH - 1 : training on 0 raw words (0 effective words) took 0.0s, 0 effective words/s\n",
      "2020-12-06 23:44:21,781 : WARNING : EPOCH - 1 : supplied example count (0) did not equal expected count (724)\n",
      "2020-12-06 23:44:21,783 : WARNING : train() called with an empty iterator (if not intended, be sure to provide a corpus that offers restartable iteration = an iterable).\n",
      "2020-12-06 23:44:21,784 : INFO : worker thread finished; awaiting finish of 2 more threads\n",
      "2020-12-06 23:44:21,785 : INFO : worker thread finished; awaiting finish of 1 more threads\n",
      "2020-12-06 23:44:21,785 : INFO : worker thread finished; awaiting finish of 0 more threads\n",
      "2020-12-06 23:44:21,785 : INFO : EPOCH - 2 : training on 0 raw words (0 effective words) took 0.0s, 0 effective words/s\n",
      "2020-12-06 23:44:21,786 : WARNING : EPOCH - 2 : supplied example count (0) did not equal expected count (724)\n",
      "2020-12-06 23:44:21,788 : WARNING : train() called with an empty iterator (if not intended, be sure to provide a corpus that offers restartable iteration = an iterable).\n",
      "2020-12-06 23:44:21,789 : INFO : worker thread finished; awaiting finish of 2 more threads\n",
      "2020-12-06 23:44:21,789 : INFO : worker thread finished; awaiting finish of 1 more threads\n",
      "2020-12-06 23:44:21,790 : INFO : worker thread finished; awaiting finish of 0 more threads\n",
      "2020-12-06 23:44:21,790 : INFO : EPOCH - 3 : training on 0 raw words (0 effective words) took 0.0s, 0 effective words/s\n",
      "2020-12-06 23:44:21,791 : WARNING : EPOCH - 3 : supplied example count (0) did not equal expected count (724)\n",
      "2020-12-06 23:44:21,793 : WARNING : train() called with an empty iterator (if not intended, be sure to provide a corpus that offers restartable iteration = an iterable).\n",
      "2020-12-06 23:44:21,794 : INFO : worker thread finished; awaiting finish of 2 more threads\n",
      "2020-12-06 23:44:21,795 : INFO : worker thread finished; awaiting finish of 1 more threads\n",
      "2020-12-06 23:44:21,795 : INFO : worker thread finished; awaiting finish of 0 more threads\n",
      "2020-12-06 23:44:21,796 : INFO : EPOCH - 4 : training on 0 raw words (0 effective words) took 0.0s, 0 effective words/s\n",
      "2020-12-06 23:44:21,797 : WARNING : EPOCH - 4 : supplied example count (0) did not equal expected count (724)\n",
      "2020-12-06 23:44:21,799 : WARNING : train() called with an empty iterator (if not intended, be sure to provide a corpus that offers restartable iteration = an iterable).\n",
      "2020-12-06 23:44:21,800 : INFO : worker thread finished; awaiting finish of 2 more threads\n",
      "2020-12-06 23:44:21,801 : INFO : worker thread finished; awaiting finish of 1 more threads\n",
      "2020-12-06 23:44:21,801 : INFO : worker thread finished; awaiting finish of 0 more threads\n",
      "2020-12-06 23:44:21,802 : INFO : EPOCH - 5 : training on 0 raw words (0 effective words) took 0.0s, 0 effective words/s\n",
      "2020-12-06 23:44:21,802 : WARNING : EPOCH - 5 : supplied example count (0) did not equal expected count (724)\n",
      "2020-12-06 23:44:21,804 : WARNING : train() called with an empty iterator (if not intended, be sure to provide a corpus that offers restartable iteration = an iterable).\n",
      "2020-12-06 23:44:21,805 : INFO : worker thread finished; awaiting finish of 2 more threads\n",
      "2020-12-06 23:44:21,805 : INFO : worker thread finished; awaiting finish of 1 more threads\n",
      "2020-12-06 23:44:21,806 : INFO : worker thread finished; awaiting finish of 0 more threads\n",
      "2020-12-06 23:44:21,806 : INFO : EPOCH - 6 : training on 0 raw words (0 effective words) took 0.0s, 0 effective words/s\n",
      "2020-12-06 23:44:21,807 : WARNING : EPOCH - 6 : supplied example count (0) did not equal expected count (724)\n",
      "2020-12-06 23:44:21,808 : WARNING : train() called with an empty iterator (if not intended, be sure to provide a corpus that offers restartable iteration = an iterable).\n",
      "2020-12-06 23:44:21,809 : INFO : worker thread finished; awaiting finish of 2 more threads\n",
      "2020-12-06 23:44:21,810 : INFO : worker thread finished; awaiting finish of 1 more threads\n",
      "2020-12-06 23:44:21,810 : INFO : worker thread finished; awaiting finish of 0 more threads\n",
      "2020-12-06 23:44:21,811 : INFO : EPOCH - 7 : training on 0 raw words (0 effective words) took 0.0s, 0 effective words/s\n",
      "2020-12-06 23:44:21,812 : WARNING : EPOCH - 7 : supplied example count (0) did not equal expected count (724)\n",
      "2020-12-06 23:44:21,815 : WARNING : train() called with an empty iterator (if not intended, be sure to provide a corpus that offers restartable iteration = an iterable).\n",
      "2020-12-06 23:44:21,817 : INFO : worker thread finished; awaiting finish of 2 more threads\n",
      "2020-12-06 23:44:21,818 : INFO : worker thread finished; awaiting finish of 1 more threads\n",
      "2020-12-06 23:44:21,819 : INFO : worker thread finished; awaiting finish of 0 more threads\n",
      "2020-12-06 23:44:21,820 : INFO : EPOCH - 8 : training on 0 raw words (0 effective words) took 0.0s, 0 effective words/s\n",
      "2020-12-06 23:44:21,820 : WARNING : EPOCH - 8 : supplied example count (0) did not equal expected count (724)\n",
      "2020-12-06 23:44:21,823 : WARNING : train() called with an empty iterator (if not intended, be sure to provide a corpus that offers restartable iteration = an iterable).\n",
      "2020-12-06 23:44:21,824 : INFO : worker thread finished; awaiting finish of 2 more threads\n",
      "2020-12-06 23:44:21,825 : INFO : worker thread finished; awaiting finish of 1 more threads\n",
      "2020-12-06 23:44:21,825 : INFO : worker thread finished; awaiting finish of 0 more threads\n",
      "2020-12-06 23:44:21,826 : INFO : EPOCH - 9 : training on 0 raw words (0 effective words) took 0.0s, 0 effective words/s\n",
      "2020-12-06 23:44:21,827 : WARNING : EPOCH - 9 : supplied example count (0) did not equal expected count (724)\n",
      "2020-12-06 23:44:21,830 : WARNING : train() called with an empty iterator (if not intended, be sure to provide a corpus that offers restartable iteration = an iterable).\n",
      "2020-12-06 23:44:21,832 : INFO : worker thread finished; awaiting finish of 2 more threads\n",
      "2020-12-06 23:44:21,833 : INFO : worker thread finished; awaiting finish of 1 more threads\n",
      "2020-12-06 23:44:21,833 : INFO : worker thread finished; awaiting finish of 0 more threads\n",
      "2020-12-06 23:44:21,834 : INFO : EPOCH - 10 : training on 0 raw words (0 effective words) took 0.0s, 0 effective words/s\n",
      "2020-12-06 23:44:21,834 : WARNING : EPOCH - 10 : supplied example count (0) did not equal expected count (724)\n",
      "2020-12-06 23:44:21,837 : WARNING : train() called with an empty iterator (if not intended, be sure to provide a corpus that offers restartable iteration = an iterable).\n",
      "2020-12-06 23:44:21,838 : INFO : worker thread finished; awaiting finish of 2 more threads\n",
      "2020-12-06 23:44:21,838 : INFO : worker thread finished; awaiting finish of 1 more threads\n",
      "2020-12-06 23:44:21,839 : INFO : worker thread finished; awaiting finish of 0 more threads\n",
      "2020-12-06 23:44:21,840 : INFO : EPOCH - 11 : training on 0 raw words (0 effective words) took 0.0s, 0 effective words/s\n",
      "2020-12-06 23:44:21,840 : WARNING : EPOCH - 11 : supplied example count (0) did not equal expected count (724)\n",
      "2020-12-06 23:44:21,842 : WARNING : train() called with an empty iterator (if not intended, be sure to provide a corpus that offers restartable iteration = an iterable).\n",
      "2020-12-06 23:44:21,844 : INFO : worker thread finished; awaiting finish of 2 more threads\n",
      "2020-12-06 23:44:21,845 : INFO : worker thread finished; awaiting finish of 1 more threads\n",
      "2020-12-06 23:44:21,846 : INFO : worker thread finished; awaiting finish of 0 more threads\n",
      "2020-12-06 23:44:21,846 : INFO : EPOCH - 12 : training on 0 raw words (0 effective words) took 0.0s, 0 effective words/s\n",
      "2020-12-06 23:44:21,847 : WARNING : EPOCH - 12 : supplied example count (0) did not equal expected count (724)\n"
     ]
    },
    {
     "name": "stderr",
     "output_type": "stream",
     "text": [
      "2020-12-06 23:44:21,850 : WARNING : train() called with an empty iterator (if not intended, be sure to provide a corpus that offers restartable iteration = an iterable).\n",
      "2020-12-06 23:44:21,851 : INFO : worker thread finished; awaiting finish of 2 more threads\n",
      "2020-12-06 23:44:21,852 : INFO : worker thread finished; awaiting finish of 1 more threads\n",
      "2020-12-06 23:44:21,853 : INFO : worker thread finished; awaiting finish of 0 more threads\n",
      "2020-12-06 23:44:21,854 : INFO : EPOCH - 13 : training on 0 raw words (0 effective words) took 0.0s, 0 effective words/s\n",
      "2020-12-06 23:44:21,854 : WARNING : EPOCH - 13 : supplied example count (0) did not equal expected count (724)\n",
      "2020-12-06 23:44:21,857 : WARNING : train() called with an empty iterator (if not intended, be sure to provide a corpus that offers restartable iteration = an iterable).\n",
      "2020-12-06 23:44:21,858 : INFO : worker thread finished; awaiting finish of 2 more threads\n",
      "2020-12-06 23:44:21,859 : INFO : worker thread finished; awaiting finish of 1 more threads\n",
      "2020-12-06 23:44:21,860 : INFO : worker thread finished; awaiting finish of 0 more threads\n",
      "2020-12-06 23:44:21,861 : INFO : EPOCH - 14 : training on 0 raw words (0 effective words) took 0.0s, 0 effective words/s\n",
      "2020-12-06 23:44:21,861 : WARNING : EPOCH - 14 : supplied example count (0) did not equal expected count (724)\n",
      "2020-12-06 23:44:21,865 : WARNING : train() called with an empty iterator (if not intended, be sure to provide a corpus that offers restartable iteration = an iterable).\n",
      "2020-12-06 23:44:21,867 : INFO : worker thread finished; awaiting finish of 2 more threads\n",
      "2020-12-06 23:44:21,868 : INFO : worker thread finished; awaiting finish of 1 more threads\n",
      "2020-12-06 23:44:21,868 : INFO : worker thread finished; awaiting finish of 0 more threads\n",
      "2020-12-06 23:44:21,869 : INFO : EPOCH - 15 : training on 0 raw words (0 effective words) took 0.0s, 0 effective words/s\n",
      "2020-12-06 23:44:21,869 : WARNING : EPOCH - 15 : supplied example count (0) did not equal expected count (724)\n",
      "2020-12-06 23:44:21,871 : WARNING : train() called with an empty iterator (if not intended, be sure to provide a corpus that offers restartable iteration = an iterable).\n",
      "2020-12-06 23:44:21,872 : INFO : worker thread finished; awaiting finish of 2 more threads\n",
      "2020-12-06 23:44:21,873 : INFO : worker thread finished; awaiting finish of 1 more threads\n",
      "2020-12-06 23:44:21,873 : INFO : worker thread finished; awaiting finish of 0 more threads\n",
      "2020-12-06 23:44:21,874 : INFO : EPOCH - 16 : training on 0 raw words (0 effective words) took 0.0s, 0 effective words/s\n",
      "2020-12-06 23:44:21,874 : WARNING : EPOCH - 16 : supplied example count (0) did not equal expected count (724)\n",
      "2020-12-06 23:44:21,877 : WARNING : train() called with an empty iterator (if not intended, be sure to provide a corpus that offers restartable iteration = an iterable).\n",
      "2020-12-06 23:44:21,878 : INFO : worker thread finished; awaiting finish of 2 more threads\n",
      "2020-12-06 23:44:21,879 : INFO : worker thread finished; awaiting finish of 1 more threads\n",
      "2020-12-06 23:44:21,880 : INFO : worker thread finished; awaiting finish of 0 more threads\n",
      "2020-12-06 23:44:21,881 : INFO : EPOCH - 17 : training on 0 raw words (0 effective words) took 0.0s, 0 effective words/s\n",
      "2020-12-06 23:44:21,882 : WARNING : EPOCH - 17 : supplied example count (0) did not equal expected count (724)\n",
      "2020-12-06 23:44:21,885 : WARNING : train() called with an empty iterator (if not intended, be sure to provide a corpus that offers restartable iteration = an iterable).\n",
      "2020-12-06 23:44:21,887 : INFO : worker thread finished; awaiting finish of 2 more threads\n",
      "2020-12-06 23:44:21,888 : INFO : worker thread finished; awaiting finish of 1 more threads\n",
      "2020-12-06 23:44:21,889 : INFO : worker thread finished; awaiting finish of 0 more threads\n",
      "2020-12-06 23:44:21,890 : INFO : EPOCH - 18 : training on 0 raw words (0 effective words) took 0.0s, 0 effective words/s\n",
      "2020-12-06 23:44:21,890 : WARNING : EPOCH - 18 : supplied example count (0) did not equal expected count (724)\n",
      "2020-12-06 23:44:21,893 : WARNING : train() called with an empty iterator (if not intended, be sure to provide a corpus that offers restartable iteration = an iterable).\n",
      "2020-12-06 23:44:21,895 : INFO : worker thread finished; awaiting finish of 2 more threads\n",
      "2020-12-06 23:44:21,896 : INFO : worker thread finished; awaiting finish of 1 more threads\n",
      "2020-12-06 23:44:21,896 : INFO : worker thread finished; awaiting finish of 0 more threads\n",
      "2020-12-06 23:44:21,897 : INFO : EPOCH - 19 : training on 0 raw words (0 effective words) took 0.0s, 0 effective words/s\n",
      "2020-12-06 23:44:21,898 : WARNING : EPOCH - 19 : supplied example count (0) did not equal expected count (724)\n",
      "2020-12-06 23:44:21,901 : WARNING : train() called with an empty iterator (if not intended, be sure to provide a corpus that offers restartable iteration = an iterable).\n",
      "2020-12-06 23:44:21,902 : INFO : worker thread finished; awaiting finish of 2 more threads\n",
      "2020-12-06 23:44:21,903 : INFO : worker thread finished; awaiting finish of 1 more threads\n",
      "2020-12-06 23:44:21,903 : INFO : worker thread finished; awaiting finish of 0 more threads\n",
      "2020-12-06 23:44:21,904 : INFO : EPOCH - 20 : training on 0 raw words (0 effective words) took 0.0s, 0 effective words/s\n",
      "2020-12-06 23:44:21,904 : WARNING : EPOCH - 20 : supplied example count (0) did not equal expected count (724)\n",
      "2020-12-06 23:44:21,906 : WARNING : train() called with an empty iterator (if not intended, be sure to provide a corpus that offers restartable iteration = an iterable).\n",
      "2020-12-06 23:44:21,907 : INFO : worker thread finished; awaiting finish of 2 more threads\n",
      "2020-12-06 23:44:21,908 : INFO : worker thread finished; awaiting finish of 1 more threads\n",
      "2020-12-06 23:44:21,909 : INFO : worker thread finished; awaiting finish of 0 more threads\n",
      "2020-12-06 23:44:21,910 : INFO : EPOCH - 21 : training on 0 raw words (0 effective words) took 0.0s, 0 effective words/s\n",
      "2020-12-06 23:44:21,910 : WARNING : EPOCH - 21 : supplied example count (0) did not equal expected count (724)\n",
      "2020-12-06 23:44:21,913 : WARNING : train() called with an empty iterator (if not intended, be sure to provide a corpus that offers restartable iteration = an iterable).\n",
      "2020-12-06 23:44:21,914 : INFO : worker thread finished; awaiting finish of 2 more threads\n",
      "2020-12-06 23:44:21,915 : INFO : worker thread finished; awaiting finish of 1 more threads\n",
      "2020-12-06 23:44:21,915 : INFO : worker thread finished; awaiting finish of 0 more threads\n",
      "2020-12-06 23:44:21,916 : INFO : EPOCH - 22 : training on 0 raw words (0 effective words) took 0.0s, 0 effective words/s\n",
      "2020-12-06 23:44:21,916 : WARNING : EPOCH - 22 : supplied example count (0) did not equal expected count (724)\n",
      "2020-12-06 23:44:21,918 : WARNING : train() called with an empty iterator (if not intended, be sure to provide a corpus that offers restartable iteration = an iterable).\n",
      "2020-12-06 23:44:21,919 : INFO : worker thread finished; awaiting finish of 2 more threads\n",
      "2020-12-06 23:44:21,920 : INFO : worker thread finished; awaiting finish of 1 more threads\n",
      "2020-12-06 23:44:21,920 : INFO : worker thread finished; awaiting finish of 0 more threads\n",
      "2020-12-06 23:44:21,921 : INFO : EPOCH - 23 : training on 0 raw words (0 effective words) took 0.0s, 0 effective words/s\n",
      "2020-12-06 23:44:21,921 : WARNING : EPOCH - 23 : supplied example count (0) did not equal expected count (724)\n",
      "2020-12-06 23:44:21,923 : WARNING : train() called with an empty iterator (if not intended, be sure to provide a corpus that offers restartable iteration = an iterable).\n",
      "2020-12-06 23:44:21,926 : INFO : worker thread finished; awaiting finish of 2 more threads\n",
      "2020-12-06 23:44:21,927 : INFO : worker thread finished; awaiting finish of 1 more threads\n",
      "2020-12-06 23:44:21,928 : INFO : worker thread finished; awaiting finish of 0 more threads\n",
      "2020-12-06 23:44:21,929 : INFO : EPOCH - 24 : training on 0 raw words (0 effective words) took 0.0s, 0 effective words/s\n",
      "2020-12-06 23:44:21,930 : WARNING : EPOCH - 24 : supplied example count (0) did not equal expected count (724)\n",
      "2020-12-06 23:44:21,933 : WARNING : train() called with an empty iterator (if not intended, be sure to provide a corpus that offers restartable iteration = an iterable).\n"
     ]
    },
    {
     "name": "stderr",
     "output_type": "stream",
     "text": [
      "2020-12-06 23:44:21,935 : INFO : worker thread finished; awaiting finish of 2 more threads\n",
      "2020-12-06 23:44:21,936 : INFO : worker thread finished; awaiting finish of 1 more threads\n",
      "2020-12-06 23:44:21,937 : INFO : worker thread finished; awaiting finish of 0 more threads\n",
      "2020-12-06 23:44:21,937 : INFO : EPOCH - 25 : training on 0 raw words (0 effective words) took 0.0s, 0 effective words/s\n",
      "2020-12-06 23:44:21,938 : WARNING : EPOCH - 25 : supplied example count (0) did not equal expected count (724)\n",
      "2020-12-06 23:44:21,941 : WARNING : train() called with an empty iterator (if not intended, be sure to provide a corpus that offers restartable iteration = an iterable).\n",
      "2020-12-06 23:44:21,942 : INFO : worker thread finished; awaiting finish of 2 more threads\n",
      "2020-12-06 23:44:21,943 : INFO : worker thread finished; awaiting finish of 1 more threads\n",
      "2020-12-06 23:44:21,944 : INFO : worker thread finished; awaiting finish of 0 more threads\n",
      "2020-12-06 23:44:21,944 : INFO : EPOCH - 26 : training on 0 raw words (0 effective words) took 0.0s, 0 effective words/s\n",
      "2020-12-06 23:44:21,945 : WARNING : EPOCH - 26 : supplied example count (0) did not equal expected count (724)\n",
      "2020-12-06 23:44:21,948 : WARNING : train() called with an empty iterator (if not intended, be sure to provide a corpus that offers restartable iteration = an iterable).\n",
      "2020-12-06 23:44:21,950 : INFO : worker thread finished; awaiting finish of 2 more threads\n",
      "2020-12-06 23:44:21,951 : INFO : worker thread finished; awaiting finish of 1 more threads\n",
      "2020-12-06 23:44:21,951 : INFO : worker thread finished; awaiting finish of 0 more threads\n",
      "2020-12-06 23:44:21,952 : INFO : EPOCH - 27 : training on 0 raw words (0 effective words) took 0.0s, 0 effective words/s\n",
      "2020-12-06 23:44:21,952 : WARNING : EPOCH - 27 : supplied example count (0) did not equal expected count (724)\n",
      "2020-12-06 23:44:21,955 : WARNING : train() called with an empty iterator (if not intended, be sure to provide a corpus that offers restartable iteration = an iterable).\n",
      "2020-12-06 23:44:21,956 : INFO : worker thread finished; awaiting finish of 2 more threads\n",
      "2020-12-06 23:44:21,957 : INFO : worker thread finished; awaiting finish of 1 more threads\n",
      "2020-12-06 23:44:21,957 : INFO : worker thread finished; awaiting finish of 0 more threads\n",
      "2020-12-06 23:44:21,958 : INFO : EPOCH - 28 : training on 0 raw words (0 effective words) took 0.0s, 0 effective words/s\n",
      "2020-12-06 23:44:21,959 : WARNING : EPOCH - 28 : supplied example count (0) did not equal expected count (724)\n",
      "2020-12-06 23:44:21,961 : WARNING : train() called with an empty iterator (if not intended, be sure to provide a corpus that offers restartable iteration = an iterable).\n",
      "2020-12-06 23:44:21,962 : INFO : worker thread finished; awaiting finish of 2 more threads\n",
      "2020-12-06 23:44:21,963 : INFO : worker thread finished; awaiting finish of 1 more threads\n",
      "2020-12-06 23:44:21,964 : INFO : worker thread finished; awaiting finish of 0 more threads\n",
      "2020-12-06 23:44:21,964 : INFO : EPOCH - 29 : training on 0 raw words (0 effective words) took 0.0s, 0 effective words/s\n",
      "2020-12-06 23:44:21,965 : WARNING : EPOCH - 29 : supplied example count (0) did not equal expected count (724)\n",
      "2020-12-06 23:44:21,968 : WARNING : train() called with an empty iterator (if not intended, be sure to provide a corpus that offers restartable iteration = an iterable).\n",
      "2020-12-06 23:44:21,970 : INFO : worker thread finished; awaiting finish of 2 more threads\n",
      "2020-12-06 23:44:21,971 : INFO : worker thread finished; awaiting finish of 1 more threads\n",
      "2020-12-06 23:44:21,972 : INFO : worker thread finished; awaiting finish of 0 more threads\n",
      "2020-12-06 23:44:21,974 : INFO : EPOCH - 30 : training on 0 raw words (0 effective words) took 0.0s, 0 effective words/s\n",
      "2020-12-06 23:44:21,975 : WARNING : EPOCH - 30 : supplied example count (0) did not equal expected count (724)\n",
      "2020-12-06 23:44:21,978 : WARNING : train() called with an empty iterator (if not intended, be sure to provide a corpus that offers restartable iteration = an iterable).\n",
      "2020-12-06 23:44:21,979 : INFO : worker thread finished; awaiting finish of 2 more threads\n",
      "2020-12-06 23:44:21,980 : INFO : worker thread finished; awaiting finish of 1 more threads\n",
      "2020-12-06 23:44:21,980 : INFO : worker thread finished; awaiting finish of 0 more threads\n",
      "2020-12-06 23:44:21,981 : INFO : EPOCH - 31 : training on 0 raw words (0 effective words) took 0.0s, 0 effective words/s\n",
      "2020-12-06 23:44:21,982 : WARNING : EPOCH - 31 : supplied example count (0) did not equal expected count (724)\n",
      "2020-12-06 23:44:21,984 : WARNING : train() called with an empty iterator (if not intended, be sure to provide a corpus that offers restartable iteration = an iterable).\n",
      "2020-12-06 23:44:21,985 : INFO : worker thread finished; awaiting finish of 2 more threads\n",
      "2020-12-06 23:44:21,986 : INFO : worker thread finished; awaiting finish of 1 more threads\n",
      "2020-12-06 23:44:21,987 : INFO : worker thread finished; awaiting finish of 0 more threads\n",
      "2020-12-06 23:44:21,987 : INFO : EPOCH - 32 : training on 0 raw words (0 effective words) took 0.0s, 0 effective words/s\n",
      "2020-12-06 23:44:21,988 : WARNING : EPOCH - 32 : supplied example count (0) did not equal expected count (724)\n",
      "2020-12-06 23:44:21,991 : WARNING : train() called with an empty iterator (if not intended, be sure to provide a corpus that offers restartable iteration = an iterable).\n",
      "2020-12-06 23:44:21,993 : INFO : worker thread finished; awaiting finish of 2 more threads\n",
      "2020-12-06 23:44:21,994 : INFO : worker thread finished; awaiting finish of 1 more threads\n",
      "2020-12-06 23:44:21,995 : INFO : worker thread finished; awaiting finish of 0 more threads\n",
      "2020-12-06 23:44:21,996 : INFO : EPOCH - 33 : training on 0 raw words (0 effective words) took 0.0s, 0 effective words/s\n",
      "2020-12-06 23:44:21,996 : WARNING : EPOCH - 33 : supplied example count (0) did not equal expected count (724)\n",
      "2020-12-06 23:44:22,000 : WARNING : train() called with an empty iterator (if not intended, be sure to provide a corpus that offers restartable iteration = an iterable).\n",
      "2020-12-06 23:44:22,002 : INFO : worker thread finished; awaiting finish of 2 more threads\n",
      "2020-12-06 23:44:22,003 : INFO : worker thread finished; awaiting finish of 1 more threads\n",
      "2020-12-06 23:44:22,004 : INFO : worker thread finished; awaiting finish of 0 more threads\n",
      "2020-12-06 23:44:22,005 : INFO : EPOCH - 34 : training on 0 raw words (0 effective words) took 0.0s, 0 effective words/s\n",
      "2020-12-06 23:44:22,005 : WARNING : EPOCH - 34 : supplied example count (0) did not equal expected count (724)\n",
      "2020-12-06 23:44:22,009 : WARNING : train() called with an empty iterator (if not intended, be sure to provide a corpus that offers restartable iteration = an iterable).\n",
      "2020-12-06 23:44:22,010 : INFO : worker thread finished; awaiting finish of 2 more threads\n",
      "2020-12-06 23:44:22,010 : INFO : worker thread finished; awaiting finish of 1 more threads\n",
      "2020-12-06 23:44:22,011 : INFO : worker thread finished; awaiting finish of 0 more threads\n",
      "2020-12-06 23:44:22,012 : INFO : EPOCH - 35 : training on 0 raw words (0 effective words) took 0.0s, 0 effective words/s\n",
      "2020-12-06 23:44:22,012 : WARNING : EPOCH - 35 : supplied example count (0) did not equal expected count (724)\n",
      "2020-12-06 23:44:22,015 : WARNING : train() called with an empty iterator (if not intended, be sure to provide a corpus that offers restartable iteration = an iterable).\n",
      "2020-12-06 23:44:22,016 : INFO : worker thread finished; awaiting finish of 2 more threads\n",
      "2020-12-06 23:44:22,017 : INFO : worker thread finished; awaiting finish of 1 more threads\n",
      "2020-12-06 23:44:22,017 : INFO : worker thread finished; awaiting finish of 0 more threads\n",
      "2020-12-06 23:44:22,018 : INFO : EPOCH - 36 : training on 0 raw words (0 effective words) took 0.0s, 0 effective words/s\n",
      "2020-12-06 23:44:22,019 : WARNING : EPOCH - 36 : supplied example count (0) did not equal expected count (724)\n",
      "2020-12-06 23:44:22,021 : WARNING : train() called with an empty iterator (if not intended, be sure to provide a corpus that offers restartable iteration = an iterable).\n",
      "2020-12-06 23:44:22,023 : INFO : worker thread finished; awaiting finish of 2 more threads\n",
      "2020-12-06 23:44:22,024 : INFO : worker thread finished; awaiting finish of 1 more threads\n"
     ]
    },
    {
     "name": "stderr",
     "output_type": "stream",
     "text": [
      "2020-12-06 23:44:22,025 : INFO : worker thread finished; awaiting finish of 0 more threads\n",
      "2020-12-06 23:44:22,026 : INFO : EPOCH - 37 : training on 0 raw words (0 effective words) took 0.0s, 0 effective words/s\n",
      "2020-12-06 23:44:22,027 : WARNING : EPOCH - 37 : supplied example count (0) did not equal expected count (724)\n",
      "2020-12-06 23:44:22,029 : WARNING : train() called with an empty iterator (if not intended, be sure to provide a corpus that offers restartable iteration = an iterable).\n",
      "2020-12-06 23:44:22,031 : INFO : worker thread finished; awaiting finish of 2 more threads\n",
      "2020-12-06 23:44:22,032 : INFO : worker thread finished; awaiting finish of 1 more threads\n",
      "2020-12-06 23:44:22,033 : INFO : worker thread finished; awaiting finish of 0 more threads\n",
      "2020-12-06 23:44:22,033 : INFO : EPOCH - 38 : training on 0 raw words (0 effective words) took 0.0s, 0 effective words/s\n",
      "2020-12-06 23:44:22,034 : WARNING : EPOCH - 38 : supplied example count (0) did not equal expected count (724)\n",
      "2020-12-06 23:44:22,037 : WARNING : train() called with an empty iterator (if not intended, be sure to provide a corpus that offers restartable iteration = an iterable).\n",
      "2020-12-06 23:44:22,038 : INFO : worker thread finished; awaiting finish of 2 more threads\n",
      "2020-12-06 23:44:22,039 : INFO : worker thread finished; awaiting finish of 1 more threads\n",
      "2020-12-06 23:44:22,039 : INFO : worker thread finished; awaiting finish of 0 more threads\n",
      "2020-12-06 23:44:22,040 : INFO : EPOCH - 39 : training on 0 raw words (0 effective words) took 0.0s, 0 effective words/s\n",
      "2020-12-06 23:44:22,041 : WARNING : EPOCH - 39 : supplied example count (0) did not equal expected count (724)\n",
      "2020-12-06 23:44:22,044 : WARNING : train() called with an empty iterator (if not intended, be sure to provide a corpus that offers restartable iteration = an iterable).\n",
      "2020-12-06 23:44:22,045 : INFO : worker thread finished; awaiting finish of 2 more threads\n",
      "2020-12-06 23:44:22,046 : INFO : worker thread finished; awaiting finish of 1 more threads\n",
      "2020-12-06 23:44:22,047 : INFO : worker thread finished; awaiting finish of 0 more threads\n",
      "2020-12-06 23:44:22,047 : INFO : EPOCH - 40 : training on 0 raw words (0 effective words) took 0.0s, 0 effective words/s\n",
      "2020-12-06 23:44:22,048 : WARNING : EPOCH - 40 : supplied example count (0) did not equal expected count (724)\n",
      "2020-12-06 23:44:22,049 : INFO : training on a 0 raw words (0 effective words) took 0.3s, 0 effective words/s\n",
      "2020-12-06 23:44:22,049 : WARNING : under 10 jobs per worker: consider setting a smaller `batch_words' for smoother alpha decay\n"
     ]
    }
   ],
   "source": [
    "model.train(train_corpus, total_examples=model.corpus_count, epochs=model.epochs) # train model on train_corpus"
   ]
  },
  {
   "cell_type": "code",
   "execution_count": 15,
   "metadata": {},
   "outputs": [],
   "source": [
    "def vectorize(paragraph):\n",
    "    return model.infer_vector(gensim.utils.simple_preprocess(paragraph))"
   ]
  },
  {
   "cell_type": "code",
   "execution_count": 16,
   "metadata": {},
   "outputs": [],
   "source": [
    "# Add Rank of Each Step in List (starting with zero)\n",
    "def addRank(lyst):\n",
    "    ranked = list()\n",
    "    for index, element in enumerate(lyst):\n",
    "        ranked.append((element, index))\n",
    "    return ranked"
   ]
  },
  {
   "cell_type": "code",
   "execution_count": 17,
   "metadata": {},
   "outputs": [],
   "source": [
    "def inOrder(lyst):\n",
    "    ordered = list()\n",
    "    for element in lyst:\n",
    "        element = list(element)\n",
    "        element.append(element[0][1] < element[1][1])\n",
    "        ordered.append(tuple(element))\n",
    "    return ordered"
   ]
  },
  {
   "cell_type": "code",
   "execution_count": 18,
   "metadata": {},
   "outputs": [],
   "source": [
    "def vectorizeList(lyst):\n",
    "    vector_list = list()\n",
    "    for k in lyst:\n",
    "        vector_list.append(vectorize(k))\n",
    "    return vector_list"
   ]
  },
  {
   "cell_type": "code",
   "execution_count": 19,
   "metadata": {},
   "outputs": [],
   "source": [
    "# Permute list of steps to make all possible pairs of steps\n",
    "def makePairs(lyst):\n",
    "    perms = list(permutations(addRank(lyst), 2))\n",
    "    return inOrder(perms)"
   ]
  },
  {
   "cell_type": "code",
   "execution_count": 20,
   "metadata": {},
   "outputs": [],
   "source": [
    "def makePairsList(wiki, start: int, end: int):\n",
    "    pairslist = list()\n",
    "    for x in range(start, end):\n",
    "        paraAndVector = list()\n",
    "        for k in wikihow[key_list[x]]:\n",
    "            element = list()\n",
    "            element.append(k)\n",
    "            element.append(vectorize(k))\n",
    "            paraAndVector.append(tuple(element))\n",
    "        pairslist+=makePairs(paraAndVector)\n",
    "        paraAndVector.clear()\n",
    "    return pairslist"
   ]
  },
  {
   "cell_type": "code",
   "execution_count": 21,
   "metadata": {},
   "outputs": [],
   "source": [
    "#paraAndVector = list()\n",
    "#for k in wikihow[key_list[0]]:\n",
    "#    element = list()\n",
    "#    element.append(k)\n",
    "#    element.append(vectorize(k))\n",
    "#    paraAndVector.append(tuple(element))"
   ]
  },
  {
   "cell_type": "code",
   "execution_count": 22,
   "metadata": {},
   "outputs": [],
   "source": [
    "#len(paraAndVector)"
   ]
  },
  {
   "cell_type": "code",
   "execution_count": 23,
   "metadata": {},
   "outputs": [],
   "source": [
    "#perms = list(permutations(addRank(paraAndVector), 2))\n",
    "#perms"
   ]
  },
  {
   "cell_type": "code",
   "execution_count": 24,
   "metadata": {},
   "outputs": [],
   "source": [
    "#makePairsList(wikihow, 0, 1)"
   ]
  },
  {
   "cell_type": "code",
   "execution_count": null,
   "metadata": {},
   "outputs": [],
   "source": []
  },
  {
   "cell_type": "code",
   "execution_count": 25,
   "metadata": {},
   "outputs": [],
   "source": [
    "# create training and test sets (1000 and 200 articles each)\n",
    "train_pairs = makePairsList(wikihow, 0, 80)\n",
    "test_pairs = makePairsList(wikihow, 80, 100)"
   ]
  },
  {
   "cell_type": "code",
   "execution_count": null,
   "metadata": {},
   "outputs": [],
   "source": []
  },
  {
   "cell_type": "code",
   "execution_count": null,
   "metadata": {},
   "outputs": [],
   "source": []
  },
  {
   "cell_type": "code",
   "execution_count": 26,
   "metadata": {},
   "outputs": [],
   "source": [
    "random.shuffle(train_pairs)\n",
    "random.shuffle(test_pairs)"
   ]
  },
  {
   "cell_type": "code",
   "execution_count": null,
   "metadata": {},
   "outputs": [],
   "source": []
  },
  {
   "cell_type": "code",
   "execution_count": 27,
   "metadata": {},
   "outputs": [],
   "source": [
    "def splitXY(lyst):\n",
    "    x_data = list()\n",
    "    y_data = list()\n",
    "    for element in lyst:\n",
    "        x_data.append(element[:2])\n",
    "        y_data.append(element[2])\n",
    "    return (x_data, y_data)\n",
    "x, y_train = splitXY(train_pairs)\n",
    "z, y_test = splitXY(test_pairs)"
   ]
  },
  {
   "cell_type": "code",
   "execution_count": 28,
   "metadata": {},
   "outputs": [],
   "source": [
    "def vectorizePair(lyst):\n",
    "    data = list()\n",
    "    for element in lyst:\n",
    "        data.append(list(element[0][0][1]) + list(element[1][0][1]))\n",
    "    return np.array(data)\n",
    "x_train = vectorizePair(x)\n",
    "x_test = vectorizePair(z)"
   ]
  },
  {
   "cell_type": "code",
   "execution_count": 29,
   "metadata": {},
   "outputs": [],
   "source": [
    "from sklearn.model_selection import GridSearchCV\n",
    "param_grid = [\n",
    " {'gamma':['scale'],'kernel': ['linear', 'poly', 'rbf', 'sigmoid'], 'degree': [1, 2, 3, 4], 'C':[1, 5, 20, 50, 70, 100]}\n",
    "]"
   ]
  },
  {
   "cell_type": "code",
   "execution_count": 30,
   "metadata": {},
   "outputs": [],
   "source": [
    "from sklearn.svm import SVC\n",
    "test_svm = SVC()"
   ]
  },
  {
   "cell_type": "code",
   "execution_count": 31,
   "metadata": {},
   "outputs": [],
   "source": [
    "grid_search = GridSearchCV(test_svm, param_grid, cv=5, scoring='accuracy', return_train_score=True)"
   ]
  },
  {
   "cell_type": "code",
   "execution_count": 32,
   "metadata": {},
   "outputs": [
    {
     "data": {
      "text/plain": [
       "GridSearchCV(cv=5, error_score='raise-deprecating',\n",
       "             estimator=SVC(C=1.0, cache_size=200, class_weight=None, coef0=0.0,\n",
       "                           decision_function_shape='ovr', degree=3,\n",
       "                           gamma='auto_deprecated', kernel='rbf', max_iter=-1,\n",
       "                           probability=False, random_state=None, shrinking=True,\n",
       "                           tol=0.001, verbose=False),\n",
       "             iid='warn', n_jobs=None,\n",
       "             param_grid=[{'C': [1, 5, 20, 50, 70, 100], 'degree': [1, 2, 3, 4],\n",
       "                          'gamma': ['scale'],\n",
       "                          'kernel': ['linear', 'poly', 'rbf', 'sigmoid']}],\n",
       "             pre_dispatch='2*n_jobs', refit=True, return_train_score=True,\n",
       "             scoring='accuracy', verbose=0)"
      ]
     },
     "execution_count": 32,
     "metadata": {},
     "output_type": "execute_result"
    }
   ],
   "source": [
    "grid_search.fit(x_train, y_train)"
   ]
  },
  {
   "cell_type": "code",
   "execution_count": 33,
   "metadata": {},
   "outputs": [
    {
     "data": {
      "text/plain": [
       "{'C': 5, 'degree': 4, 'gamma': 'scale', 'kernel': 'poly'}"
      ]
     },
     "execution_count": 33,
     "metadata": {},
     "output_type": "execute_result"
    }
   ],
   "source": [
    "grid_search.best_params_"
   ]
  },
  {
   "cell_type": "code",
   "execution_count": 34,
   "metadata": {},
   "outputs": [
    {
     "data": {
      "text/plain": [
       "SVC(C=5, cache_size=200, class_weight=None, coef0=0.0,\n",
       "    decision_function_shape='ovr', degree=4, gamma='scale', kernel='poly',\n",
       "    max_iter=-1, probability=False, random_state=None, shrinking=True,\n",
       "    tol=0.001, verbose=False)"
      ]
     },
     "execution_count": 34,
     "metadata": {},
     "output_type": "execute_result"
    }
   ],
   "source": [
    "grid_search.best_estimator_"
   ]
  },
  {
   "cell_type": "code",
   "execution_count": 98,
   "metadata": {},
   "outputs": [],
   "source": [
    "from sklearn.svm import SVC\n",
    "from sklearn.pipeline import Pipeline\n",
    "from sklearn.preprocessing import StandardScaler\n",
    "\n",
    "poly_kernel_svm_clf = Pipeline([\n",
    "    (\"scaler\", StandardScaler()),\n",
    "    (\"svm_clf\", SVC(kernel=\"poly\", degree=5, coef0=1, C=5))\n",
    "])"
   ]
  },
  {
   "cell_type": "code",
   "execution_count": 99,
   "metadata": {},
   "outputs": [
    {
     "data": {
      "text/plain": [
       "Pipeline(memory=None,\n",
       "         steps=[('scaler',\n",
       "                 StandardScaler(copy=True, with_mean=True, with_std=True)),\n",
       "                ('svm_clf',\n",
       "                 SVC(C=5, cache_size=200, class_weight=None, coef0=1,\n",
       "                     decision_function_shape='ovr', degree=5,\n",
       "                     gamma='auto_deprecated', kernel='poly', max_iter=-1,\n",
       "                     probability=False, random_state=None, shrinking=True,\n",
       "                     tol=0.001, verbose=False))],\n",
       "         verbose=False)"
      ]
     },
     "execution_count": 99,
     "metadata": {},
     "output_type": "execute_result"
    }
   ],
   "source": [
    "poly_kernel_svm_clf.fit(x_train, y_train)"
   ]
  },
  {
   "cell_type": "code",
   "execution_count": 100,
   "metadata": {},
   "outputs": [
    {
     "data": {
      "text/plain": [
       "array([[2608,  459],\n",
       "       [ 451, 2616]])"
      ]
     },
     "execution_count": 100,
     "metadata": {},
     "output_type": "execute_result"
    }
   ],
   "source": [
    "from sklearn.model_selection import cross_val_predict\n",
    "y_SVM_pred = cross_val_predict(poly_kernel_svm_clf, x_train, y_train, cv=5)\n",
    "\n",
    "# confusion matrix for testing\n",
    "from sklearn.metrics import confusion_matrix \n",
    "confusion_matrix(y_train, y_SVM_pred)"
   ]
  },
  {
   "cell_type": "code",
   "execution_count": 101,
   "metadata": {},
   "outputs": [
    {
     "data": {
      "text/plain": [
       "0.8507317073170731"
      ]
     },
     "execution_count": 101,
     "metadata": {},
     "output_type": "execute_result"
    }
   ],
   "source": [
    "from sklearn.metrics import precision_score, recall_score\n",
    "precision_score(y_train, y_SVM_pred) "
   ]
  },
  {
   "cell_type": "code",
   "execution_count": 102,
   "metadata": {},
   "outputs": [
    {
     "data": {
      "text/plain": [
       "0.8529507662210629"
      ]
     },
     "execution_count": 102,
     "metadata": {},
     "output_type": "execute_result"
    }
   ],
   "source": [
    "recall_score(y_train, y_SVM_pred)"
   ]
  },
  {
   "cell_type": "code",
   "execution_count": 103,
   "metadata": {},
   "outputs": [],
   "source": [
    "y_SVM_test = poly_kernel_svm_clf.predict(x_test)"
   ]
  },
  {
   "cell_type": "code",
   "execution_count": 104,
   "metadata": {},
   "outputs": [
    {
     "data": {
      "text/plain": [
       "array([[287, 241],\n",
       "       [241, 287]])"
      ]
     },
     "execution_count": 104,
     "metadata": {},
     "output_type": "execute_result"
    }
   ],
   "source": [
    "confusion_matrix(y_test, y_SVM_test)"
   ]
  },
  {
   "cell_type": "code",
   "execution_count": 105,
   "metadata": {},
   "outputs": [
    {
     "data": {
      "text/plain": [
       "0.5435606060606061"
      ]
     },
     "execution_count": 105,
     "metadata": {},
     "output_type": "execute_result"
    }
   ],
   "source": [
    "precision_score(y_test, y_SVM_test)"
   ]
  },
  {
   "cell_type": "code",
   "execution_count": 106,
   "metadata": {},
   "outputs": [
    {
     "data": {
      "text/plain": [
       "0.5435606060606061"
      ]
     },
     "execution_count": 106,
     "metadata": {},
     "output_type": "execute_result"
    }
   ],
   "source": [
    "recall_score(y_test, y_SVM_test)"
   ]
  },
  {
   "cell_type": "code",
   "execution_count": null,
   "metadata": {},
   "outputs": [],
   "source": []
  },
  {
   "cell_type": "code",
   "execution_count": null,
   "metadata": {},
   "outputs": [],
   "source": []
  },
  {
   "cell_type": "code",
   "execution_count": null,
   "metadata": {},
   "outputs": [],
   "source": []
  }
 ],
 "metadata": {
  "kernelspec": {
   "display_name": "Python 3",
   "language": "python",
   "name": "python3"
  },
  "language_info": {
   "codemirror_mode": {
    "name": "ipython",
    "version": 3
   },
   "file_extension": ".py",
   "mimetype": "text/x-python",
   "name": "python",
   "nbconvert_exporter": "python",
   "pygments_lexer": "ipython3",
   "version": "3.7.4"
  }
 },
 "nbformat": 4,
 "nbformat_minor": 2
}
